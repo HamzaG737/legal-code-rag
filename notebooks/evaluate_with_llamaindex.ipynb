{
 "cells": [
  {
   "cell_type": "code",
   "execution_count": 1,
   "metadata": {},
   "outputs": [],
   "source": [
    "from query.query_engine import create_query_engine\n",
    "from query.routing import create_routing_engine\n",
    "from evaluation.eval_with_llamaindex import evaluate, evaluate_multiple_experiments\n",
    "\n",
    "from loguru import logger\n",
    "from pprint import pprint\n",
    "import pandas as pd\n",
    "import nest_asyncio\n",
    "nest_asyncio.apply()\n",
    "import sys\n",
    "import os\n",
    "\n",
    "#set level of logging\n",
    "logger.remove()\n",
    "logger.add(sys.stderr, level=\"INFO\")\n",
    "os.chdir(\"..\")"
   ]
  },
  {
   "cell_type": "markdown",
   "metadata": {},
   "source": [
    "# BASIC RAG"
   ]
  },
  {
   "cell_type": "code",
   "execution_count": null,
   "metadata": {},
   "outputs": [],
   "source": [
    "query_engine = create_query_engine()\n",
    "\n",
    "response = query_engine.query(\"What are the conditions required for a marriage to be considered valid in France?\")\n",
    "\n",
    "print(response)"
   ]
  },
  {
   "cell_type": "markdown",
   "metadata": {},
   "source": [
    "# Embeddings evaluation"
   ]
  },
  {
   "cell_type": "code",
   "execution_count": null,
   "metadata": {},
   "outputs": [],
   "source": [
    "query_engine_fastembed = create_query_engine(embedding_model=\"intfloat/multilingual-e5-large\")\n",
    "query_engine_mistral = create_query_engine(embedding_model=\"mistral-embed\")\n",
    "query_engine_ada = create_query_engine(embedding_model=\"text-embedding-ada-002\")"
   ]
  },
  {
   "cell_type": "code",
   "execution_count": null,
   "metadata": {},
   "outputs": [],
   "source": [
    "exp_to_query_engine = {\n",
    "    \"mistral_embed\": query_engine_mistral,\n",
    "    \"fastembed\": query_engine_fastembed,\n",
    "    \"ada\": query_engine_ada,\n",
    "}\n",
    "\n",
    "scores_df, deeps_df = evaluate_multiple_experiments(\n",
    "    experiment_to_query_engine=exp_to_query_engine,\n",
    "    general_exp_name=\"embeddings\",\n",
    "    list_metrics=[\"context_relevancy\"],\n",
    "    code_name=\"code_civil\"\n",
    ")\n"
   ]
  },
  {
   "cell_type": "markdown",
   "metadata": {},
   "source": [
    "#  Nodes window"
   ]
  },
  {
   "cell_type": "markdown",
   "metadata": {},
   "source": [
    "## 1. Evaluate context relevancy"
   ]
  },
  {
   "cell_type": "code",
   "execution_count": null,
   "metadata": {},
   "outputs": [],
   "source": [
    "query_engine_window_1 = create_query_engine(use_window_nodes=True, nodes_window_size=1, recreate_collection=True)\n",
    "query_engine_window_3 = create_query_engine(use_window_nodes=True, nodes_window_size=3, recreate_collection=True)"
   ]
  },
  {
   "cell_type": "code",
   "execution_count": null,
   "metadata": {},
   "outputs": [],
   "source": [
    "from llama_index.core.schema import MetadataMode\n",
    "\n",
    "experiment_to_query_engine = {\n",
    "    \"window_1\": query_engine_window_1,\n",
    "    \"window_3\": query_engine_window_3,\n",
    "}\n",
    "mean_scores_df, deep_dfs = evaluate_multiple_experiments(\n",
    "    experiment_to_query_engine=experiment_to_query_engine,\n",
    "    list_metrics=[\"context_relevancy\"],\n",
    "    general_exp_name=\"window\",\n",
    "    code_name=\"code_civil\",\n",
    "    metadata_mode=MetadataMode.NONE,\n",
    ")\n"
   ]
  },
  {
   "cell_type": "markdown",
   "metadata": {},
   "source": [
    "## 2. evaluate faithfulness"
   ]
  },
  {
   "cell_type": "code",
   "execution_count": null,
   "metadata": {},
   "outputs": [],
   "source": [
    "query_engine_base = create_query_engine()\n",
    "query_engine_window_3 = create_query_engine(use_window_nodes=True, nodes_window_size=3)"
   ]
  },
  {
   "cell_type": "code",
   "execution_count": null,
   "metadata": {},
   "outputs": [],
   "source": [
    "experiment_to_query_engine = {\n",
    "    \"base\": query_engine_base,\n",
    "    \"window_3\": query_engine_window_3,\n",
    "}\n",
    "mean_scores_df, deep_dfs = evaluate_multiple_experiments(\n",
    "    experiment_to_query_engine=experiment_to_query_engine,\n",
    "    list_metrics=[\"faithfulness\"],\n",
    "    general_exp_name=\"window_faithfulness\",\n",
    "    code_name=\"code_civil\",\n",
    ")"
   ]
  },
  {
   "cell_type": "markdown",
   "metadata": {},
   "source": [
    "# Hybrid search"
   ]
  },
  {
   "cell_type": "code",
   "execution_count": null,
   "metadata": {},
   "outputs": [],
   "source": [
    "query_engine_hybrid_search_alpha_0_5 = create_query_engine(hybrid_search=True, sparse_top_k=5)\n",
    "query_engine_hybrid_search_alpha_0_2 = create_query_engine(hybrid_search=True, sparse_top_k=5, hybrid_search_alpha=0.2)\n",
    "query_engine_hybrid_search_alpha_0_8 = create_query_engine(hybrid_search=True, sparse_top_k=5, hybrid_search_alpha=0.8)"
   ]
  },
  {
   "cell_type": "code",
   "execution_count": null,
   "metadata": {},
   "outputs": [],
   "source": [
    "experiment_to_query_engine = {\n",
    "    \"alpha_0_5\": query_engine_hybrid_search_alpha_0_5,\n",
    "    \"alpha_0_2\": query_engine_hybrid_search_alpha_0_2,\n",
    "    \"alpha_0_8\": query_engine_hybrid_search_alpha_0_8,\n",
    "}\n",
    "\n",
    "\n",
    "mean_scores_df, deep_dfs = evaluate_multiple_experiments(\n",
    "    experiment_to_query_engine=experiment_to_query_engine,\n",
    "    list_metrics=[\"faithfulness\", \"context_relevancy\"],\n",
    "    general_exp_name=\"hybrid_search\",\n",
    "    code_name=\"code_civil\",\n",
    ")"
   ]
  },
  {
   "cell_type": "markdown",
   "metadata": {},
   "source": [
    "# Query rewriting"
   ]
  },
  {
   "cell_type": "code",
   "execution_count": null,
   "metadata": {},
   "outputs": [],
   "source": [
    "query_engine_base = create_query_engine(hybrid_search=True, \n",
    "                                     sparse_top_k=5, \n",
    "                                     hybrid_search_alpha=0.8)\n",
    "\n",
    "query_engine_rewriter = create_query_engine(query_rewrite=True, \n",
    "                                     hybrid_search=True, \n",
    "                                     sparse_top_k=5, \n",
    "                                     hybrid_search_alpha=0.8)"
   ]
  },
  {
   "cell_type": "code",
   "execution_count": null,
   "metadata": {},
   "outputs": [],
   "source": [
    "experiment_to_query_engine = {\n",
    "    \"base\": query_engine_base,\n",
    "    \"rewriting_query\": query_engine_rewriter,\n",
    "}\n",
    "mean_scores_df, deep_dfs = evaluate_multiple_experiments(\n",
    "    experiment_to_query_engine=experiment_to_query_engine,\n",
    "    list_metrics=[\"faithfulness\", \"answer_relevancy\"],\n",
    "    general_exp_name=\"query_rewriting\",\n",
    "    code_name=\"code_civil\",\n",
    ")"
   ]
  },
  {
   "cell_type": "markdown",
   "metadata": {},
   "source": [
    "# Routing"
   ]
  },
  {
   "cell_type": "code",
   "execution_count": null,
   "metadata": {},
   "outputs": [],
   "source": [
    "routing_query_engine = create_routing_engine()"
   ]
  },
  {
   "cell_type": "code",
   "execution_count": 4,
   "metadata": {},
   "outputs": [],
   "source": [
    "question = \"Quelles sont les conditions pour bénéficier d'un congé sabbatique \\n Comment sont imposées les plus-values immobilières\"\n",
    "res = routing_query_engine.query(question)\n",
    "res"
   ]
  }
 ],
 "metadata": {
  "kernelspec": {
   "display_name": "rag",
   "language": "python",
   "name": "python3"
  },
  "language_info": {
   "codemirror_mode": {
    "name": "ipython",
    "version": 3
   },
   "file_extension": ".py",
   "mimetype": "text/x-python",
   "name": "python",
   "nbconvert_exporter": "python",
   "pygments_lexer": "ipython3",
   "version": "3.11.8"
  }
 },
 "nbformat": 4,
 "nbformat_minor": 2
}
