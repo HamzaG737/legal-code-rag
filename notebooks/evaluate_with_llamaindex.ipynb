{
 "cells": [
  {
   "cell_type": "code",
   "execution_count": 1,
   "metadata": {},
   "outputs": [],
   "source": [
    "from query.query_engine import create_query_engine\n",
    "from query.routing import create_routing_engine\n",
    "from evaluation.eval_with_llamaindex import evaluate, evaluate_multiple_experiments\n",
    "\n",
    "from loguru import logger\n",
    "from pprint import pprint\n",
    "import pandas as pd\n",
    "import nest_asyncio\n",
    "nest_asyncio.apply()\n",
    "import sys\n",
    "import os\n",
    "\n",
    "#set level of logging\n",
    "logger.remove()\n",
    "logger.add(sys.stderr, level=\"INFO\")\n",
    "os.chdir(\"..\")"
   ]
  },
  {
   "cell_type": "code",
   "execution_count": 2,
   "metadata": {},
   "outputs": [
    {
     "name": "stderr",
     "output_type": "stream",
     "text": [
      "\u001b[32m2024-04-06 20:36:44.863\u001b[0m | \u001b[1mINFO    \u001b[0m | \u001b[36mretriever.get_retriever\u001b[0m:\u001b[36mindex_nodes\u001b[0m:\u001b[36m97\u001b[0m - \u001b[1mCreating text nodes ...\u001b[0m\n",
      "\u001b[32m2024-04-06 20:36:44.883\u001b[0m | \u001b[1mINFO    \u001b[0m | \u001b[36mdata_ingestion.nodes_processing\u001b[0m:\u001b[36m_chunk_long_articles\u001b[0m:\u001b[36m107\u001b[0m - \u001b[1mTruncated 0 articles into smaller chunks.\u001b[0m\n",
      "\u001b[32m2024-04-06 20:36:44.928\u001b[0m | \u001b[1mINFO    \u001b[0m | \u001b[36mretriever.get_retriever\u001b[0m:\u001b[36mindex_nodes\u001b[0m:\u001b[36m108\u001b[0m - \u001b[1mText nodes creation finished.\u001b[0m\n",
      "\u001b[32m2024-04-06 20:36:44.929\u001b[0m | \u001b[1mINFO    \u001b[0m | \u001b[36mretriever.get_retriever\u001b[0m:\u001b[36mindex_given_nodes\u001b[0m:\u001b[36m39\u001b[0m - \u001b[1mCollection name: Code_civil_base_text-embedding-ada-002\u001b[0m\n",
      "\u001b[32m2024-04-06 20:36:44.952\u001b[0m | \u001b[1mINFO    \u001b[0m | \u001b[36mretriever.get_retriever\u001b[0m:\u001b[36mindex_given_nodes\u001b[0m:\u001b[36m46\u001b[0m - \u001b[1mFound 2882 nodes in the collection.\u001b[0m\n",
      "\u001b[32m2024-04-06 20:36:44.953\u001b[0m | \u001b[1mINFO    \u001b[0m | \u001b[36mretriever.get_retriever\u001b[0m:\u001b[36mindex_given_nodes\u001b[0m:\u001b[36m54\u001b[0m - \u001b[1mFound 2882 nodes in the collection. Using the existing collection.\u001b[0m\n"
     ]
    }
   ],
   "source": [
    "query_engine = create_query_engine()"
   ]
  },
  {
   "cell_type": "code",
   "execution_count": 3,
   "metadata": {},
   "outputs": [
    {
     "data": {
      "text/plain": [
       "Response(response=\"Selon le code civil et l'article 796, l'héritier règle le passif de la succession en payant les créanciers inscrits selon le rang de la sûreté assortissant leur créance. Les autres créanciers qui ont déclaré leur créance sont désintéressés dans l'ordre des déclarations, et les legs de sommes d'argent sont délivrés après paiement des créanciers.\", source_nodes=[NodeWithScore(node=TextNode(id_='48515c5d-e618-4809-bc09-4d37d1f37b5c', embedding=None, metadata={'Nom du code': 'Code civil', 'livre': 'Des différentes manières dont on acquiert la propriété', 'titre': 'Des successions', 'chapitre': \"De l'option de l'héritier\", 'section': \"De l'acceptation de la succession à concurrence de l'actif net.\", 'paragraphe': \"Des effets de l'acceptation de la succession à concurrence de l'actif net.\", 'id': '796', 'Article numero': '796'}, excluded_embed_metadata_keys=[], excluded_llm_metadata_keys=[], relationships={}, text=\"L'héritier règle le passif de la succession.\\nIl paye les créanciers inscrits selon le rang de la sûreté assortissant leur créance.\\nLes autres créanciers qui ont déclaré leur créance sont désintéressés dans l'ordre des déclarations.\\nLes legs de sommes d'argent sont délivrés après paiement des créanciers.\", start_char_idx=None, end_char_idx=None, text_template='{metadata_str}\\n\\n{content}', metadata_template='{key}: {value}', metadata_seperator='\\n'), score=0.83763397), NodeWithScore(node=TextNode(id_='8029f9fe-1e94-437e-902e-63e90efdbfe7', embedding=None, metadata={'Nom du code': 'Code civil', 'livre': 'Des différentes manières dont on acquiert la propriété', 'titre': 'Des successions', 'chapitre': 'Des héritiers.', 'section': \"Des droits des parents en l'absence de conjoint successible.\", 'paragraphe': 'Des degrés.', 'id': '744', 'Article numero': '744'}, excluded_embed_metadata_keys=[], excluded_llm_metadata_keys=[], relationships={}, text=\"Dans chaque ordre, l'héritier le plus proche exclut l'héritier plus éloigné en degré.\\nA égalité de degré, les héritiers succèdent par égale portion et par tête.\\nLe tout sauf ce qui sera dit ci-après de la division par branches et de la représentation.\", start_char_idx=None, end_char_idx=None, text_template='{metadata_str}\\n\\n{content}', metadata_template='{key}: {value}', metadata_seperator='\\n'), score=0.8370386), NodeWithScore(node=TextNode(id_='f622a276-7b53-431e-b16d-c14867f4cccb', embedding=None, metadata={'Nom du code': 'Code civil', 'livre': 'Des différentes manières dont on acquiert la propriété', 'titre': 'Des successions', 'chapitre': 'Du partage.', 'section': 'Du rapport des libéralités.', 'id': '862', 'Article numero': '862'}, excluded_embed_metadata_keys=[], excluded_llm_metadata_keys=[], relationships={}, text=\"Le cohéritier qui fait le rapport en nature peut retenir la possession du bien donné jusqu'au remboursement effectif des sommes qui lui sont dues pour dépenses ou améliorations.\", start_char_idx=None, end_char_idx=None, text_template='{metadata_str}\\n\\n{content}', metadata_template='{key}: {value}', metadata_seperator='\\n'), score=0.83627486), NodeWithScore(node=TextNode(id_='49439e88-e697-4721-bf91-072cac7b1c42', embedding=None, metadata={'Nom du code': 'Code civil', 'livre': 'Des différentes manières dont on acquiert la propriété', 'titre': 'Des successions', 'chapitre': 'Du partage.', 'section': 'Du rapport des libéralités.', 'id': '859', 'Article numero': '859'}, excluded_embed_metadata_keys=[], excluded_llm_metadata_keys=[], relationships={}, text=\"L'héritier a aussi la faculté de rapporter en nature le bien donné qui lui appartient encore à condition que ce bien soit libre de toute charge ou occupation dont il n'aurait pas déjà été grevé à l'époque de la donation.\", start_char_idx=None, end_char_idx=None, text_template='{metadata_str}\\n\\n{content}', metadata_template='{key}: {value}', metadata_seperator='\\n'), score=0.8348006), NodeWithScore(node=TextNode(id_='8b6795a9-229c-4274-9026-8b73dc32a554', embedding=None, metadata={'Nom du code': 'Code civil', 'livre': 'Des différentes manières dont on acquiert la propriété', 'titre': 'Des successions', 'chapitre': \"De l'option de l'héritier\", 'section': 'Dispositions générales.', 'id': '773', 'Article numero': '773'}, excluded_embed_metadata_keys=[], excluded_llm_metadata_keys=[], relationships={}, text=\"A défaut de sommation, l'héritier conserve la faculté d'opter, s'il n'a pas fait par ailleurs acte d'héritier et s'il n'est pas tenu pour héritier acceptant pur et simple en application des articles 778, 790 ou 800.\", start_char_idx=None, end_char_idx=None, text_template='{metadata_str}\\n\\n{content}', metadata_template='{key}: {value}', metadata_seperator='\\n'), score=0.8343464)], metadata={'48515c5d-e618-4809-bc09-4d37d1f37b5c': {'Nom du code': 'Code civil', 'livre': 'Des différentes manières dont on acquiert la propriété', 'titre': 'Des successions', 'chapitre': \"De l'option de l'héritier\", 'section': \"De l'acceptation de la succession à concurrence de l'actif net.\", 'paragraphe': \"Des effets de l'acceptation de la succession à concurrence de l'actif net.\", 'id': '796', 'Article numero': '796'}, '8029f9fe-1e94-437e-902e-63e90efdbfe7': {'Nom du code': 'Code civil', 'livre': 'Des différentes manières dont on acquiert la propriété', 'titre': 'Des successions', 'chapitre': 'Des héritiers.', 'section': \"Des droits des parents en l'absence de conjoint successible.\", 'paragraphe': 'Des degrés.', 'id': '744', 'Article numero': '744'}, 'f622a276-7b53-431e-b16d-c14867f4cccb': {'Nom du code': 'Code civil', 'livre': 'Des différentes manières dont on acquiert la propriété', 'titre': 'Des successions', 'chapitre': 'Du partage.', 'section': 'Du rapport des libéralités.', 'id': '862', 'Article numero': '862'}, '49439e88-e697-4721-bf91-072cac7b1c42': {'Nom du code': 'Code civil', 'livre': 'Des différentes manières dont on acquiert la propriété', 'titre': 'Des successions', 'chapitre': 'Du partage.', 'section': 'Du rapport des libéralités.', 'id': '859', 'Article numero': '859'}, '8b6795a9-229c-4274-9026-8b73dc32a554': {'Nom du code': 'Code civil', 'livre': 'Des différentes manières dont on acquiert la propriété', 'titre': 'Des successions', 'chapitre': \"De l'option de l'héritier\", 'section': 'Dispositions générales.', 'id': '773', 'Article numero': '773'}})"
      ]
     },
     "execution_count": 3,
     "metadata": {},
     "output_type": "execute_result"
    }
   ],
   "source": [
    "query_engine.query(\"How does the heritage works in the civil code ?\")"
   ]
  },
  {
   "cell_type": "markdown",
   "metadata": {},
   "source": [
    "# Embeddings evaluation"
   ]
  },
  {
   "cell_type": "code",
   "execution_count": 3,
   "metadata": {},
   "outputs": [
    {
     "data": {
      "application/vnd.jupyter.widget-view+json": {
       "model_id": "ff41b5e94ca944458bf83006ce2f397e",
       "version_major": 2,
       "version_minor": 0
      },
      "text/plain": [
       "Fetching 8 files:   0%|          | 0/8 [00:00<?, ?it/s]"
      ]
     },
     "metadata": {},
     "output_type": "display_data"
    },
    {
     "name": "stderr",
     "output_type": "stream",
     "text": [
      "\u001b[32m2024-03-24 17:45:23.676\u001b[0m | \u001b[1mINFO    \u001b[0m | \u001b[36mretriever.get_retriever\u001b[0m:\u001b[36mindex_nodes\u001b[0m:\u001b[36m82\u001b[0m - \u001b[1mCreating text nodes ...\u001b[0m\n",
      "\u001b[32m2024-03-24 17:45:23.696\u001b[0m | \u001b[1mINFO    \u001b[0m | \u001b[36mdata_ingestion.nodes_processing\u001b[0m:\u001b[36m_truncate_long_articles\u001b[0m:\u001b[36m119\u001b[0m - \u001b[1mTruncated 0 articles into smaller chunks.\u001b[0m\n",
      "\u001b[32m2024-03-24 17:45:23.743\u001b[0m | \u001b[1mINFO    \u001b[0m | \u001b[36mretriever.get_retriever\u001b[0m:\u001b[36mindex_nodes\u001b[0m:\u001b[36m93\u001b[0m - \u001b[1mText nodes creation finished.\u001b[0m\n",
      "\u001b[32m2024-03-24 17:45:23.744\u001b[0m | \u001b[1mINFO    \u001b[0m | \u001b[36mretriever.get_retriever\u001b[0m:\u001b[36mindex_given_nodes\u001b[0m:\u001b[36m24\u001b[0m - \u001b[1mCollection name: Code_civil_base_intfloat_multilingual-e5-large\u001b[0m\n",
      "\u001b[32m2024-03-24 17:45:23.781\u001b[0m | \u001b[33m\u001b[1mWARNING \u001b[0m | \u001b[36mretriever.get_retriever\u001b[0m:\u001b[36mindex_given_nodes\u001b[0m:\u001b[36m33\u001b[0m - \u001b[33m\u001b[1mError while counting nodes in the collection : Unexpected Response: 404 (Not Found)\n",
      "Raw response content:\n",
      "b'{\"status\":{\"error\":\"Not found: Collection `Code_civil_base_intfloat_multilingual-e5-large` doesn\\'t exist!\"},\"time\":0.0004615}'Setting count to 0.\u001b[0m\n",
      "\u001b[32m2024-03-24 17:45:23.781\u001b[0m | \u001b[1mINFO    \u001b[0m | \u001b[36mretriever.get_retriever\u001b[0m:\u001b[36mindex_given_nodes\u001b[0m:\u001b[36m51\u001b[0m - \u001b[1mCreating a new index with 2882 nodes. This may take a while.\u001b[0m\n",
      "\u001b[32m2024-03-24 18:07:24.927\u001b[0m | \u001b[1mINFO    \u001b[0m | \u001b[36mretriever.get_retriever\u001b[0m:\u001b[36mindex_nodes\u001b[0m:\u001b[36m82\u001b[0m - \u001b[1mCreating text nodes ...\u001b[0m\n",
      "\u001b[32m2024-03-24 18:07:24.948\u001b[0m | \u001b[1mINFO    \u001b[0m | \u001b[36mdata_ingestion.nodes_processing\u001b[0m:\u001b[36m_truncate_long_articles\u001b[0m:\u001b[36m119\u001b[0m - \u001b[1mTruncated 0 articles into smaller chunks.\u001b[0m\n",
      "\u001b[32m2024-03-24 18:07:25.002\u001b[0m | \u001b[1mINFO    \u001b[0m | \u001b[36mretriever.get_retriever\u001b[0m:\u001b[36mindex_nodes\u001b[0m:\u001b[36m93\u001b[0m - \u001b[1mText nodes creation finished.\u001b[0m\n",
      "\u001b[32m2024-03-24 18:07:25.005\u001b[0m | \u001b[1mINFO    \u001b[0m | \u001b[36mretriever.get_retriever\u001b[0m:\u001b[36mindex_given_nodes\u001b[0m:\u001b[36m24\u001b[0m - \u001b[1mCollection name: Code_civil_base_mistral-embed\u001b[0m\n",
      "\u001b[32m2024-03-24 18:07:25.040\u001b[0m | \u001b[1mINFO    \u001b[0m | \u001b[36mretriever.get_retriever\u001b[0m:\u001b[36mindex_given_nodes\u001b[0m:\u001b[36m31\u001b[0m - \u001b[1mFound 20 nodes in the collection.\u001b[0m\n",
      "\u001b[32m2024-03-24 18:07:25.041\u001b[0m | \u001b[1mINFO    \u001b[0m | \u001b[36mretriever.get_retriever\u001b[0m:\u001b[36mindex_given_nodes\u001b[0m:\u001b[36m51\u001b[0m - \u001b[1mCreating a new index with 2882 nodes. This may take a while.\u001b[0m\n",
      "\u001b[32m2024-03-24 18:11:02.409\u001b[0m | \u001b[1mINFO    \u001b[0m | \u001b[36mretriever.get_retriever\u001b[0m:\u001b[36mindex_nodes\u001b[0m:\u001b[36m82\u001b[0m - \u001b[1mCreating text nodes ...\u001b[0m\n",
      "\u001b[32m2024-03-24 18:11:02.430\u001b[0m | \u001b[1mINFO    \u001b[0m | \u001b[36mdata_ingestion.nodes_processing\u001b[0m:\u001b[36m_truncate_long_articles\u001b[0m:\u001b[36m119\u001b[0m - \u001b[1mTruncated 0 articles into smaller chunks.\u001b[0m\n",
      "\u001b[32m2024-03-24 18:11:02.474\u001b[0m | \u001b[1mINFO    \u001b[0m | \u001b[36mretriever.get_retriever\u001b[0m:\u001b[36mindex_nodes\u001b[0m:\u001b[36m93\u001b[0m - \u001b[1mText nodes creation finished.\u001b[0m\n",
      "\u001b[32m2024-03-24 18:11:02.474\u001b[0m | \u001b[1mINFO    \u001b[0m | \u001b[36mretriever.get_retriever\u001b[0m:\u001b[36mindex_given_nodes\u001b[0m:\u001b[36m24\u001b[0m - \u001b[1mCollection name: Code_civil_base_text-embedding-ada-002\u001b[0m\n",
      "\u001b[32m2024-03-24 18:11:02.488\u001b[0m | \u001b[1mINFO    \u001b[0m | \u001b[36mretriever.get_retriever\u001b[0m:\u001b[36mindex_given_nodes\u001b[0m:\u001b[36m31\u001b[0m - \u001b[1mFound 20 nodes in the collection.\u001b[0m\n",
      "\u001b[32m2024-03-24 18:11:02.488\u001b[0m | \u001b[1mINFO    \u001b[0m | \u001b[36mretriever.get_retriever\u001b[0m:\u001b[36mindex_given_nodes\u001b[0m:\u001b[36m51\u001b[0m - \u001b[1mCreating a new index with 2882 nodes. This may take a while.\u001b[0m\n",
      "huggingface/tokenizers: The current process just got forked, after parallelism has already been used. Disabling parallelism to avoid deadlocks...\n",
      "To disable this warning, you can either:\n",
      "\t- Avoid using `tokenizers` before the fork if possible\n",
      "\t- Explicitly set the environment variable TOKENIZERS_PARALLELISM=(true | false)\n"
     ]
    }
   ],
   "source": [
    "query_engine_fastembed = create_query_engine(embedding_model=\"intfloat/multilingual-e5-large\")\n",
    "query_engine_mistral = create_query_engine(embedding_model=\"mistral-embed\")\n",
    "query_engine_ada = create_query_engine(embedding_model=\"text-embedding-ada-002\")"
   ]
  },
  {
   "cell_type": "code",
   "execution_count": 6,
   "metadata": {},
   "outputs": [
    {
     "name": "stderr",
     "output_type": "stream",
     "text": [
      "\u001b[32m2024-03-24 20:09:09.524\u001b[0m | \u001b[1mINFO    \u001b[0m | \u001b[36mevaluation.eval_with_llamaindex\u001b[0m:\u001b[36mevaluate_multiple_experiments\u001b[0m:\u001b[36m130\u001b[0m - \u001b[1mEvaluating experiment: mistral_embed\u001b[0m\n",
      "100%|██████████| 50/50 [04:25<00:00,  5.31s/it]\n",
      "\u001b[32m2024-03-24 20:13:35.209\u001b[0m | \u001b[1mINFO    \u001b[0m | \u001b[36mevaluation.eval_with_llamaindex\u001b[0m:\u001b[36mevaluate_multiple_experiments\u001b[0m:\u001b[36m130\u001b[0m - \u001b[1mEvaluating experiment: fastembed\u001b[0m\n",
      "100%|██████████| 50/50 [04:01<00:00,  4.84s/it]\n",
      "\u001b[32m2024-03-24 20:17:37.222\u001b[0m | \u001b[1mINFO    \u001b[0m | \u001b[36mevaluation.eval_with_llamaindex\u001b[0m:\u001b[36mevaluate_multiple_experiments\u001b[0m:\u001b[36m130\u001b[0m - \u001b[1mEvaluating experiment: ada\u001b[0m\n",
      "100%|██████████| 50/50 [04:11<00:00,  5.04s/it]\n"
     ]
    }
   ],
   "source": [
    "exp_to_query_engine = {\n",
    "    \"mistral_embed\": query_engine_mistral,\n",
    "    \"fastembed\": query_engine_fastembed,\n",
    "    \"ada\": query_engine_ada,\n",
    "}\n",
    "\n",
    "scores_df, deeps_df = evaluate_multiple_experiments(\n",
    "    experiment_to_query_engine=exp_to_query_engine,\n",
    "    general_exp_name=\"embeddings\",\n",
    "    list_metrics=[\"context_relevancy\"],\n",
    "    code_name=\"code_civil\"\n",
    ")\n"
   ]
  },
  {
   "cell_type": "code",
   "execution_count": 18,
   "metadata": {},
   "outputs": [],
   "source": [
    "final_df = create_final_csv(scores_df)\n",
    "if not os.path.exists(\"./data/final_results\"):\n",
    "    os.makedirs(\"./data/final_results\")\n",
    "final_df.to_csv(\"./data/final_results/embeddings_experiment.csv\")"
   ]
  },
  {
   "cell_type": "markdown",
   "metadata": {},
   "source": [
    "#  Nodes window"
   ]
  },
  {
   "cell_type": "markdown",
   "metadata": {},
   "source": [
    "## 1. Evaluate context relevancy"
   ]
  },
  {
   "cell_type": "code",
   "execution_count": 2,
   "metadata": {},
   "outputs": [
    {
     "name": "stderr",
     "output_type": "stream",
     "text": [
      "\u001b[32m2024-03-24 22:12:11.136\u001b[0m | \u001b[1mINFO    \u001b[0m | \u001b[36mretriever.get_retriever\u001b[0m:\u001b[36mindex_nodes\u001b[0m:\u001b[36m82\u001b[0m - \u001b[1mCreating text nodes ...\u001b[0m\n",
      "\u001b[32m2024-03-24 22:12:11.161\u001b[0m | \u001b[1mINFO    \u001b[0m | \u001b[36mdata_ingestion.nodes_processing\u001b[0m:\u001b[36m_truncate_long_articles\u001b[0m:\u001b[36m119\u001b[0m - \u001b[1mTruncated 0 articles into smaller chunks.\u001b[0m\n",
      "\u001b[32m2024-03-24 22:12:11.217\u001b[0m | \u001b[1mINFO    \u001b[0m | \u001b[36mdata_ingestion.nodes_processing\u001b[0m:\u001b[36m__post_init__\u001b[0m:\u001b[36m32\u001b[0m - \u001b[1mAdding window nodes ...\u001b[0m\n",
      "Adding window nodes ...: 100%|██████████| 2882/2882 [00:00<00:00, 81041.47it/s]\n",
      "\u001b[32m2024-03-24 22:12:11.268\u001b[0m | \u001b[1mINFO    \u001b[0m | \u001b[36mretriever.get_retriever\u001b[0m:\u001b[36mindex_nodes\u001b[0m:\u001b[36m93\u001b[0m - \u001b[1mText nodes creation finished.\u001b[0m\n",
      "\u001b[32m2024-03-24 22:12:11.269\u001b[0m | \u001b[1mINFO    \u001b[0m | \u001b[36mretriever.get_retriever\u001b[0m:\u001b[36mindex_given_nodes\u001b[0m:\u001b[36m24\u001b[0m - \u001b[1mCollection name: Code_civil_window_text-embedding-ada-002\u001b[0m\n",
      "\u001b[32m2024-03-24 22:12:11.379\u001b[0m | \u001b[33m\u001b[1mWARNING \u001b[0m | \u001b[36mretriever.get_retriever\u001b[0m:\u001b[36mindex_given_nodes\u001b[0m:\u001b[36m33\u001b[0m - \u001b[33m\u001b[1mError while counting nodes in the collection : Unexpected Response: 404 (Not Found)\n",
      "Raw response content:\n",
      "b'{\"status\":{\"error\":\"Not found: Collection `Code_civil_window_text-embedding-ada-002` doesn\\'t exist!\"},\"time\":0.000073334}'Setting count to 0.\u001b[0m\n",
      "\u001b[32m2024-03-24 22:12:11.379\u001b[0m | \u001b[1mINFO    \u001b[0m | \u001b[36mretriever.get_retriever\u001b[0m:\u001b[36mindex_given_nodes\u001b[0m:\u001b[36m51\u001b[0m - \u001b[1mCreating a new index with 2882 nodes. This may take a while.\u001b[0m\n"
     ]
    }
   ],
   "source": [
    "query_engine_window_1 = create_query_engine(use_window_nodes=True, nodes_window_size=1, recreate_collection=True)\n",
    "query_engine_window_3 = create_query_engine(use_window_nodes=True, nodes_window_size=3, recreate_collection=True)"
   ]
  },
  {
   "cell_type": "code",
   "execution_count": 6,
   "metadata": {},
   "outputs": [
    {
     "name": "stderr",
     "output_type": "stream",
     "text": [
      "  0%|          | 0/50 [00:00<?, ?it/s]"
     ]
    },
    {
     "name": "stderr",
     "output_type": "stream",
     "text": [
      "100%|██████████| 50/50 [04:40<00:00,  5.60s/it]\n"
     ]
    }
   ],
   "source": [
    "from llama_index.core.schema import MetadataMode\n",
    "\n",
    "experiment_to_query_engine = {\n",
    "    \"window_1\": query_engine_window_1,\n",
    "    \"window_3\": query_engine_window_3,\n",
    "}\n",
    "mean_scores_df, deep_dfs = evaluate_multiple_experiments(\n",
    "    experiment_to_query_engine=experiment_to_query_engine,\n",
    "    list_metrics=[\"context_relevancy\"],\n",
    "    general_exp_name=\"window\",\n",
    "    code_name=\"code_civil\",\n",
    "    metadata_mode=MetadataMode.NONE,\n",
    ")\n"
   ]
  },
  {
   "cell_type": "markdown",
   "metadata": {},
   "source": [
    "## 2. evaluate faithfulness"
   ]
  },
  {
   "cell_type": "code",
   "execution_count": 2,
   "metadata": {},
   "outputs": [
    {
     "name": "stderr",
     "output_type": "stream",
     "text": [
      "\u001b[32m2024-03-31 21:08:16.861\u001b[0m | \u001b[1mINFO    \u001b[0m | \u001b[36mretriever.get_retriever\u001b[0m:\u001b[36mindex_nodes\u001b[0m:\u001b[36m97\u001b[0m - \u001b[1mCreating text nodes ...\u001b[0m\n",
      "\u001b[32m2024-03-31 21:08:16.890\u001b[0m | \u001b[1mINFO    \u001b[0m | \u001b[36mdata_ingestion.nodes_processing\u001b[0m:\u001b[36m_chunk_long_articles\u001b[0m:\u001b[36m119\u001b[0m - \u001b[1mTruncated 0 articles into smaller chunks.\u001b[0m\n",
      "\u001b[32m2024-03-31 21:08:16.941\u001b[0m | \u001b[1mINFO    \u001b[0m | \u001b[36mretriever.get_retriever\u001b[0m:\u001b[36mindex_nodes\u001b[0m:\u001b[36m108\u001b[0m - \u001b[1mText nodes creation finished.\u001b[0m\n",
      "\u001b[32m2024-03-31 21:08:16.942\u001b[0m | \u001b[1mINFO    \u001b[0m | \u001b[36mretriever.get_retriever\u001b[0m:\u001b[36mindex_given_nodes\u001b[0m:\u001b[36m39\u001b[0m - \u001b[1mCollection name: Code_civil_base_text-embedding-ada-002\u001b[0m\n",
      "\u001b[32m2024-03-31 21:08:16.965\u001b[0m | \u001b[1mINFO    \u001b[0m | \u001b[36mretriever.get_retriever\u001b[0m:\u001b[36mindex_given_nodes\u001b[0m:\u001b[36m46\u001b[0m - \u001b[1mFound 2882 nodes in the collection.\u001b[0m\n",
      "\u001b[32m2024-03-31 21:08:16.966\u001b[0m | \u001b[1mINFO    \u001b[0m | \u001b[36mretriever.get_retriever\u001b[0m:\u001b[36mindex_given_nodes\u001b[0m:\u001b[36m54\u001b[0m - \u001b[1mFound 2882 nodes in the collection. Using the existing collection.\u001b[0m\n",
      "\u001b[32m2024-03-31 21:08:17.213\u001b[0m | \u001b[1mINFO    \u001b[0m | \u001b[36mretriever.get_retriever\u001b[0m:\u001b[36mindex_nodes\u001b[0m:\u001b[36m97\u001b[0m - \u001b[1mCreating text nodes ...\u001b[0m\n",
      "\u001b[32m2024-03-31 21:08:17.228\u001b[0m | \u001b[1mINFO    \u001b[0m | \u001b[36mdata_ingestion.nodes_processing\u001b[0m:\u001b[36m_chunk_long_articles\u001b[0m:\u001b[36m119\u001b[0m - \u001b[1mTruncated 0 articles into smaller chunks.\u001b[0m\n",
      "\u001b[32m2024-03-31 21:08:17.270\u001b[0m | \u001b[1mINFO    \u001b[0m | \u001b[36mdata_ingestion.nodes_processing\u001b[0m:\u001b[36m__post_init__\u001b[0m:\u001b[36m32\u001b[0m - \u001b[1mAdding window nodes ...\u001b[0m\n",
      "Adding window nodes ...: 100%|██████████| 2882/2882 [00:00<00:00, 35794.93it/s]\n",
      "\u001b[32m2024-03-31 21:08:17.363\u001b[0m | \u001b[1mINFO    \u001b[0m | \u001b[36mretriever.get_retriever\u001b[0m:\u001b[36mindex_nodes\u001b[0m:\u001b[36m108\u001b[0m - \u001b[1mText nodes creation finished.\u001b[0m\n",
      "\u001b[32m2024-03-31 21:08:17.363\u001b[0m | \u001b[1mINFO    \u001b[0m | \u001b[36mretriever.get_retriever\u001b[0m:\u001b[36mindex_given_nodes\u001b[0m:\u001b[36m39\u001b[0m - \u001b[1mCollection name: Code_civil_window_text-embedding-ada-002\u001b[0m\n",
      "\u001b[32m2024-03-31 21:08:17.376\u001b[0m | \u001b[1mINFO    \u001b[0m | \u001b[36mretriever.get_retriever\u001b[0m:\u001b[36mindex_given_nodes\u001b[0m:\u001b[36m46\u001b[0m - \u001b[1mFound 2882 nodes in the collection.\u001b[0m\n",
      "\u001b[32m2024-03-31 21:08:17.377\u001b[0m | \u001b[1mINFO    \u001b[0m | \u001b[36mretriever.get_retriever\u001b[0m:\u001b[36mindex_given_nodes\u001b[0m:\u001b[36m54\u001b[0m - \u001b[1mFound 2882 nodes in the collection. Using the existing collection.\u001b[0m\n"
     ]
    }
   ],
   "source": [
    "query_engine_base = create_query_engine()\n",
    "query_engine_window_3 = create_query_engine(use_window_nodes=True, nodes_window_size=3)"
   ]
  },
  {
   "cell_type": "code",
   "execution_count": 3,
   "metadata": {},
   "outputs": [
    {
     "name": "stderr",
     "output_type": "stream",
     "text": [
      "\u001b[32m2024-03-31 21:08:23.929\u001b[0m | \u001b[1mINFO    \u001b[0m | \u001b[36mevaluation.eval_with_llamaindex\u001b[0m:\u001b[36mevaluate_multiple_experiments\u001b[0m:\u001b[36m142\u001b[0m - \u001b[1mEvaluating experiment: base\u001b[0m\n",
      "100%|██████████| 50/50 [02:27<00:00,  2.95s/it]\n",
      "\u001b[32m2024-03-31 21:10:51.628\u001b[0m | \u001b[1mINFO    \u001b[0m | \u001b[36mevaluation.eval_with_llamaindex\u001b[0m:\u001b[36mevaluate_multiple_experiments\u001b[0m:\u001b[36m142\u001b[0m - \u001b[1mEvaluating experiment: window_3\u001b[0m\n",
      "100%|██████████| 50/50 [04:41<00:00,  5.63s/it]\n"
     ]
    }
   ],
   "source": [
    "experiment_to_query_engine = {\n",
    "    \"base\": query_engine_base,\n",
    "    \"window_3\": query_engine_window_3,\n",
    "}\n",
    "mean_scores_df, deep_dfs = evaluate_multiple_experiments(\n",
    "    experiment_to_query_engine=experiment_to_query_engine,\n",
    "    list_metrics=[\"faithfulness\"],\n",
    "    general_exp_name=\"window_faithfulness\",\n",
    "    code_name=\"code_civil\",\n",
    ")"
   ]
  },
  {
   "cell_type": "markdown",
   "metadata": {},
   "source": [
    "# Hybrid search"
   ]
  },
  {
   "cell_type": "code",
   "execution_count": 2,
   "metadata": {},
   "outputs": [
    {
     "name": "stderr",
     "output_type": "stream",
     "text": [
      "\u001b[32m2024-04-01 11:32:57.392\u001b[0m | \u001b[1mINFO    \u001b[0m | \u001b[36mretriever.get_retriever\u001b[0m:\u001b[36mindex_nodes\u001b[0m:\u001b[36m97\u001b[0m - \u001b[1mCreating text nodes ...\u001b[0m\n",
      "\u001b[32m2024-04-01 11:32:57.410\u001b[0m | \u001b[1mINFO    \u001b[0m | \u001b[36mdata_ingestion.nodes_processing\u001b[0m:\u001b[36m_chunk_long_articles\u001b[0m:\u001b[36m119\u001b[0m - \u001b[1mTruncated 0 articles into smaller chunks.\u001b[0m\n",
      "\u001b[32m2024-04-01 11:32:57.453\u001b[0m | \u001b[1mINFO    \u001b[0m | \u001b[36mretriever.get_retriever\u001b[0m:\u001b[36mindex_nodes\u001b[0m:\u001b[36m108\u001b[0m - \u001b[1mText nodes creation finished.\u001b[0m\n",
      "\u001b[32m2024-04-01 11:32:57.454\u001b[0m | \u001b[1mINFO    \u001b[0m | \u001b[36mretriever.get_retriever\u001b[0m:\u001b[36mindex_given_nodes\u001b[0m:\u001b[36m39\u001b[0m - \u001b[1mCollection name: Code_civil_base_hybrid_text-embedding-ada-002\u001b[0m\n",
      "\u001b[32m2024-04-01 11:32:57.466\u001b[0m | \u001b[1mINFO    \u001b[0m | \u001b[36mretriever.get_retriever\u001b[0m:\u001b[36mindex_given_nodes\u001b[0m:\u001b[36m46\u001b[0m - \u001b[1mFound 2882 nodes in the collection.\u001b[0m\n",
      "\u001b[32m2024-04-01 11:32:57.467\u001b[0m | \u001b[1mINFO    \u001b[0m | \u001b[36mretriever.get_retriever\u001b[0m:\u001b[36mindex_given_nodes\u001b[0m:\u001b[36m54\u001b[0m - \u001b[1mFound 2882 nodes in the collection. Using the existing collection.\u001b[0m\n"
     ]
    }
   ],
   "source": [
    "query_engine_hybrid_search_alpha_0_5 = create_query_engine(hybrid_search=True, sparse_top_k=5)\n",
    "query_engine_hybrid_search_alpha_0_2 = create_query_engine(hybrid_search=True, sparse_top_k=5, hybrid_search_alpha=0.2)\n",
    "query_engine_hybrid_search_alpha_0_8 = create_query_engine(hybrid_search=True, sparse_top_k=5, hybrid_search_alpha=0.8)"
   ]
  },
  {
   "cell_type": "markdown",
   "metadata": {},
   "source": [
    "time : 27 minutes"
   ]
  },
  {
   "cell_type": "code",
   "execution_count": 7,
   "metadata": {},
   "outputs": [
    {
     "name": "stderr",
     "output_type": "stream",
     "text": [
      "100%|██████████| 50/50 [02:27<00:00,  2.96s/it]\n",
      "100%|██████████| 50/50 [03:44<00:00,  4.49s/it]\n"
     ]
    }
   ],
   "source": [
    "\n",
    "mean_scores_df, deep_dfs, _ = evaluate(\n",
    "    query_engine=query_engine_hybrid_search_alpha_0_8,\n",
    "    list_metrics=[\"faithfulness\", \"context_relevancy\"],\n",
    "    exp_name=\"hybrid_search\",\n",
    "    code_name=\"code_civil\",\n",
    ")"
   ]
  },
  {
   "cell_type": "markdown",
   "metadata": {},
   "source": [
    "# Query rewriting"
   ]
  },
  {
   "cell_type": "code",
   "execution_count": 2,
   "metadata": {},
   "outputs": [
    {
     "name": "stderr",
     "output_type": "stream",
     "text": [
      "\u001b[32m2024-04-01 16:42:26.808\u001b[0m | \u001b[1mINFO    \u001b[0m | \u001b[36mretriever.get_retriever\u001b[0m:\u001b[36mindex_nodes\u001b[0m:\u001b[36m96\u001b[0m - \u001b[1mCreating text nodes ...\u001b[0m\n",
      "\u001b[32m2024-04-01 16:42:26.826\u001b[0m | \u001b[1mINFO    \u001b[0m | \u001b[36mdata_ingestion.nodes_processing\u001b[0m:\u001b[36m_chunk_long_articles\u001b[0m:\u001b[36m102\u001b[0m - \u001b[1mTruncated 0 articles into smaller chunks.\u001b[0m\n",
      "\u001b[32m2024-04-01 16:42:26.869\u001b[0m | \u001b[1mINFO    \u001b[0m | \u001b[36mretriever.get_retriever\u001b[0m:\u001b[36mindex_nodes\u001b[0m:\u001b[36m106\u001b[0m - \u001b[1mText nodes creation finished.\u001b[0m\n",
      "\u001b[32m2024-04-01 16:42:26.869\u001b[0m | \u001b[1mINFO    \u001b[0m | \u001b[36mretriever.get_retriever\u001b[0m:\u001b[36mindex_given_nodes\u001b[0m:\u001b[36m39\u001b[0m - \u001b[1mCollection name: Code_civil_base_hybrid_text-embedding-ada-002\u001b[0m\n",
      "\u001b[32m2024-04-01 16:42:26.884\u001b[0m | \u001b[1mINFO    \u001b[0m | \u001b[36mretriever.get_retriever\u001b[0m:\u001b[36mindex_given_nodes\u001b[0m:\u001b[36m46\u001b[0m - \u001b[1mFound 2882 nodes in the collection.\u001b[0m\n",
      "\u001b[32m2024-04-01 16:42:26.885\u001b[0m | \u001b[1mINFO    \u001b[0m | \u001b[36mretriever.get_retriever\u001b[0m:\u001b[36mindex_given_nodes\u001b[0m:\u001b[36m54\u001b[0m - \u001b[1mFound 2882 nodes in the collection. Using the existing collection.\u001b[0m\n",
      "\u001b[32m2024-04-01 16:42:28.701\u001b[0m | \u001b[1mINFO    \u001b[0m | \u001b[36mretriever.get_retriever\u001b[0m:\u001b[36mindex_nodes\u001b[0m:\u001b[36m96\u001b[0m - \u001b[1mCreating text nodes ...\u001b[0m\n",
      "\u001b[32m2024-04-01 16:42:28.717\u001b[0m | \u001b[1mINFO    \u001b[0m | \u001b[36mdata_ingestion.nodes_processing\u001b[0m:\u001b[36m_chunk_long_articles\u001b[0m:\u001b[36m102\u001b[0m - \u001b[1mTruncated 0 articles into smaller chunks.\u001b[0m\n",
      "\u001b[32m2024-04-01 16:42:28.760\u001b[0m | \u001b[1mINFO    \u001b[0m | \u001b[36mretriever.get_retriever\u001b[0m:\u001b[36mindex_nodes\u001b[0m:\u001b[36m106\u001b[0m - \u001b[1mText nodes creation finished.\u001b[0m\n",
      "\u001b[32m2024-04-01 16:42:28.761\u001b[0m | \u001b[1mINFO    \u001b[0m | \u001b[36mretriever.get_retriever\u001b[0m:\u001b[36mindex_given_nodes\u001b[0m:\u001b[36m39\u001b[0m - \u001b[1mCollection name: Code_civil_base_hybrid_text-embedding-ada-002\u001b[0m\n",
      "\u001b[32m2024-04-01 16:42:28.772\u001b[0m | \u001b[1mINFO    \u001b[0m | \u001b[36mretriever.get_retriever\u001b[0m:\u001b[36mindex_given_nodes\u001b[0m:\u001b[36m46\u001b[0m - \u001b[1mFound 2882 nodes in the collection.\u001b[0m\n",
      "\u001b[32m2024-04-01 16:42:28.772\u001b[0m | \u001b[1mINFO    \u001b[0m | \u001b[36mretriever.get_retriever\u001b[0m:\u001b[36mindex_given_nodes\u001b[0m:\u001b[36m54\u001b[0m - \u001b[1mFound 2882 nodes in the collection. Using the existing collection.\u001b[0m\n"
     ]
    }
   ],
   "source": [
    "query_engine_base = create_query_engine(hybrid_search=True, \n",
    "                                     sparse_top_k=5, \n",
    "                                     hybrid_search_alpha=0.8)\n",
    "\n",
    "query_engine_rewriter = create_query_engine(query_rewrite=True, \n",
    "                                     hybrid_search=True, \n",
    "                                     sparse_top_k=5, \n",
    "                                     hybrid_search_alpha=0.8)"
   ]
  },
  {
   "cell_type": "code",
   "execution_count": 3,
   "metadata": {},
   "outputs": [
    {
     "name": "stderr",
     "output_type": "stream",
     "text": [
      "\u001b[32m2024-04-01 16:42:33.290\u001b[0m | \u001b[1mINFO    \u001b[0m | \u001b[36mevaluation.eval_with_llamaindex\u001b[0m:\u001b[36mevaluate_multiple_experiments\u001b[0m:\u001b[36m152\u001b[0m - \u001b[1mEvaluating experiment: base\u001b[0m\n",
      "100%|██████████| 50/50 [02:22<00:00,  2.85s/it]\n",
      "100%|██████████| 50/50 [03:25<00:00,  4.12s/it]\n",
      "\u001b[32m2024-04-01 16:48:21.930\u001b[0m | \u001b[1mINFO    \u001b[0m | \u001b[36mevaluation.eval_with_llamaindex\u001b[0m:\u001b[36mevaluate_multiple_experiments\u001b[0m:\u001b[36m152\u001b[0m - \u001b[1mEvaluating experiment: rewriting_query\u001b[0m\n",
      "100%|██████████| 50/50 [04:12<00:00,  5.05s/it]\n",
      "100%|██████████| 50/50 [05:38<00:00,  6.77s/it]\n"
     ]
    }
   ],
   "source": [
    "experiment_to_query_engine = {\n",
    "    \"base\": query_engine_base,\n",
    "    \"rewriting_query\": query_engine_rewriter,\n",
    "}\n",
    "mean_scores_df, deep_dfs = evaluate_multiple_experiments(\n",
    "    experiment_to_query_engine=experiment_to_query_engine,\n",
    "    list_metrics=[\"faithfulness\", \"answer_relevancy\"],\n",
    "    general_exp_name=\"query_rewriting\",\n",
    "    code_name=\"code_civil\",\n",
    ")"
   ]
  },
  {
   "cell_type": "markdown",
   "metadata": {},
   "source": [
    "# Routing"
   ]
  },
  {
   "cell_type": "code",
   "execution_count": 3,
   "metadata": {},
   "outputs": [
    {
     "name": "stderr",
     "output_type": "stream",
     "text": [
      "\u001b[32m2024-04-06 10:29:51.702\u001b[0m | \u001b[1mINFO    \u001b[0m | \u001b[36mretriever.get_retriever\u001b[0m:\u001b[36mindex_nodes\u001b[0m:\u001b[36m96\u001b[0m - \u001b[1mCreating text nodes ...\u001b[0m\n"
     ]
    },
    {
     "name": "stderr",
     "output_type": "stream",
     "text": [
      "\u001b[32m2024-04-06 10:29:51.756\u001b[0m | \u001b[1mINFO    \u001b[0m | \u001b[36mdata_ingestion.nodes_processing\u001b[0m:\u001b[36m_chunk_long_articles\u001b[0m:\u001b[36m102\u001b[0m - \u001b[1mTruncated 0 articles into smaller chunks.\u001b[0m\n",
      "\u001b[32m2024-04-06 10:29:51.808\u001b[0m | \u001b[1mINFO    \u001b[0m | \u001b[36mretriever.get_retriever\u001b[0m:\u001b[36mindex_nodes\u001b[0m:\u001b[36m106\u001b[0m - \u001b[1mText nodes creation finished.\u001b[0m\n",
      "\u001b[32m2024-04-06 10:29:51.808\u001b[0m | \u001b[1mINFO    \u001b[0m | \u001b[36mretriever.get_retriever\u001b[0m:\u001b[36mindex_given_nodes\u001b[0m:\u001b[36m39\u001b[0m - \u001b[1mCollection name: Code_civil_base_text-embedding-ada-002\u001b[0m\n",
      "\u001b[32m2024-04-06 10:29:51.843\u001b[0m | \u001b[1mINFO    \u001b[0m | \u001b[36mretriever.get_retriever\u001b[0m:\u001b[36mindex_given_nodes\u001b[0m:\u001b[36m46\u001b[0m - \u001b[1mFound 2882 nodes in the collection.\u001b[0m\n",
      "\u001b[32m2024-04-06 10:29:51.844\u001b[0m | \u001b[1mINFO    \u001b[0m | \u001b[36mretriever.get_retriever\u001b[0m:\u001b[36mindex_given_nodes\u001b[0m:\u001b[36m54\u001b[0m - \u001b[1mFound 2882 nodes in the collection. Using the existing collection.\u001b[0m\n",
      "\u001b[32m2024-04-06 10:29:52.154\u001b[0m | \u001b[1mINFO    \u001b[0m | \u001b[36mretriever.get_retriever\u001b[0m:\u001b[36mindex_nodes\u001b[0m:\u001b[36m96\u001b[0m - \u001b[1mCreating text nodes ...\u001b[0m\n",
      "\u001b[32m2024-04-06 10:29:52.236\u001b[0m | \u001b[1mINFO    \u001b[0m | \u001b[36mdata_ingestion.nodes_processing\u001b[0m:\u001b[36m_chunk_long_articles\u001b[0m:\u001b[36m102\u001b[0m - \u001b[1mTruncated 49 articles into smaller chunks.\u001b[0m\n",
      "\u001b[32m2024-04-06 10:29:52.286\u001b[0m | \u001b[1mINFO    \u001b[0m | \u001b[36mretriever.get_retriever\u001b[0m:\u001b[36mindex_nodes\u001b[0m:\u001b[36m106\u001b[0m - \u001b[1mText nodes creation finished.\u001b[0m\n",
      "\u001b[32m2024-04-06 10:29:52.287\u001b[0m | \u001b[1mINFO    \u001b[0m | \u001b[36mretriever.get_retriever\u001b[0m:\u001b[36mindex_given_nodes\u001b[0m:\u001b[36m39\u001b[0m - \u001b[1mCollection name: Code_général_des_impôts_base_text-embedding-ada-002\u001b[0m\n",
      "\u001b[32m2024-04-06 10:29:52.303\u001b[0m | \u001b[1mINFO    \u001b[0m | \u001b[36mretriever.get_retriever\u001b[0m:\u001b[36mindex_given_nodes\u001b[0m:\u001b[36m46\u001b[0m - \u001b[1mFound 2970 nodes in the collection.\u001b[0m\n",
      "\u001b[32m2024-04-06 10:29:52.304\u001b[0m | \u001b[1mINFO    \u001b[0m | \u001b[36mretriever.get_retriever\u001b[0m:\u001b[36mindex_given_nodes\u001b[0m:\u001b[36m54\u001b[0m - \u001b[1mFound 2970 nodes in the collection. Using the existing collection.\u001b[0m\n",
      "\u001b[32m2024-04-06 10:29:52.316\u001b[0m | \u001b[1mINFO    \u001b[0m | \u001b[36mretriever.get_retriever\u001b[0m:\u001b[36mindex_nodes\u001b[0m:\u001b[36m96\u001b[0m - \u001b[1mCreating text nodes ...\u001b[0m\n",
      "\u001b[32m2024-04-06 10:29:52.339\u001b[0m | \u001b[1mINFO    \u001b[0m | \u001b[36mdata_ingestion.nodes_processing\u001b[0m:\u001b[36m_chunk_long_articles\u001b[0m:\u001b[36m102\u001b[0m - \u001b[1mTruncated 2 articles into smaller chunks.\u001b[0m\n",
      "\u001b[32m2024-04-06 10:29:52.370\u001b[0m | \u001b[1mINFO    \u001b[0m | \u001b[36mretriever.get_retriever\u001b[0m:\u001b[36mindex_nodes\u001b[0m:\u001b[36m106\u001b[0m - \u001b[1mText nodes creation finished.\u001b[0m\n",
      "\u001b[32m2024-04-06 10:29:52.371\u001b[0m | \u001b[1mINFO    \u001b[0m | \u001b[36mretriever.get_retriever\u001b[0m:\u001b[36mindex_given_nodes\u001b[0m:\u001b[36m39\u001b[0m - \u001b[1mCollection name: Code_de_la_propriété_intellectuelle_base_text-embedding-ada-002\u001b[0m\n",
      "\u001b[32m2024-04-06 10:29:52.384\u001b[0m | \u001b[1mINFO    \u001b[0m | \u001b[36mretriever.get_retriever\u001b[0m:\u001b[36mindex_given_nodes\u001b[0m:\u001b[36m46\u001b[0m - \u001b[1mFound 1918 nodes in the collection.\u001b[0m\n",
      "\u001b[32m2024-04-06 10:29:52.385\u001b[0m | \u001b[1mINFO    \u001b[0m | \u001b[36mretriever.get_retriever\u001b[0m:\u001b[36mindex_given_nodes\u001b[0m:\u001b[36m54\u001b[0m - \u001b[1mFound 1918 nodes in the collection. Using the existing collection.\u001b[0m\n",
      "\u001b[32m2024-04-06 10:29:52.393\u001b[0m | \u001b[1mINFO    \u001b[0m | \u001b[36mretriever.get_retriever\u001b[0m:\u001b[36mindex_nodes\u001b[0m:\u001b[36m96\u001b[0m - \u001b[1mCreating text nodes ...\u001b[0m\n",
      "\u001b[32m2024-04-06 10:29:52.411\u001b[0m | \u001b[1mINFO    \u001b[0m | \u001b[36mdata_ingestion.nodes_processing\u001b[0m:\u001b[36m_chunk_long_articles\u001b[0m:\u001b[36m102\u001b[0m - \u001b[1mTruncated 3 articles into smaller chunks.\u001b[0m\n",
      "\u001b[32m2024-04-06 10:29:52.432\u001b[0m | \u001b[1mINFO    \u001b[0m | \u001b[36mretriever.get_retriever\u001b[0m:\u001b[36mindex_nodes\u001b[0m:\u001b[36m106\u001b[0m - \u001b[1mText nodes creation finished.\u001b[0m\n",
      "\u001b[32m2024-04-06 10:29:52.432\u001b[0m | \u001b[1mINFO    \u001b[0m | \u001b[36mretriever.get_retriever\u001b[0m:\u001b[36mindex_given_nodes\u001b[0m:\u001b[36m39\u001b[0m - \u001b[1mCollection name: Code_de_la_route_base_text-embedding-ada-002\u001b[0m\n",
      "\u001b[32m2024-04-06 10:29:52.443\u001b[0m | \u001b[1mINFO    \u001b[0m | \u001b[36mretriever.get_retriever\u001b[0m:\u001b[36mindex_given_nodes\u001b[0m:\u001b[36m46\u001b[0m - \u001b[1mFound 1194 nodes in the collection.\u001b[0m\n",
      "\u001b[32m2024-04-06 10:29:52.444\u001b[0m | \u001b[1mINFO    \u001b[0m | \u001b[36mretriever.get_retriever\u001b[0m:\u001b[36mindex_given_nodes\u001b[0m:\u001b[36m54\u001b[0m - \u001b[1mFound 1194 nodes in the collection. Using the existing collection.\u001b[0m\n",
      "\u001b[32m2024-04-06 10:29:52.448\u001b[0m | \u001b[1mINFO    \u001b[0m | \u001b[36mretriever.get_retriever\u001b[0m:\u001b[36mindex_nodes\u001b[0m:\u001b[36m96\u001b[0m - \u001b[1mCreating text nodes ...\u001b[0m\n",
      "\u001b[32m2024-04-06 10:29:52.559\u001b[0m | \u001b[1mINFO    \u001b[0m | \u001b[36mdata_ingestion.nodes_processing\u001b[0m:\u001b[36m_chunk_long_articles\u001b[0m:\u001b[36m102\u001b[0m - \u001b[1mTruncated 10 articles into smaller chunks.\u001b[0m\n",
      "\u001b[32m2024-04-06 10:29:52.838\u001b[0m | \u001b[1mINFO    \u001b[0m | \u001b[36mretriever.get_retriever\u001b[0m:\u001b[36mindex_nodes\u001b[0m:\u001b[36m106\u001b[0m - \u001b[1mText nodes creation finished.\u001b[0m\n",
      "\u001b[32m2024-04-06 10:29:52.838\u001b[0m | \u001b[1mINFO    \u001b[0m | \u001b[36mretriever.get_retriever\u001b[0m:\u001b[36mindex_given_nodes\u001b[0m:\u001b[36m39\u001b[0m - \u001b[1mCollection name: Code_du_travail_base_text-embedding-ada-002\u001b[0m\n",
      "\u001b[32m2024-04-06 10:29:52.855\u001b[0m | \u001b[1mINFO    \u001b[0m | \u001b[36mretriever.get_retriever\u001b[0m:\u001b[36mindex_given_nodes\u001b[0m:\u001b[36m46\u001b[0m - \u001b[1mFound 11514 nodes in the collection.\u001b[0m\n",
      "\u001b[32m2024-04-06 10:29:52.855\u001b[0m | \u001b[1mINFO    \u001b[0m | \u001b[36mretriever.get_retriever\u001b[0m:\u001b[36mindex_given_nodes\u001b[0m:\u001b[36m54\u001b[0m - \u001b[1mFound 11514 nodes in the collection. Using the existing collection.\u001b[0m\n"
     ]
    }
   ],
   "source": [
    "routing_query_engine = create_routing_engine()"
   ]
  },
  {
   "cell_type": "code",
   "execution_count": 4,
   "metadata": {},
   "outputs": [],
   "source": [
    "question = \"Quelles sont les conditions pour bénéficier d'un congé sabbatique \\n Comment sont imposées les plus-values immobilières\"\n",
    "res = routing_query_engine.query(question)"
   ]
  },
  {
   "cell_type": "code",
   "execution_count": 6,
   "metadata": {},
   "outputs": [
    {
     "data": {
      "text/plain": [
       "Response(response=\"Pour bénéficier d'un congé sabbatique, le salarié doit justifier d'une ancienneté minimale dans l'entreprise, cumulée sur plusieurs périodes non consécutives, ainsi que de six années d'activité professionnelle. De plus, il ne doit pas avoir bénéficié depuis une durée minimale, dans la même entreprise, d'un congé sabbatique, d'un congé pour création d'entreprise ou d'un congé spécifique d'une durée d'au moins six mois.\\n\\nLes plus-values provenant de la cession en cours d'exploitation des éléments de l'actif immobilisé et réalisées avant l'entrée en vigueur des dispositions spécifiques ne sont pas comprises dans le bénéfice imposable si le contribuable s'engage à réinvestir dans des immobilisations dans son entreprise dans un délai de trois ans.\", source_nodes=[NodeWithScore(node=TextNode(id_='506e8f5a-3d64-4b10-85fc-8764945fa707', embedding=None, metadata={'Nom du code': 'Code du travail', 'livre': 'Durée du travail, repos et congés', 'titre': 'Congés payés et autres congés', 'chapitre': 'Autres congés', 'section': \"Congés d'articulation entre la vie professionnelle et la vie personnelle et familiale\", 'sous-section': 'Congé sabbatique', 'paragraphe': 'Dispositions supplétives', 'id': 'D3142-19', 'Article numero': 'D3142-19'}, excluded_embed_metadata_keys=[], excluded_llm_metadata_keys=[], relationships={}, text=\"A défaut de convention ou d'accord mentionné à l'article L. 3142-32, le salarié informe l'employeur de la date de départ en congé sabbatique qu'il a choisie et de la durée de ce congé, par tout moyen conférant date certaine, au moins trois mois à l'avance.\", start_char_idx=None, end_char_idx=None, text_template='{metadata_str}\\n\\n{content}', metadata_template='{key}: {value}', metadata_seperator='\\n'), score=0.8492816), NodeWithScore(node=TextNode(id_='22a9ef4f-9881-40af-bead-7f935382fc30', embedding=None, metadata={'Nom du code': 'Code du travail', 'livre': 'Durée du travail, repos et congés', 'titre': 'Congés payés et autres congés', 'chapitre': 'Autres congés', 'section': \"Congés d'articulation entre la vie professionnelle et la vie personnelle et familiale\", 'sous-section': 'Congé sabbatique', 'paragraphe': 'Ordre public', 'id': 'D3142-18', 'Article numero': 'D3142-18'}, excluded_embed_metadata_keys=[], excluded_llm_metadata_keys=[], relationships={}, text=\"<p align='left'>L'employeur informe le salarié de son accord sur la date de départ choisie du congé sabbatique ou de son report par tout moyen conférant date certaine.\", start_char_idx=None, end_char_idx=None, text_template='{metadata_str}\\n\\n{content}', metadata_template='{key}: {value}', metadata_seperator='\\n'), score=0.8482746), NodeWithScore(node=TextNode(id_='567914e0-a970-4f56-951b-0238d2de5aac', embedding=None, metadata={'Nom du code': 'Code du travail', 'livre': 'Durée du travail, repos et congés', 'titre': 'Congés payés et autres congés', 'chapitre': 'Autres congés', 'section': \"Congés d'articulation entre la vie professionnelle et la vie personnelle et familiale\", 'sous-section': 'Congé sabbatique', 'paragraphe': 'Dispositions supplétives', 'id': 'D3142-20', 'Article numero': 'D3142-20'}, excluded_embed_metadata_keys=[], excluded_llm_metadata_keys=[], relationships={}, text=\"<p align='left'>A défaut de convention ou d'accord mentionné à l'article L. 3142-32, le départ en congé peut être différé par l'employeur dans les conditions mentionnées au premier alinéa de l'article L. 3142-29, de telle sorte que le pourcentage des salariés simultanément absents de l'entreprise au titre du congé sabbatique ne dépasse pas 1,5 % de l'effectif de cette entreprise, jusqu'à la date à laquelle cette condition de taux est remplie ou que le nombre de jours d'absence au titre du congé sabbatique ne dépasse pas 1,5 % du nombre de jours de travail effectués dans les douze mois précédant le départ en congé. Pour permettre le départ en congé d'un salarié, cette période de douze mois est prolongée dans la limite de quarante-huit mois.\", start_char_idx=None, end_char_idx=None, text_template='{metadata_str}\\n\\n{content}', metadata_template='{key}: {value}', metadata_seperator='\\n'), score=0.8477731), NodeWithScore(node=TextNode(id_='136a5f97-5d17-4b4e-a97a-d139800b0663', embedding=None, metadata={'Nom du code': 'Code du travail', 'livre': 'Durée du travail, repos et congés', 'titre': 'Congés payés et autres congés', 'chapitre': 'Autres congés', 'section': \"Congés d'articulation entre la vie professionnelle et la vie personnelle et familiale\", 'sous-section': 'Congé sabbatique', 'paragraphe': 'Ordre public', 'id': 'L3142-28', 'Article numero': 'L3142-28'}, excluded_embed_metadata_keys=[], excluded_llm_metadata_keys=[], relationships={}, text=\"Le salarié a droit à un congé sabbatique pendant lequel son contrat de travail est suspendu.\\nLe droit à ce congé est ouvert au salarié justifiant, à la date de départ en congé, d'une ancienneté minimale dans l'entreprise, cumulée, le cas échéant, sur plusieurs périodes non consécutives, ainsi que de six années d'activité professionnelle et n'ayant pas bénéficié depuis une durée minimale, dans la même entreprise, d'un congé sabbatique, d'un congé pour création d'entreprise ou d'un congé spécifique mentionné à l'article L. 6323-17-1 d'une durée d'au moins six mois. L'ancienneté acquise dans toute autre entreprise du même groupe, au sens de l'article L. 2331-1, est prise en compte au titre de l'ancienneté dans l'entreprise.\", start_char_idx=None, end_char_idx=None, text_template='{metadata_str}\\n\\n{content}', metadata_template='{key}: {value}', metadata_seperator='\\n'), score=0.8475694), NodeWithScore(node=TextNode(id_='453fdded-a3f1-4658-94bb-9e64fa75d0c6', embedding=None, metadata={'Nom du code': 'Code du travail', 'livre': 'Durée du travail, repos et congés', 'titre': 'Congés payés et autres congés', 'chapitre': 'Autres congés', 'section': \"Congés d'articulation entre la vie professionnelle et la vie personnelle et familiale\", 'sous-section': 'Congé sabbatique', 'paragraphe': 'Ordre public', 'id': 'D3142-14', 'Article numero': 'D3142-14'}, excluded_embed_metadata_keys=[], excluded_llm_metadata_keys=[], relationships={}, text=\"Les délais mentionnés à l'article L. 3142-29, en vue de différer le départ en congé sabbatique d'un salarié, courent à compter de la présentation de la demande prévue à l'article D. 3142-19.\", start_char_idx=None, end_char_idx=None, text_template='{metadata_str}\\n\\n{content}', metadata_template='{key}: {value}', metadata_seperator='\\n'), score=0.8464223), NodeWithScore(node=TextNode(id_='8ad28ed5-9e23-4958-9730-f96e3f492e4f', embedding=None, metadata={'Nom du code': 'Code général des impôts', 'livre': \"Assiette et liquidation de l'impôt\", 'titre': 'Impôts directs et taxes assimilées', 'chapitre': 'Impôt sur les bénéfices des sociétés et autres personnes morales', 'section': 'Détermination du bénéfice imposable', 'id': '210 D', 'Article numero': '210 D'}, excluded_embed_metadata_keys=[], excluded_llm_metadata_keys=[], relationships={}, text=\"Les plus-values que peut faire apparaître une opération visée à l'article 48 de la loi n° 78-763 du 19 juillet 1978 portant statut des sociétés coopératives de production sont imposables au nom de la société coopérative de production dans les conditions suivantes :\\na. Les plus-values afférentes aux immobilisations non amortissables font l'objet d'un report de taxation jusqu'à la cession, à titre onéreux, de ces immobilisations par la société coopérative de production. Ces plus-values sont calculées d'après la valeur qu'avaient, du point de vue fiscal, ces immobilisations dans le bilan de la société transformée ;\\nb. Les plus-values afférentes aux autres immobilisations sont réintégrées, par cinquième, dans les excédents nets de gestion imposables sur une période de cinq ans suivant la transformation. En contrepartie, les amortissements et les plus-values ultérieurs afférents à ces immobilisations sont calculés d'après la valeur qui leur a été attribuée lors de l'opération visée au premier alinéa.\\nL'écart de valorisation mentionné au dernier alinéa de l'article 49 de la loi n° 78-763 du 19 juillet 1978 précitée ne peut donner lieu à aucune déduction au titre de l'exercice de réalisation de l'opération de transformation ou d'un exercice ultérieur.\", start_char_idx=None, end_char_idx=None, text_template='{metadata_str}\\n\\n{content}', metadata_template='{key}: {value}', metadata_seperator='\\n'), score=0.83871824), NodeWithScore(node=TextNode(id_='707581d0-1186-406f-886f-32a6994027bb', embedding=None, metadata={'Nom du code': 'Code général des impôts', 'livre': \"Assiette et liquidation de l'impôt\", 'titre': 'Impôts directs et taxes assimilées', 'chapitre': 'Impôt sur le revenu', 'section': 'Revenus imposables', 'id': '151 quater', 'Article numero': '151 quater'}, excluded_embed_metadata_keys=[], excluded_llm_metadata_keys=[], relationships={}, text=\"Lorsque le bail à construction prévu par les articles L. 251-1 à L. 251-8 du code de la construction et de l'habitation est assorti d'une clause prévoyant le transfert de la propriété du terrain au preneur moyennant le versement d'un supplément de loyer, la plus-value dégagée à l'occasion de la cession du terrain est imposée dans les conditions prévues aux articles 35,150 U, 244 bis et 244 bis A.\\nPour l'application des dispositions de l'article 150 U, le montant de la plus-value nette est déterminé au moment de la signature du bail d'après la valeur du bien à cette date ; la durée de possession pris en compte pour l'établissement de la plus-value est la période comprise entre la date d'acquisition du bien par le bailleur et la date de transfert de propriété en fin de bail.\\nLe montant à ajouter aux revenus des plus-values est revalorisé suivant la même formule d'indexation que le loyer lui-même.\\nLes sommes et prestations de toute nature reçues par le bailleur en payement du prix de cession du terrain ne sont pas soumises au régime défini à l'article 33 bis.\", start_char_idx=None, end_char_idx=None, text_template='{metadata_str}\\n\\n{content}', metadata_template='{key}: {value}', metadata_seperator='\\n'), score=0.83229697), NodeWithScore(node=TextNode(id_='35e925b1-7ba6-49a6-be1a-d65dd5a88faa', embedding=None, metadata={'Nom du code': 'Code général des impôts', 'livre': \"Assiette et liquidation de l'impôt\", 'titre': 'Impôts directs et taxes assimilées', 'chapitre': 'Impôt sur le revenu', 'section': 'Revenus imposables', 'id': '40', 'Article numero': '40'}, excluded_embed_metadata_keys=[], excluded_llm_metadata_keys=[], relationships={}, text=\"I. Sous réserve de ce qui est dit à l'article 238 octies, et par dérogation aux dispositions du 1 de l'article 38, les plus-values provenant de la cession en cours d'exploitation des éléments de l'actif immobilisé et réalisées avant l'entrée en vigueur, dans les conditions fixées par décret en Conseil d'Etat (1), des dispositions des articles 39 duodecies à 39 quindecies A, ne sont pas comprises dans le bénéfice imposable de l'exercice au cours duquel elles ont été réalisées, si le contribuable prend l'engagement de réinvestir en immobilisations dans son entreprise, avant l'expiration d'un délai de trois ans à partir de la clôture de cet exercice, une somme égale au montant de ces plus-values ajoutées au prix de revient des éléments cédés. Toutefois, le remploi ainsi prévu ne peut pas être effectué en l'achat de lingots de métaux précieux et de pièces d'or, en l'acquisition de biens meubles ou immeubles présentant un caractère somptuaire et dont la liste est fixée par décret (2), ni en l'achat ou la souscription d'actions de sociétés d'investissement régies par l'ordonnance n° 45-2710 du 2 novembre 1945.\\nCet engagement de réinvestir doit être annexé à la déclaration des résultats de l'exercice au cours duquel les plus-values ont été réalisées.\\nLes profits réalisés par les entreprises à l'occasion de la concession exclusive de licences d'exploitation de brevets peuvent bénéficier des dispositions ci-dessus lorsque cette concession a pour objet un brevet présentant le caractère d'un élément de l'actif immobilisé au sens de ces dispositions et qu'elle est consentie jusqu'à l'expiration de la durée de validité de ce brevet.\\n2. et 3. (Abrogés).\\n4. Si le remploi est effectué dans le délai prévu au 1, les plus-values distraites du bénéfice imposable sont considérées comme affectées à l'amortissement des nouvelles immobilisations et viennent en déduction du prix de revient pour le calcul des amortissements et des plus-values réalisées ultérieurement.\\nDans le cas contraire, elles sont rapportées au bénéfice imposable de l'exercice au cours duquel a expiré le délai ci-dessus.\\n5. et 6. (Abrogés) (3).\", start_char_idx=None, end_char_idx=None, text_template='{metadata_str}\\n\\n{content}', metadata_template='{key}: {value}', metadata_seperator='\\n'), score=0.82988334), NodeWithScore(node=TextNode(id_='ce80b6f1-de2e-462a-8312-f8b3f9ecefcf', embedding=None, metadata={'Nom du code': 'Code général des impôts', 'livre': \"Assiette et liquidation de l'impôt\", 'titre': 'Impôts directs et taxes assimilées', 'chapitre': 'Impôt sur les bénéfices des sociétés et autres personnes morales', 'section': \"Champ d'application de l'impôt\", 'id': '208 B', 'Article numero': '208 B'}, excluded_embed_metadata_keys=[], excluded_llm_metadata_keys=[], relationships={}, text=\"I. - Les sociétés immobilières d'investissement visées au I de l'article 33 de la loi n° 63-254 du 15 mars 1963 sont exonérées de l'impôt sur les sociétés pour la fraction de leur bénéfice qui provient de la location de leurs immeubles.\\nII. - Lorsque, dans les conditions fixées au I de l'article 11 de la loi de finances pour 1985 n° 84-1208 du 29 décembre 1984, elles détiennent des parts de sociétés civiles constituées à compter du 1er janvier 1985 en vue de construire et de gérer des immeubles affectés à l'habitation à concurrence des trois quarts au moins de leur superficie, les sociétés mentionnées au I sont également exonérées à raison :\\na. De la fraction des bénéfices sociaux correspondant à leurs parts dans ces sociétés civiles et provenant de la location des immeubles ;\\nb. Des produits ou avances qu'elles consentent à ces mêmes sociétés. Toutefois, cette exonération n'est accordée que durant les cinq années qui suivent la création de ces dernières sociétés et pour la fraction des avances qui n'excède pas, pour chaque société civile, deux fois le capital souscrit par la société immobilière d'investissement.\", start_char_idx=None, end_char_idx=None, text_template='{metadata_str}\\n\\n{content}', metadata_template='{key}: {value}', metadata_seperator='\\n'), score=0.82980967), NodeWithScore(node=TextNode(id_='feed5e84-2254-4610-8869-fce8750fb3c2', embedding=None, metadata={'Nom du code': 'Code général des impôts', 'livre': \"Assiette et liquidation de l'impôt\", 'titre': 'Impôts directs et taxes assimilées', 'chapitre': 'Impôt sur le revenu', 'section': 'Revenus imposables', 'id': '39 octodecies', 'Article numero': '39 octodecies'}, excluded_embed_metadata_keys=[], excluded_llm_metadata_keys=[], relationships={}, text=\"I. – Les contribuables qui exercent pour la première fois une option pour un régime réél d'imposition peuvent constater en franchise d'impôt le plus-values acquises, à la date de prise d'effet de cette option, par les éléments non amortissables de leur actif immobilisé.\\nCette constatation doit être faite en comptabilité au plus tard à la clôture du premier exercice pour lequel l'entreprise se trouve soumise à un régime réél d'imposition.\\nII. – En cas de cession ou de cessation de l'exploitation moins de cinq ans après la création ou l'acquisition de l'entreprise, les plus-values imposables afférentes aux éléments visés au I sont obligatoirement calculées en tenant compte du prix de revient d'origine.\", start_char_idx=None, end_char_idx=None, text_template='{metadata_str}\\n\\n{content}', metadata_template='{key}: {value}', metadata_seperator='\\n'), score=0.8295903)], metadata={'selector_result': MultiSelection(selections=[SingleSelection(index=4, reason=\"Le Code du travail regroupe les lois relatives au droit du travail en France, ce qui inclut les conditions pour bénéficier d'un congé sabbatique.\"), SingleSelection(index=1, reason=\"Le Code général des impôts regroupe les lois relatives aux impôts en France, ce qui inclut les règles sur l'imposition des plus-values immobilières.\")])})"
      ]
     },
     "execution_count": 6,
     "metadata": {},
     "output_type": "execute_result"
    }
   ],
   "source": [
    "res"
   ]
  },
  {
   "cell_type": "code",
   "execution_count": 5,
   "metadata": {},
   "outputs": [
    {
     "data": {
      "text/plain": [
       "[NodeWithScore(node=TextNode(id_='506e8f5a-3d64-4b10-85fc-8764945fa707', embedding=None, metadata={'Nom du code': 'Code du travail', 'livre': 'Durée du travail, repos et congés', 'titre': 'Congés payés et autres congés', 'chapitre': 'Autres congés', 'section': \"Congés d'articulation entre la vie professionnelle et la vie personnelle et familiale\", 'sous-section': 'Congé sabbatique', 'paragraphe': 'Dispositions supplétives', 'id': 'D3142-19', 'Article numero': 'D3142-19'}, excluded_embed_metadata_keys=[], excluded_llm_metadata_keys=[], relationships={}, text=\"A défaut de convention ou d'accord mentionné à l'article L. 3142-32, le salarié informe l'employeur de la date de départ en congé sabbatique qu'il a choisie et de la durée de ce congé, par tout moyen conférant date certaine, au moins trois mois à l'avance.\", start_char_idx=None, end_char_idx=None, text_template='{metadata_str}\\n\\n{content}', metadata_template='{key}: {value}', metadata_seperator='\\n'), score=0.8492816),\n",
       " NodeWithScore(node=TextNode(id_='22a9ef4f-9881-40af-bead-7f935382fc30', embedding=None, metadata={'Nom du code': 'Code du travail', 'livre': 'Durée du travail, repos et congés', 'titre': 'Congés payés et autres congés', 'chapitre': 'Autres congés', 'section': \"Congés d'articulation entre la vie professionnelle et la vie personnelle et familiale\", 'sous-section': 'Congé sabbatique', 'paragraphe': 'Ordre public', 'id': 'D3142-18', 'Article numero': 'D3142-18'}, excluded_embed_metadata_keys=[], excluded_llm_metadata_keys=[], relationships={}, text=\"<p align='left'>L'employeur informe le salarié de son accord sur la date de départ choisie du congé sabbatique ou de son report par tout moyen conférant date certaine.\", start_char_idx=None, end_char_idx=None, text_template='{metadata_str}\\n\\n{content}', metadata_template='{key}: {value}', metadata_seperator='\\n'), score=0.8482746),\n",
       " NodeWithScore(node=TextNode(id_='567914e0-a970-4f56-951b-0238d2de5aac', embedding=None, metadata={'Nom du code': 'Code du travail', 'livre': 'Durée du travail, repos et congés', 'titre': 'Congés payés et autres congés', 'chapitre': 'Autres congés', 'section': \"Congés d'articulation entre la vie professionnelle et la vie personnelle et familiale\", 'sous-section': 'Congé sabbatique', 'paragraphe': 'Dispositions supplétives', 'id': 'D3142-20', 'Article numero': 'D3142-20'}, excluded_embed_metadata_keys=[], excluded_llm_metadata_keys=[], relationships={}, text=\"<p align='left'>A défaut de convention ou d'accord mentionné à l'article L. 3142-32, le départ en congé peut être différé par l'employeur dans les conditions mentionnées au premier alinéa de l'article L. 3142-29, de telle sorte que le pourcentage des salariés simultanément absents de l'entreprise au titre du congé sabbatique ne dépasse pas 1,5 % de l'effectif de cette entreprise, jusqu'à la date à laquelle cette condition de taux est remplie ou que le nombre de jours d'absence au titre du congé sabbatique ne dépasse pas 1,5 % du nombre de jours de travail effectués dans les douze mois précédant le départ en congé. Pour permettre le départ en congé d'un salarié, cette période de douze mois est prolongée dans la limite de quarante-huit mois.\", start_char_idx=None, end_char_idx=None, text_template='{metadata_str}\\n\\n{content}', metadata_template='{key}: {value}', metadata_seperator='\\n'), score=0.8477731),\n",
       " NodeWithScore(node=TextNode(id_='136a5f97-5d17-4b4e-a97a-d139800b0663', embedding=None, metadata={'Nom du code': 'Code du travail', 'livre': 'Durée du travail, repos et congés', 'titre': 'Congés payés et autres congés', 'chapitre': 'Autres congés', 'section': \"Congés d'articulation entre la vie professionnelle et la vie personnelle et familiale\", 'sous-section': 'Congé sabbatique', 'paragraphe': 'Ordre public', 'id': 'L3142-28', 'Article numero': 'L3142-28'}, excluded_embed_metadata_keys=[], excluded_llm_metadata_keys=[], relationships={}, text=\"Le salarié a droit à un congé sabbatique pendant lequel son contrat de travail est suspendu.\\nLe droit à ce congé est ouvert au salarié justifiant, à la date de départ en congé, d'une ancienneté minimale dans l'entreprise, cumulée, le cas échéant, sur plusieurs périodes non consécutives, ainsi que de six années d'activité professionnelle et n'ayant pas bénéficié depuis une durée minimale, dans la même entreprise, d'un congé sabbatique, d'un congé pour création d'entreprise ou d'un congé spécifique mentionné à l'article L. 6323-17-1 d'une durée d'au moins six mois. L'ancienneté acquise dans toute autre entreprise du même groupe, au sens de l'article L. 2331-1, est prise en compte au titre de l'ancienneté dans l'entreprise.\", start_char_idx=None, end_char_idx=None, text_template='{metadata_str}\\n\\n{content}', metadata_template='{key}: {value}', metadata_seperator='\\n'), score=0.8475694),\n",
       " NodeWithScore(node=TextNode(id_='453fdded-a3f1-4658-94bb-9e64fa75d0c6', embedding=None, metadata={'Nom du code': 'Code du travail', 'livre': 'Durée du travail, repos et congés', 'titre': 'Congés payés et autres congés', 'chapitre': 'Autres congés', 'section': \"Congés d'articulation entre la vie professionnelle et la vie personnelle et familiale\", 'sous-section': 'Congé sabbatique', 'paragraphe': 'Ordre public', 'id': 'D3142-14', 'Article numero': 'D3142-14'}, excluded_embed_metadata_keys=[], excluded_llm_metadata_keys=[], relationships={}, text=\"Les délais mentionnés à l'article L. 3142-29, en vue de différer le départ en congé sabbatique d'un salarié, courent à compter de la présentation de la demande prévue à l'article D. 3142-19.\", start_char_idx=None, end_char_idx=None, text_template='{metadata_str}\\n\\n{content}', metadata_template='{key}: {value}', metadata_seperator='\\n'), score=0.8464223),\n",
       " NodeWithScore(node=TextNode(id_='8ad28ed5-9e23-4958-9730-f96e3f492e4f', embedding=None, metadata={'Nom du code': 'Code général des impôts', 'livre': \"Assiette et liquidation de l'impôt\", 'titre': 'Impôts directs et taxes assimilées', 'chapitre': 'Impôt sur les bénéfices des sociétés et autres personnes morales', 'section': 'Détermination du bénéfice imposable', 'id': '210 D', 'Article numero': '210 D'}, excluded_embed_metadata_keys=[], excluded_llm_metadata_keys=[], relationships={}, text=\"Les plus-values que peut faire apparaître une opération visée à l'article 48 de la loi n° 78-763 du 19 juillet 1978 portant statut des sociétés coopératives de production sont imposables au nom de la société coopérative de production dans les conditions suivantes :\\na. Les plus-values afférentes aux immobilisations non amortissables font l'objet d'un report de taxation jusqu'à la cession, à titre onéreux, de ces immobilisations par la société coopérative de production. Ces plus-values sont calculées d'après la valeur qu'avaient, du point de vue fiscal, ces immobilisations dans le bilan de la société transformée ;\\nb. Les plus-values afférentes aux autres immobilisations sont réintégrées, par cinquième, dans les excédents nets de gestion imposables sur une période de cinq ans suivant la transformation. En contrepartie, les amortissements et les plus-values ultérieurs afférents à ces immobilisations sont calculés d'après la valeur qui leur a été attribuée lors de l'opération visée au premier alinéa.\\nL'écart de valorisation mentionné au dernier alinéa de l'article 49 de la loi n° 78-763 du 19 juillet 1978 précitée ne peut donner lieu à aucune déduction au titre de l'exercice de réalisation de l'opération de transformation ou d'un exercice ultérieur.\", start_char_idx=None, end_char_idx=None, text_template='{metadata_str}\\n\\n{content}', metadata_template='{key}: {value}', metadata_seperator='\\n'), score=0.83871824),\n",
       " NodeWithScore(node=TextNode(id_='707581d0-1186-406f-886f-32a6994027bb', embedding=None, metadata={'Nom du code': 'Code général des impôts', 'livre': \"Assiette et liquidation de l'impôt\", 'titre': 'Impôts directs et taxes assimilées', 'chapitre': 'Impôt sur le revenu', 'section': 'Revenus imposables', 'id': '151 quater', 'Article numero': '151 quater'}, excluded_embed_metadata_keys=[], excluded_llm_metadata_keys=[], relationships={}, text=\"Lorsque le bail à construction prévu par les articles L. 251-1 à L. 251-8 du code de la construction et de l'habitation est assorti d'une clause prévoyant le transfert de la propriété du terrain au preneur moyennant le versement d'un supplément de loyer, la plus-value dégagée à l'occasion de la cession du terrain est imposée dans les conditions prévues aux articles 35,150 U, 244 bis et 244 bis A.\\nPour l'application des dispositions de l'article 150 U, le montant de la plus-value nette est déterminé au moment de la signature du bail d'après la valeur du bien à cette date ; la durée de possession pris en compte pour l'établissement de la plus-value est la période comprise entre la date d'acquisition du bien par le bailleur et la date de transfert de propriété en fin de bail.\\nLe montant à ajouter aux revenus des plus-values est revalorisé suivant la même formule d'indexation que le loyer lui-même.\\nLes sommes et prestations de toute nature reçues par le bailleur en payement du prix de cession du terrain ne sont pas soumises au régime défini à l'article 33 bis.\", start_char_idx=None, end_char_idx=None, text_template='{metadata_str}\\n\\n{content}', metadata_template='{key}: {value}', metadata_seperator='\\n'), score=0.83229697),\n",
       " NodeWithScore(node=TextNode(id_='35e925b1-7ba6-49a6-be1a-d65dd5a88faa', embedding=None, metadata={'Nom du code': 'Code général des impôts', 'livre': \"Assiette et liquidation de l'impôt\", 'titre': 'Impôts directs et taxes assimilées', 'chapitre': 'Impôt sur le revenu', 'section': 'Revenus imposables', 'id': '40', 'Article numero': '40'}, excluded_embed_metadata_keys=[], excluded_llm_metadata_keys=[], relationships={}, text=\"I. Sous réserve de ce qui est dit à l'article 238 octies, et par dérogation aux dispositions du 1 de l'article 38, les plus-values provenant de la cession en cours d'exploitation des éléments de l'actif immobilisé et réalisées avant l'entrée en vigueur, dans les conditions fixées par décret en Conseil d'Etat (1), des dispositions des articles 39 duodecies à 39 quindecies A, ne sont pas comprises dans le bénéfice imposable de l'exercice au cours duquel elles ont été réalisées, si le contribuable prend l'engagement de réinvestir en immobilisations dans son entreprise, avant l'expiration d'un délai de trois ans à partir de la clôture de cet exercice, une somme égale au montant de ces plus-values ajoutées au prix de revient des éléments cédés. Toutefois, le remploi ainsi prévu ne peut pas être effectué en l'achat de lingots de métaux précieux et de pièces d'or, en l'acquisition de biens meubles ou immeubles présentant un caractère somptuaire et dont la liste est fixée par décret (2), ni en l'achat ou la souscription d'actions de sociétés d'investissement régies par l'ordonnance n° 45-2710 du 2 novembre 1945.\\nCet engagement de réinvestir doit être annexé à la déclaration des résultats de l'exercice au cours duquel les plus-values ont été réalisées.\\nLes profits réalisés par les entreprises à l'occasion de la concession exclusive de licences d'exploitation de brevets peuvent bénéficier des dispositions ci-dessus lorsque cette concession a pour objet un brevet présentant le caractère d'un élément de l'actif immobilisé au sens de ces dispositions et qu'elle est consentie jusqu'à l'expiration de la durée de validité de ce brevet.\\n2. et 3. (Abrogés).\\n4. Si le remploi est effectué dans le délai prévu au 1, les plus-values distraites du bénéfice imposable sont considérées comme affectées à l'amortissement des nouvelles immobilisations et viennent en déduction du prix de revient pour le calcul des amortissements et des plus-values réalisées ultérieurement.\\nDans le cas contraire, elles sont rapportées au bénéfice imposable de l'exercice au cours duquel a expiré le délai ci-dessus.\\n5. et 6. (Abrogés) (3).\", start_char_idx=None, end_char_idx=None, text_template='{metadata_str}\\n\\n{content}', metadata_template='{key}: {value}', metadata_seperator='\\n'), score=0.82988334),\n",
       " NodeWithScore(node=TextNode(id_='ce80b6f1-de2e-462a-8312-f8b3f9ecefcf', embedding=None, metadata={'Nom du code': 'Code général des impôts', 'livre': \"Assiette et liquidation de l'impôt\", 'titre': 'Impôts directs et taxes assimilées', 'chapitre': 'Impôt sur les bénéfices des sociétés et autres personnes morales', 'section': \"Champ d'application de l'impôt\", 'id': '208 B', 'Article numero': '208 B'}, excluded_embed_metadata_keys=[], excluded_llm_metadata_keys=[], relationships={}, text=\"I. - Les sociétés immobilières d'investissement visées au I de l'article 33 de la loi n° 63-254 du 15 mars 1963 sont exonérées de l'impôt sur les sociétés pour la fraction de leur bénéfice qui provient de la location de leurs immeubles.\\nII. - Lorsque, dans les conditions fixées au I de l'article 11 de la loi de finances pour 1985 n° 84-1208 du 29 décembre 1984, elles détiennent des parts de sociétés civiles constituées à compter du 1er janvier 1985 en vue de construire et de gérer des immeubles affectés à l'habitation à concurrence des trois quarts au moins de leur superficie, les sociétés mentionnées au I sont également exonérées à raison :\\na. De la fraction des bénéfices sociaux correspondant à leurs parts dans ces sociétés civiles et provenant de la location des immeubles ;\\nb. Des produits ou avances qu'elles consentent à ces mêmes sociétés. Toutefois, cette exonération n'est accordée que durant les cinq années qui suivent la création de ces dernières sociétés et pour la fraction des avances qui n'excède pas, pour chaque société civile, deux fois le capital souscrit par la société immobilière d'investissement.\", start_char_idx=None, end_char_idx=None, text_template='{metadata_str}\\n\\n{content}', metadata_template='{key}: {value}', metadata_seperator='\\n'), score=0.82980967),\n",
       " NodeWithScore(node=TextNode(id_='feed5e84-2254-4610-8869-fce8750fb3c2', embedding=None, metadata={'Nom du code': 'Code général des impôts', 'livre': \"Assiette et liquidation de l'impôt\", 'titre': 'Impôts directs et taxes assimilées', 'chapitre': 'Impôt sur le revenu', 'section': 'Revenus imposables', 'id': '39 octodecies', 'Article numero': '39 octodecies'}, excluded_embed_metadata_keys=[], excluded_llm_metadata_keys=[], relationships={}, text=\"I. – Les contribuables qui exercent pour la première fois une option pour un régime réél d'imposition peuvent constater en franchise d'impôt le plus-values acquises, à la date de prise d'effet de cette option, par les éléments non amortissables de leur actif immobilisé.\\nCette constatation doit être faite en comptabilité au plus tard à la clôture du premier exercice pour lequel l'entreprise se trouve soumise à un régime réél d'imposition.\\nII. – En cas de cession ou de cessation de l'exploitation moins de cinq ans après la création ou l'acquisition de l'entreprise, les plus-values imposables afférentes aux éléments visés au I sont obligatoirement calculées en tenant compte du prix de revient d'origine.\", start_char_idx=None, end_char_idx=None, text_template='{metadata_str}\\n\\n{content}', metadata_template='{key}: {value}', metadata_seperator='\\n'), score=0.8295903)]"
      ]
     },
     "execution_count": 5,
     "metadata": {},
     "output_type": "execute_result"
    }
   ],
   "source": [
    "res.source_nodes"
   ]
  },
  {
   "cell_type": "code",
   "execution_count": 10,
   "metadata": {},
   "outputs": [
    {
     "data": {
      "text/plain": [
       "\"Les employeurs ont l'obligation de proposer une contrepartie obligatoire en repos aux salariés, qui peut être prise par journée entière ou par demi-journée. Cette contrepartie est assimilée à une période de travail effectif pour le calcul des droits du salarié et ne doit entraîner aucune diminution de rémunération par rapport à celle qu'il aurait perçue s'il avait travaillé. Ces dispositions sont prises en compte dans le calcul des impôts sur les salaires en tant que périodes de travail effectif, ce qui signifie que les salariés ne subissent pas de perte de rémunération lorsqu'ils prennent leur contrepartie obligatoire en repos.\""
      ]
     },
     "execution_count": 10,
     "metadata": {},
     "output_type": "execute_result"
    }
   ],
   "source": [
    "res.response"
   ]
  },
  {
   "cell_type": "markdown",
   "metadata": {},
   "source": [
    "# other"
   ]
  },
  {
   "cell_type": "code",
   "execution_count": null,
   "metadata": {},
   "outputs": [],
   "source": []
  },
  {
   "cell_type": "code",
   "execution_count": 2,
   "metadata": {},
   "outputs": [
    {
     "name": "stderr",
     "output_type": "stream",
     "text": [
      "\u001b[32m2024-04-01 16:20:11.357\u001b[0m | \u001b[1mINFO    \u001b[0m | \u001b[36mretriever.get_retriever\u001b[0m:\u001b[36mindex_nodes\u001b[0m:\u001b[36m97\u001b[0m - \u001b[1mCreating text nodes ...\u001b[0m\n",
      "\u001b[32m2024-04-01 16:20:11.375\u001b[0m | \u001b[1mINFO    \u001b[0m | \u001b[36mdata_ingestion.nodes_processing\u001b[0m:\u001b[36m_chunk_long_articles\u001b[0m:\u001b[36m119\u001b[0m - \u001b[1mTruncated 0 articles into smaller chunks.\u001b[0m\n",
      "\u001b[32m2024-04-01 16:20:11.418\u001b[0m | \u001b[1mINFO    \u001b[0m | \u001b[36mretriever.get_retriever\u001b[0m:\u001b[36mindex_nodes\u001b[0m:\u001b[36m108\u001b[0m - \u001b[1mText nodes creation finished.\u001b[0m\n",
      "\u001b[32m2024-04-01 16:20:11.419\u001b[0m | \u001b[1mINFO    \u001b[0m | \u001b[36mretriever.get_retriever\u001b[0m:\u001b[36mindex_given_nodes\u001b[0m:\u001b[36m39\u001b[0m - \u001b[1mCollection name: Code_civil_base_hybrid_text-embedding-ada-002\u001b[0m\n",
      "\u001b[32m2024-04-01 16:20:11.436\u001b[0m | \u001b[1mINFO    \u001b[0m | \u001b[36mretriever.get_retriever\u001b[0m:\u001b[36mindex_given_nodes\u001b[0m:\u001b[36m46\u001b[0m - \u001b[1mFound 2882 nodes in the collection.\u001b[0m\n",
      "\u001b[32m2024-04-01 16:20:11.437\u001b[0m | \u001b[1mINFO    \u001b[0m | \u001b[36mretriever.get_retriever\u001b[0m:\u001b[36mindex_given_nodes\u001b[0m:\u001b[36m54\u001b[0m - \u001b[1mFound 2882 nodes in the collection. Using the existing collection.\u001b[0m\n"
     ]
    }
   ],
   "source": [
    "query_rewriter = create_query_engine(query_rewrite=True, \n",
    "                                     hybrid_search=True, \n",
    "                                     sparse_top_k=5, \n",
    "                                     hybrid_search_alpha=0.8)"
   ]
  },
  {
   "cell_type": "code",
   "execution_count": 3,
   "metadata": {},
   "outputs": [
    {
     "name": "stdout",
     "output_type": "stream",
     "text": [
      "Generated queries:\n",
      "1. Quelles sont les procédures légales pour refuser un héritage selon le Code civil français?\n",
      "2. Quels sont les droits et obligations d'un héritier qui souhaite renoncer à une succession en France?\n",
      "3. Comment se déroule la renonciation à un héritage en vertu du Code civil français?\n"
     ]
    },
    {
     "data": {
      "text/plain": [
       "Response(response=\"Selon le code civil et l'article 804, la renonciation à une succession ne se présume pas.\", source_nodes=[NodeWithScore(node=TextNode(id_='a7e91b29-16a6-46ff-a755-45d7c8ea7b26', embedding=None, metadata={'Nom du code': 'Code civil', 'livre': 'Des différentes manières dont on acquiert la propriété', 'titre': 'Des successions', 'chapitre': \"De l'option de l'héritier\", 'section': 'De la renonciation à la succession.', 'id': '804', 'Article numero': '804'}, excluded_embed_metadata_keys=[], excluded_llm_metadata_keys=[], relationships={}, text=\"La renonciation à une succession ne se présume pas.\\nPour être opposable aux tiers, la renonciation opérée par l'héritier universel ou à titre universel doit être adressée ou déposée au tribunal dans le ressort duquel la succession s'est ouverte ou faite devant notaire.\\nDans le mois suivant la renonciation, le notaire qui l'a reçue en adresse copie au tribunal dans le ressort duquel la succession s'est ouverte.\", start_char_idx=None, end_char_idx=None, text_template='{metadata_str}\\n\\n{content}', metadata_template='{key}: {value}', metadata_seperator='\\n'), score=0.04972677595628415), NodeWithScore(node=TextNode(id_='c68a32e6-643b-4b74-b576-cc20c54cc847', embedding=None, metadata={'Nom du code': 'Code civil', 'livre': 'Des différentes manières dont on acquiert la propriété', 'titre': 'Des successions', 'chapitre': \"De l'option de l'héritier\", 'section': 'De la renonciation à la succession.', 'id': '806', 'Article numero': '806'}, excluded_embed_metadata_keys=[], excluded_llm_metadata_keys=[], relationships={}, text=\"Le renonçant n'est pas tenu au paiement des dettes et charges de la succession. Toutefois, il est tenu à proportion de ses moyens au paiement des frais funéraires de l'ascendant ou du descendant à la succession duquel il renonce.\", start_char_idx=None, end_char_idx=None, text_template='{metadata_str}\\n\\n{content}', metadata_template='{key}: {value}', metadata_seperator='\\n'), score=0.049189141547682), NodeWithScore(node=TextNode(id_='89ed6909-9720-4d02-875a-a9efe1eec9eb', embedding=None, metadata={'Nom du code': 'Code civil', 'livre': 'Des différentes manières dont on acquiert la propriété', 'titre': 'Des successions', 'chapitre': \"De l'option de l'héritier\", 'section': 'De la renonciation à la succession.', 'id': '807', 'Article numero': '807'}, excluded_embed_metadata_keys=[], excluded_llm_metadata_keys=[], relationships={}, text=\"Tant que la prescription du droit d'accepter n'est pas acquise contre lui, l'héritier peut révoquer sa renonciation en acceptant la succession purement et simplement, si elle n'a pas été déjà acceptée par un autre héritier ou si l'Etat n'a pas déjà été envoyé en possession.\\nCette acceptation rétroagit au jour de l'ouverture de la succession, sans toutefois remettre en cause les droits qui peuvent être acquis à des tiers sur les biens de la succession par prescription ou par actes valablement faits avec le curateur à la succession vacante.\", start_char_idx=None, end_char_idx=None, text_template='{metadata_str}\\n\\n{content}', metadata_template='{key}: {value}', metadata_seperator='\\n'), score=0.03149801587301587), NodeWithScore(node=TextNode(id_='53e974d3-38b8-4b77-96cd-4ecdf5906d68', embedding=None, metadata={'Nom du code': 'Code civil', 'livre': 'Des différentes manières dont on acquiert la propriété', 'titre': 'Des successions', 'chapitre': \"De l'option de l'héritier\", 'section': 'Dispositions générales.', 'id': '779', 'Article numero': '779'}, excluded_embed_metadata_keys=[], excluded_llm_metadata_keys=[], relationships={}, text=\"Les créanciers personnels de celui qui s'abstient d'accepter une succession ou qui renonce à une succession au préjudice de leurs droits peuvent être autorisés en justice à accepter la succession du chef de leur débiteur, en son lieu et place.\\nL'acceptation n'a lieu qu'en faveur de ces créanciers et jusqu'à concurrence de leurs créances. Elle ne produit pas d'autre effet à l'égard de l'héritier.\", start_char_idx=None, end_char_idx=None, text_template='{metadata_str}\\n\\n{content}', metadata_template='{key}: {value}', metadata_seperator='\\n'), score=0.01639344262295082), NodeWithScore(node=TextNode(id_='4c90c855-cf41-4a70-98f5-ab8cccb840b4', embedding=None, metadata={'Nom du code': 'Code civil', 'livre': 'Des différentes manières dont on acquiert la propriété', 'titre': 'Des successions', 'chapitre': 'Des héritiers.', 'section': \"Des droits des parents en l'absence de conjoint successible.\", 'paragraphe': 'De la représentation.', 'id': '754', 'Article numero': '754'}, excluded_embed_metadata_keys=[], excluded_llm_metadata_keys=[], relationships={}, text=\"On représente les prédécédés, on ne représente les renonçants que dans les successions dévolues en ligne directe ou collatérale.\\nLes enfants du renonçant conçus avant l'ouverture de la succession dont le renonçant a été exclu rapportent à la succession de ce dernier les biens dont ils ont hérité en son lieu et place, s'ils viennent en concours avec d'autres enfants conçus après l'ouverture de la succession. Le rapport se fait selon les dispositions énoncées à la section 2 du chapitre VIII du présent titre.\\nSauf volonté contraire du disposant, en cas de représentation d'un renonçant, les donations faites à ce dernier s'imputent, le cas échéant, sur la part de réserve qui aurait dû lui revenir s'il n'avait pas renoncé.\\nOn peut représenter celui à la succession duquel on a renoncé.\", start_char_idx=None, end_char_idx=None, text_template='{metadata_str}\\n\\n{content}', metadata_template='{key}: {value}', metadata_seperator='\\n'), score=0.016129032258064516)], metadata={'a7e91b29-16a6-46ff-a755-45d7c8ea7b26': {'Nom du code': 'Code civil', 'livre': 'Des différentes manières dont on acquiert la propriété', 'titre': 'Des successions', 'chapitre': \"De l'option de l'héritier\", 'section': 'De la renonciation à la succession.', 'id': '804', 'Article numero': '804'}, 'c68a32e6-643b-4b74-b576-cc20c54cc847': {'Nom du code': 'Code civil', 'livre': 'Des différentes manières dont on acquiert la propriété', 'titre': 'Des successions', 'chapitre': \"De l'option de l'héritier\", 'section': 'De la renonciation à la succession.', 'id': '806', 'Article numero': '806'}, '89ed6909-9720-4d02-875a-a9efe1eec9eb': {'Nom du code': 'Code civil', 'livre': 'Des différentes manières dont on acquiert la propriété', 'titre': 'Des successions', 'chapitre': \"De l'option de l'héritier\", 'section': 'De la renonciation à la succession.', 'id': '807', 'Article numero': '807'}, '53e974d3-38b8-4b77-96cd-4ecdf5906d68': {'Nom du code': 'Code civil', 'livre': 'Des différentes manières dont on acquiert la propriété', 'titre': 'Des successions', 'chapitre': \"De l'option de l'héritier\", 'section': 'Dispositions générales.', 'id': '779', 'Article numero': '779'}, '4c90c855-cf41-4a70-98f5-ab8cccb840b4': {'Nom du code': 'Code civil', 'livre': 'Des différentes manières dont on acquiert la propriété', 'titre': 'Des successions', 'chapitre': 'Des héritiers.', 'section': \"Des droits des parents en l'absence de conjoint successible.\", 'paragraphe': 'De la représentation.', 'id': '754', 'Article numero': '754'}})"
      ]
     },
     "execution_count": 3,
     "metadata": {},
     "output_type": "execute_result"
    }
   ],
   "source": [
    "query_engine_rewriter.query(\"Est-ce que je peux refuser un héritage?\")"
   ]
  },
  {
   "cell_type": "code",
   "execution_count": 9,
   "metadata": {},
   "outputs": [],
   "source": [
    "from llama_index.core.evaluation import FaithfulnessEvaluator\n",
    "from llama_index.llms.openai import OpenAI\n",
    "gpt4 = OpenAI(temperature=0, model=\"gpt-4\")\n",
    "\n",
    "evaluator_gpt4 = FaithfulnessEvaluator(llm=gpt4)"
   ]
  },
  {
   "cell_type": "code",
   "execution_count": 10,
   "metadata": {},
   "outputs": [],
   "source": [
    "response_vector = query_engine_window.query(\"How did New York City get its name?\")\n",
    "eval_result = evaluator_gpt4.evaluate_response(response=response_vector)"
   ]
  },
  {
   "cell_type": "code",
   "execution_count": 11,
   "metadata": {},
   "outputs": [
    {
     "data": {
      "text/plain": [
       "EvaluationResult(query=None, contexts=[\"Nom du code: Code civil\\ntitre: De la publication, des effets et de l'application des lois en général\\nid: 2\\nArticle numero: 2\\n\\nLa loi ne dispose que pour l'avenir ; elle n'a point d'effet rétroactif.\\nNom du code: Code civil\\ntitre: De la publication, des effets et de l'application des lois en général\\nid: 3\\nArticle numero: 3\\n\\nLes lois de police et de sûreté obligent tous ceux qui habitent le territoire.\\nLes immeubles, même ceux possédés par des étrangers, sont régis par la loi française.\\nLes lois concernant l'état et la capacité des personnes régissent les Français, même résidant en pays étranger.\\nNom du code: Code civil\\ntitre: De la publication, des effets et de l'application des lois en général\\nid: 4\\nArticle numero: 4\\n\\nLe juge qui refusera de juger, sous prétexte du silence, de l'obscurité ou de l'insuffisance de la loi, pourra être poursuivi comme coupable de déni de justice.\", \"Nom du code: Code civil\\nlivre: Des différentes manières dont on acquiert la propriété\\ntitre: Du contrat de louage\\nchapitre: Du louage d'ouvrage et d'industrie.\\nsection: Des voituriers par terre et par eau.\\nid: 1784\\nArticle numero: 1784\\n\\nIls sont responsables de la perte et des avaries des choses qui leur sont confiées, à moins qu'ils ne prouvent qu'elles ont été perdues et avariées par cas fortuit ou force majeure.\\nNom du code: Code civil\\nlivre: Des différentes manières dont on acquiert la propriété\\ntitre: Du contrat de louage\\nchapitre: Du louage d'ouvrage et d'industrie.\\nsection: Des voituriers par terre et par eau.\\nid: 1785\\nArticle numero: 1785\\n\\nLes entrepreneurs de voitures publiques par terre et par eau, et ceux des roulages publics, doivent tenir registre de l'argent, des effets et des paquets dont ils se chargent.\\nNom du code: Code civil\\nlivre: Des différentes manières dont on acquiert la propriété\\ntitre: Du contrat de louage\\nchapitre: Du louage d'ouvrage et d'industrie.\\nsection: Des voituriers par terre et par eau.\\nid: 1786\\nArticle numero: 1786\\n\\nLes entrepreneurs et directeurs de voitures et roulages publics, les maîtres de barques et navires, sont en outre assujettis à des règlements particuliers, qui font la loi entre eux et les autres citoyens.\", \"Nom du code: Code civil\\nlivre: Des personnes\\ntitre: De la nationalité française\\nchapitre: De l'acquisition de la nationalité française\\nsection: Des modes d'acquisition de la nationalité française\\nparagraphe: De la cérémonie d'accueil dans la citoyenneté française\\nid: 21-28\\nArticle numero: 21-28\\n\\nLe représentant de l'Etat dans le département ou, à Paris, le préfet de police organise, dans un délai de six mois à compter de l'acquisition de la nationalité française, une cérémonie d'accueil dans la citoyenneté française à l'intention des personnes résidant dans le département visées aux articles 21-2, 21-11, 21-12, 21-13-1, 21-13-2, 21-14, 21-14-1, 21-15, 24-1, 24-2 et 32-4 du présent code ainsi qu'à l'article 2 de la loi n° 64-1328 du 26 décembre 1964 autorisant l'approbation de la convention du Conseil de l'Europe sur la réduction des cas de pluralité de nationalités et sur les obligations militaires en cas de pluralité de nationalités, signée à Strasbourg le 6 mai 1963.\\nLes députés et les sénateurs élus dans le département sont invités à la cérémonie d'accueil.\\nLes personnes ayant acquis de plein droit la nationalité française en application de l'article 21-7 sont invitées à cette cérémonie dans un délai de six mois à compter de la délivrance du certificat de nationalité française mentionné à l'article 31.\\nAu cours de la cérémonie d'accueil, la charte des droits et devoirs du citoyen français mentionnée à l'article 21-24 est remise aux personnes ayant acquis la nationalité française visées aux premier et troisième alinéas.\\nNom du code: Code civil\\nlivre: Des personnes\\ntitre: De la nationalité française\\nchapitre: De l'acquisition de la nationalité française\\nsection: Des modes d'acquisition de la nationalité française\\nparagraphe: De la cérémonie d'accueil dans la citoyenneté française\\nid: 21-29\\nArticle numero: 21-29\\n\\nLe représentant de l'Etat dans le département ou, à Paris, le préfet de police communique au maire, en sa qualité d'officier d'état civil, l'identité et l'adresse des personnes résidant dans la commune susceptibles de bénéficier de la cérémonie d'accueil dans la citoyenneté française.\\nLorsque le maire en fait la demande, il peut l'autoriser à organiser, en sa qualité d'officier d'état civil, la cérémonie d'accueil dans la citoyenneté française.\\nNom du code: Code civil\\nlivre: Des personnes\\ntitre: De la nationalité française\\nchapitre: De l'acquisition de la nationalité française\\nsection: Des modes d'acquisition de la nationalité française\\nparagraphe: Dispositions communes à certains modes d'acquisition de la nationalité française\\nid: 21-26\\nArticle numero: 21-26\\n\\nEst assimilé à la résidence en France lorsque cette résidence constitue une condition de l'acquisition de la nationalité française :\\n1° Le séjour hors de France d'un étranger qui exerce une activité professionnelle publique ou privée pour le compte de l'Etat français ou d'un organisme dont l'activité présente un intérêt particulier pour l'économie ou la culture française ;\\n2° Le séjour dans les pays en union douanière avec la France qui sont désignés par décret ;\\n3° La présence hors de France, en temps de paix comme en temps de guerre, dans une formation régulière de l'armée française ou au titre des obligations prévues par le livre II du code du service national ;\\n4° Le séjour hors de France en qualité de volontaire du service national.\\nL'assimilation de résidence qui profite à l'un des époux s'étend à l'autre s'ils habitent effectivement ensemble.\", 'Nom du code: Code civil\\nlivre: Des différentes manières dont on acquiert la propriété\\ntitre: Du contrat de louage\\nchapitre: Du louage d\\'ouvrage et d\\'industrie.\\nsection: Des voituriers par terre et par eau.\\nid: 1782\\nArticle numero: 1782\\n\\nLes voituriers par terre et par eau sont assujettis, pour la garde et la conservation des choses qui leur sont confiées, aux mêmes obligations que les aubergistes, dont il est parlé au titre \" Du dépôt et du séquestre \".\\nNom du code: Code civil\\nlivre: Des différentes manières dont on acquiert la propriété\\ntitre: Du contrat de louage\\nchapitre: Du louage d\\'ouvrage et d\\'industrie.\\nsection: Des voituriers par terre et par eau.\\nid: 1783\\nArticle numero: 1783\\n\\nIls répondent non seulement de ce qu\\'ils ont déjà reçu dans leur bâtiment ou voiture, mais encore de ce qui leur a été remis sur le port ou dans l\\'entrepôt, pour être placé dans leur bâtiment ou voiture.\\nNom du code: Code civil\\nlivre: Des différentes manières dont on acquiert la propriété\\ntitre: Du contrat de louage\\nchapitre: Du louage d\\'ouvrage et d\\'industrie.\\nsection: Des voituriers par terre et par eau.\\nid: 1784\\nArticle numero: 1784\\n\\nIls sont responsables de la perte et des avaries des choses qui leur sont confiées, à moins qu\\'ils ne prouvent qu\\'elles ont été perdues et avariées par cas fortuit ou force majeure.', 'Nom du code: Code civil\\nlivre: Des différentes manières dont on acquiert la propriété\\ntitre: Du contrat de louage\\nchapitre: Du louage d\\'ouvrage et d\\'industrie.\\nsection: Des devis et des marchés.\\nid: 1799-1\\nArticle numero: 1799-1\\n\\nLe maître de l\\'ouvrage qui conclut un marché de travaux privé visé au 3° de l\\'article 1779 doit garantir à l\\'entrepreneur le paiement des sommes dues lorsque celles-ci dépassent un seuil fixé par décret en Conseil d\\'Etat.\\nLorsque le maître de l\\'ouvrage recourt à un crédit spécifique pour financer les travaux, l\\'établissement de crédit ne peut verser le montant du prêt à une personne autre que celles mentionnées au 3° de l\\'article 1779 tant que celles-ci n\\'ont pas reçu le paiement de l\\'intégralité de la créance née du marché correspondant au prêt. Les versements se font sur l\\'ordre écrit et sous la responsabilité exclusive du maître de l\\'ouvrage entre les mains de la personne ou d\\'un mandataire désigné à cet effet.\\nLorsque le maître de l\\'ouvrage ne recourt pas à un crédit spécifique ou lorsqu\\'il y recourt partiellement, et à défaut de garantie résultant d\\'une stipulation particulière, le paiement est garanti par un cautionnement solidaire consenti par un établissement de crédit, une société de financement, une entreprise d\\'assurance ou un organisme de garantie collective, selon des modalités fixées par décret en Conseil d\\'Etat. Tant qu\\'aucune garantie n\\'a été fournie et que l\\'entrepreneur demeure impayé des travaux exécutés, celui-ci peut surseoir à l\\'exécution du contrat après mise en demeure restée sans effet à l\\'issue d\\'un délai de quinze jours.\\nLes dispositions de l\\'alinéa précédent ne s\\'appliquent pas lorsque le maître de l\\'ouvrage conclut un marché de travaux pour son propre compte et pour la satisfaction de besoins ne ressortissant pas à une activité professionnelle en rapport avec ce marché.\\nLes dispositions du présent article ne s\\'appliquent pas aux marchés conclus par un organisme visé à l\\'article L. 411-2 du code de la construction et de l\\'habitation, ou par une société d\\'économie mixte, pour des logements à usage locatif aidés par l\\'Etat et réalisés par cet organisme ou cette société.\\nNom du code: Code civil\\nlivre: Des différentes manières dont on acquiert la propriété\\ntitre: Du contrat de louage\\nchapitre: Du louage d\\'ouvrage et d\\'industrie.\\nsection: Des voituriers par terre et par eau.\\nid: 1782\\nArticle numero: 1782\\n\\nLes voituriers par terre et par eau sont assujettis, pour la garde et la conservation des choses qui leur sont confiées, aux mêmes obligations que les aubergistes, dont il est parlé au titre \" Du dépôt et du séquestre \".\\nNom du code: Code civil\\nlivre: Des différentes manières dont on acquiert la propriété\\ntitre: Du contrat de louage\\nchapitre: Du louage d\\'ouvrage et d\\'industrie.\\nsection: Des voituriers par terre et par eau.\\nid: 1783\\nArticle numero: 1783\\n\\nIls répondent non seulement de ce qu\\'ils ont déjà reçu dans leur bâtiment ou voiture, mais encore de ce qui leur a été remis sur le port ou dans l\\'entrepôt, pour être placé dans leur bâtiment ou voiture.'], response='According to the Code civil and article 3, \"Les lois de police et de sûreté obligent tous ceux qui habitent le territoire.\"', passing=True, feedback='YES', score=1.0, pairwise_source=None, invalid_result=False, invalid_reason=None)"
      ]
     },
     "execution_count": 11,
     "metadata": {},
     "output_type": "execute_result"
    }
   ],
   "source": [
    "eval_result"
   ]
  },
  {
   "cell_type": "code",
   "execution_count": 3,
   "metadata": {},
   "outputs": [],
   "source": [
    "resp = query_engine_window.query(\"art 1\")"
   ]
  },
  {
   "cell_type": "code",
   "execution_count": 4,
   "metadata": {},
   "outputs": [
    {
     "data": {
      "text/plain": [
       "3"
      ]
     },
     "execution_count": 4,
     "metadata": {},
     "output_type": "execute_result"
    }
   ],
   "source": [
    "import string\n",
    "content = resp.source_nodes[4].get_content()\n",
    "content.count(\"Nom du code\")"
   ]
  },
  {
   "cell_type": "code",
   "execution_count": 5,
   "metadata": {},
   "outputs": [
    {
     "data": {
      "text/plain": [
       "[2, 3]"
      ]
     },
     "execution_count": 5,
     "metadata": {},
     "output_type": "execute_result"
    }
   ],
   "source": [
    "a = [2, 3, 4, 5, 6, 7, 8, 9, 10]\n",
    "\n",
    "a[1-1:1+1]"
   ]
  },
  {
   "cell_type": "markdown",
   "metadata": {},
   "source": [
    "| Month    | Savings |\n",
    "| -------- | ------- |\n",
    "| January  | $250    |\n",
    "| February | $80     |\n",
    "| March    | $420    |"
   ]
  },
  {
   "cell_type": "code",
   "execution_count": 3,
   "metadata": {},
   "outputs": [
    {
     "name": "stderr",
     "output_type": "stream",
     "text": [
      "  0%|          | 0/2 [00:00<?, ?it/s]huggingface/tokenizers: The current process just got forked, after parallelism has already been used. Disabling parallelism to avoid deadlocks...\n",
      "To disable this warning, you can either:\n",
      "\t- Avoid using `tokenizers` before the fork if possible\n",
      "\t- Explicitly set the environment variable TOKENIZERS_PARALLELISM=(true | false)\n",
      "100%|██████████| 2/2 [00:11<00:00,  5.90s/it]\n"
     ]
    }
   ],
   "source": [
    "out = evaluate(query_engine=query_engine, list_metrics=[\"context_relevancy\"], exp_name=\"basic\", code_name=\"code_civil\")"
   ]
  },
  {
   "cell_type": "code",
   "execution_count": 5,
   "metadata": {},
   "outputs": [
    {
     "data": {
      "text/html": [
       "<div>\n",
       "<style scoped>\n",
       "    .dataframe tbody tr th:only-of-type {\n",
       "        vertical-align: middle;\n",
       "    }\n",
       "\n",
       "    .dataframe tbody tr th {\n",
       "        vertical-align: top;\n",
       "    }\n",
       "\n",
       "    .dataframe thead th {\n",
       "        text-align: right;\n",
       "    }\n",
       "</style>\n",
       "<table border=\"1\" class=\"dataframe\">\n",
       "  <thead>\n",
       "    <tr style=\"text-align: right;\">\n",
       "      <th></th>\n",
       "      <th>rag</th>\n",
       "      <th>query</th>\n",
       "      <th>answer</th>\n",
       "      <th>contexts</th>\n",
       "      <th>scores</th>\n",
       "      <th>feedbacks</th>\n",
       "    </tr>\n",
       "  </thead>\n",
       "  <tbody>\n",
       "    <tr>\n",
       "      <th>0</th>\n",
       "      <td>basic</td>\n",
       "      <td>Quelles sont les conditions requises pour qu'u...</td>\n",
       "      <td>None</td>\n",
       "      <td>[Le présent code est applicable à Mayotte dans...</td>\n",
       "      <td>0.125</td>\n",
       "      <td>1. The retrieved context does not match the su...</td>\n",
       "    </tr>\n",
       "    <tr>\n",
       "      <th>1</th>\n",
       "      <td>basic</td>\n",
       "      <td>Comment peut-on établir la filiation d'un enfa...</td>\n",
       "      <td>None</td>\n",
       "      <td>[Le titre de propriété et ses inscriptions con...</td>\n",
       "      <td>0.000</td>\n",
       "      <td>1. The retrieved context does not match the su...</td>\n",
       "    </tr>\n",
       "  </tbody>\n",
       "</table>\n",
       "</div>"
      ],
      "text/plain": [
       "     rag                                              query answer  \\\n",
       "0  basic  Quelles sont les conditions requises pour qu'u...   None   \n",
       "1  basic  Comment peut-on établir la filiation d'un enfa...   None   \n",
       "\n",
       "                                            contexts  scores  \\\n",
       "0  [Le présent code est applicable à Mayotte dans...   0.125   \n",
       "1  [Le titre de propriété et ses inscriptions con...   0.000   \n",
       "\n",
       "                                           feedbacks  \n",
       "0  1. The retrieved context does not match the su...  \n",
       "1  1. The retrieved context does not match the su...  "
      ]
     },
     "execution_count": 5,
     "metadata": {},
     "output_type": "execute_result"
    }
   ],
   "source": [
    "out[\"CONTEXT_RELEVANCY\"]"
   ]
  },
  {
   "cell_type": "code",
   "execution_count": 6,
   "metadata": {},
   "outputs": [],
   "source": [
    "df = pd.read_csv(\"data/evaluation_results/basic_code_civil_metrics.csv\")"
   ]
  },
  {
   "cell_type": "code",
   "execution_count": 5,
   "metadata": {},
   "outputs": [
    {
     "data": {
      "text/html": [
       "<div>\n",
       "<style scoped>\n",
       "    .dataframe tbody tr th:only-of-type {\n",
       "        vertical-align: middle;\n",
       "    }\n",
       "\n",
       "    .dataframe tbody tr th {\n",
       "        vertical-align: top;\n",
       "    }\n",
       "\n",
       "    .dataframe thead th {\n",
       "        text-align: right;\n",
       "    }\n",
       "</style>\n",
       "<table border=\"1\" class=\"dataframe\">\n",
       "  <thead>\n",
       "    <tr style=\"text-align: right;\">\n",
       "      <th></th>\n",
       "      <th>Unnamed: 0</th>\n",
       "      <th>rag</th>\n",
       "      <th>query</th>\n",
       "      <th>answer</th>\n",
       "      <th>contexts</th>\n",
       "      <th>scores</th>\n",
       "      <th>feedbacks</th>\n",
       "      <th>metric</th>\n",
       "    </tr>\n",
       "  </thead>\n",
       "  <tbody>\n",
       "    <tr>\n",
       "      <th>0</th>\n",
       "      <td>0</td>\n",
       "      <td>basic</td>\n",
       "      <td>Quelles sont les conditions requises pour qu'u...</td>\n",
       "      <td>NaN</td>\n",
       "      <td>['Le présent code est applicable à Mayotte dan...</td>\n",
       "      <td>0.0</td>\n",
       "      <td>1. The retrieved context does not match the su...</td>\n",
       "      <td>context_relevancy</td>\n",
       "    </tr>\n",
       "    <tr>\n",
       "      <th>1</th>\n",
       "      <td>1</td>\n",
       "      <td>basic</td>\n",
       "      <td>Comment peut-on établir la filiation d'un enfa...</td>\n",
       "      <td>NaN</td>\n",
       "      <td>[\"Le titre de propriété et ses inscriptions co...</td>\n",
       "      <td>0.0</td>\n",
       "      <td>1. The retrieved context does not match the su...</td>\n",
       "      <td>context_relevancy</td>\n",
       "    </tr>\n",
       "  </tbody>\n",
       "</table>\n",
       "</div>"
      ],
      "text/plain": [
       "   Unnamed: 0    rag                                              query  \\\n",
       "0           0  basic  Quelles sont les conditions requises pour qu'u...   \n",
       "1           1  basic  Comment peut-on établir la filiation d'un enfa...   \n",
       "\n",
       "   answer                                           contexts  scores  \\\n",
       "0     NaN  ['Le présent code est applicable à Mayotte dan...     0.0   \n",
       "1     NaN  [\"Le titre de propriété et ses inscriptions co...     0.0   \n",
       "\n",
       "                                           feedbacks             metric  \n",
       "0  1. The retrieved context does not match the su...  context_relevancy  \n",
       "1  1. The retrieved context does not match the su...  context_relevancy  "
      ]
     },
     "execution_count": 5,
     "metadata": {},
     "output_type": "execute_result"
    }
   ],
   "source": [
    "df"
   ]
  },
  {
   "cell_type": "code",
   "execution_count": 7,
   "metadata": {},
   "outputs": [
    {
     "data": {
      "text/html": [
       "<div>\n",
       "<style scoped>\n",
       "    .dataframe tbody tr th:only-of-type {\n",
       "        vertical-align: middle;\n",
       "    }\n",
       "\n",
       "    .dataframe tbody tr th {\n",
       "        vertical-align: top;\n",
       "    }\n",
       "\n",
       "    .dataframe thead th {\n",
       "        text-align: right;\n",
       "    }\n",
       "</style>\n",
       "<table border=\"1\" class=\"dataframe\">\n",
       "  <thead>\n",
       "    <tr style=\"text-align: right;\">\n",
       "      <th></th>\n",
       "      <th>metrics</th>\n",
       "      <th>basic</th>\n",
       "    </tr>\n",
       "  </thead>\n",
       "  <tbody>\n",
       "    <tr>\n",
       "      <th>0</th>\n",
       "      <td>mean_context_relevancy_score</td>\n",
       "      <td>0.0</td>\n",
       "    </tr>\n",
       "  </tbody>\n",
       "</table>\n",
       "</div>"
      ],
      "text/plain": [
       "                        metrics  basic\n",
       "0  mean_context_relevancy_score    0.0"
      ]
     },
     "execution_count": 7,
     "metadata": {},
     "output_type": "execute_result"
    }
   ],
   "source": [
    "df"
   ]
  },
  {
   "cell_type": "code",
   "execution_count": null,
   "metadata": {},
   "outputs": [],
   "source": []
  }
 ],
 "metadata": {
  "kernelspec": {
   "display_name": "rag",
   "language": "python",
   "name": "python3"
  },
  "language_info": {
   "codemirror_mode": {
    "name": "ipython",
    "version": 3
   },
   "file_extension": ".py",
   "mimetype": "text/x-python",
   "name": "python",
   "nbconvert_exporter": "python",
   "pygments_lexer": "ipython3",
   "version": "3.11.8"
  }
 },
 "nbformat": 4,
 "nbformat_minor": 2
}
