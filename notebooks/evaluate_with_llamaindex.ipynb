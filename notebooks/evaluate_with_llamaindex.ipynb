{
 "cells": [
  {
   "cell_type": "code",
   "execution_count": 1,
   "metadata": {},
   "outputs": [],
   "source": [
    "from query.query_engine import create_query_engine\n",
    "from query.routing import create_routing_engine\n",
    "from evaluation.eval_with_llamaindex import evaluate, evaluate_multiple_experiments\n",
    "\n",
    "from loguru import logger\n",
    "from pprint import pprint\n",
    "import pandas as pd\n",
    "import nest_asyncio\n",
    "nest_asyncio.apply()\n",
    "import sys\n",
    "import os\n",
    "\n",
    "#set level of logging\n",
    "logger.remove()\n",
    "logger.add(sys.stderr, level=\"INFO\")\n",
    "os.chdir(\"..\")"
   ]
  },
  {
   "cell_type": "code",
   "execution_count": 15,
   "metadata": {},
   "outputs": [],
   "source": [
    "def create_final_csv(scores_df: pd.DataFrame) -> pd.DataFrame:\n",
    "    scores_df.rename(columns={\"mistral_embed\": \"mistral-embed\", \n",
    "                              \"fastembed\": \"multilingual-e5-large\",\n",
    "                              \"ada\": \"text-embedding-ada-002\"}, \n",
    "                     inplace=True)\n",
    "    \n",
    "    embedding_times = [[\"3m\", \"22m\",  \"1m\"]]\n",
    "    \n",
    "    # add row with embeddings times and the index name is \"embedding_time\"\n",
    "    df_embedding_times = pd.DataFrame(embedding_times, index = [\"embedding_time\"], columns=scores_df.columns)\n",
    "    \n",
    "    final_df = pd.concat([df_embedding_times, scores_df])\n",
    "    \n",
    "    final_df = final_df.rename_axis('embeddings', axis='columns')\n",
    "\n",
    "    \n",
    "    return final_df"
   ]
  },
  {
   "cell_type": "markdown",
   "metadata": {},
   "source": [
    "# Embeddings evaluation"
   ]
  },
  {
   "cell_type": "code",
   "execution_count": 3,
   "metadata": {},
   "outputs": [
    {
     "data": {
      "application/vnd.jupyter.widget-view+json": {
       "model_id": "ff41b5e94ca944458bf83006ce2f397e",
       "version_major": 2,
       "version_minor": 0
      },
      "text/plain": [
       "Fetching 8 files:   0%|          | 0/8 [00:00<?, ?it/s]"
      ]
     },
     "metadata": {},
     "output_type": "display_data"
    },
    {
     "name": "stderr",
     "output_type": "stream",
     "text": [
      "\u001b[32m2024-03-24 17:45:23.676\u001b[0m | \u001b[1mINFO    \u001b[0m | \u001b[36mretriever.get_retriever\u001b[0m:\u001b[36mindex_nodes\u001b[0m:\u001b[36m82\u001b[0m - \u001b[1mCreating text nodes ...\u001b[0m\n",
      "\u001b[32m2024-03-24 17:45:23.696\u001b[0m | \u001b[1mINFO    \u001b[0m | \u001b[36mdata_ingestion.nodes_processing\u001b[0m:\u001b[36m_truncate_long_articles\u001b[0m:\u001b[36m119\u001b[0m - \u001b[1mTruncated 0 articles into smaller chunks.\u001b[0m\n",
      "\u001b[32m2024-03-24 17:45:23.743\u001b[0m | \u001b[1mINFO    \u001b[0m | \u001b[36mretriever.get_retriever\u001b[0m:\u001b[36mindex_nodes\u001b[0m:\u001b[36m93\u001b[0m - \u001b[1mText nodes creation finished.\u001b[0m\n",
      "\u001b[32m2024-03-24 17:45:23.744\u001b[0m | \u001b[1mINFO    \u001b[0m | \u001b[36mretriever.get_retriever\u001b[0m:\u001b[36mindex_given_nodes\u001b[0m:\u001b[36m24\u001b[0m - \u001b[1mCollection name: Code_civil_base_intfloat_multilingual-e5-large\u001b[0m\n",
      "\u001b[32m2024-03-24 17:45:23.781\u001b[0m | \u001b[33m\u001b[1mWARNING \u001b[0m | \u001b[36mretriever.get_retriever\u001b[0m:\u001b[36mindex_given_nodes\u001b[0m:\u001b[36m33\u001b[0m - \u001b[33m\u001b[1mError while counting nodes in the collection : Unexpected Response: 404 (Not Found)\n",
      "Raw response content:\n",
      "b'{\"status\":{\"error\":\"Not found: Collection `Code_civil_base_intfloat_multilingual-e5-large` doesn\\'t exist!\"},\"time\":0.0004615}'Setting count to 0.\u001b[0m\n",
      "\u001b[32m2024-03-24 17:45:23.781\u001b[0m | \u001b[1mINFO    \u001b[0m | \u001b[36mretriever.get_retriever\u001b[0m:\u001b[36mindex_given_nodes\u001b[0m:\u001b[36m51\u001b[0m - \u001b[1mCreating a new index with 2882 nodes. This may take a while.\u001b[0m\n",
      "\u001b[32m2024-03-24 18:07:24.927\u001b[0m | \u001b[1mINFO    \u001b[0m | \u001b[36mretriever.get_retriever\u001b[0m:\u001b[36mindex_nodes\u001b[0m:\u001b[36m82\u001b[0m - \u001b[1mCreating text nodes ...\u001b[0m\n",
      "\u001b[32m2024-03-24 18:07:24.948\u001b[0m | \u001b[1mINFO    \u001b[0m | \u001b[36mdata_ingestion.nodes_processing\u001b[0m:\u001b[36m_truncate_long_articles\u001b[0m:\u001b[36m119\u001b[0m - \u001b[1mTruncated 0 articles into smaller chunks.\u001b[0m\n",
      "\u001b[32m2024-03-24 18:07:25.002\u001b[0m | \u001b[1mINFO    \u001b[0m | \u001b[36mretriever.get_retriever\u001b[0m:\u001b[36mindex_nodes\u001b[0m:\u001b[36m93\u001b[0m - \u001b[1mText nodes creation finished.\u001b[0m\n",
      "\u001b[32m2024-03-24 18:07:25.005\u001b[0m | \u001b[1mINFO    \u001b[0m | \u001b[36mretriever.get_retriever\u001b[0m:\u001b[36mindex_given_nodes\u001b[0m:\u001b[36m24\u001b[0m - \u001b[1mCollection name: Code_civil_base_mistral-embed\u001b[0m\n",
      "\u001b[32m2024-03-24 18:07:25.040\u001b[0m | \u001b[1mINFO    \u001b[0m | \u001b[36mretriever.get_retriever\u001b[0m:\u001b[36mindex_given_nodes\u001b[0m:\u001b[36m31\u001b[0m - \u001b[1mFound 20 nodes in the collection.\u001b[0m\n",
      "\u001b[32m2024-03-24 18:07:25.041\u001b[0m | \u001b[1mINFO    \u001b[0m | \u001b[36mretriever.get_retriever\u001b[0m:\u001b[36mindex_given_nodes\u001b[0m:\u001b[36m51\u001b[0m - \u001b[1mCreating a new index with 2882 nodes. This may take a while.\u001b[0m\n",
      "\u001b[32m2024-03-24 18:11:02.409\u001b[0m | \u001b[1mINFO    \u001b[0m | \u001b[36mretriever.get_retriever\u001b[0m:\u001b[36mindex_nodes\u001b[0m:\u001b[36m82\u001b[0m - \u001b[1mCreating text nodes ...\u001b[0m\n",
      "\u001b[32m2024-03-24 18:11:02.430\u001b[0m | \u001b[1mINFO    \u001b[0m | \u001b[36mdata_ingestion.nodes_processing\u001b[0m:\u001b[36m_truncate_long_articles\u001b[0m:\u001b[36m119\u001b[0m - \u001b[1mTruncated 0 articles into smaller chunks.\u001b[0m\n",
      "\u001b[32m2024-03-24 18:11:02.474\u001b[0m | \u001b[1mINFO    \u001b[0m | \u001b[36mretriever.get_retriever\u001b[0m:\u001b[36mindex_nodes\u001b[0m:\u001b[36m93\u001b[0m - \u001b[1mText nodes creation finished.\u001b[0m\n",
      "\u001b[32m2024-03-24 18:11:02.474\u001b[0m | \u001b[1mINFO    \u001b[0m | \u001b[36mretriever.get_retriever\u001b[0m:\u001b[36mindex_given_nodes\u001b[0m:\u001b[36m24\u001b[0m - \u001b[1mCollection name: Code_civil_base_text-embedding-ada-002\u001b[0m\n",
      "\u001b[32m2024-03-24 18:11:02.488\u001b[0m | \u001b[1mINFO    \u001b[0m | \u001b[36mretriever.get_retriever\u001b[0m:\u001b[36mindex_given_nodes\u001b[0m:\u001b[36m31\u001b[0m - \u001b[1mFound 20 nodes in the collection.\u001b[0m\n",
      "\u001b[32m2024-03-24 18:11:02.488\u001b[0m | \u001b[1mINFO    \u001b[0m | \u001b[36mretriever.get_retriever\u001b[0m:\u001b[36mindex_given_nodes\u001b[0m:\u001b[36m51\u001b[0m - \u001b[1mCreating a new index with 2882 nodes. This may take a while.\u001b[0m\n",
      "huggingface/tokenizers: The current process just got forked, after parallelism has already been used. Disabling parallelism to avoid deadlocks...\n",
      "To disable this warning, you can either:\n",
      "\t- Avoid using `tokenizers` before the fork if possible\n",
      "\t- Explicitly set the environment variable TOKENIZERS_PARALLELISM=(true | false)\n"
     ]
    }
   ],
   "source": [
    "query_engine_fastembed = create_query_engine(embedding_model=\"intfloat/multilingual-e5-large\")\n",
    "query_engine_mistral = create_query_engine(embedding_model=\"mistral-embed\")\n",
    "query_engine_ada = create_query_engine(embedding_model=\"text-embedding-ada-002\")"
   ]
  },
  {
   "cell_type": "code",
   "execution_count": 6,
   "metadata": {},
   "outputs": [
    {
     "name": "stderr",
     "output_type": "stream",
     "text": [
      "\u001b[32m2024-03-24 20:09:09.524\u001b[0m | \u001b[1mINFO    \u001b[0m | \u001b[36mevaluation.eval_with_llamaindex\u001b[0m:\u001b[36mevaluate_multiple_experiments\u001b[0m:\u001b[36m130\u001b[0m - \u001b[1mEvaluating experiment: mistral_embed\u001b[0m\n",
      "100%|██████████| 50/50 [04:25<00:00,  5.31s/it]\n",
      "\u001b[32m2024-03-24 20:13:35.209\u001b[0m | \u001b[1mINFO    \u001b[0m | \u001b[36mevaluation.eval_with_llamaindex\u001b[0m:\u001b[36mevaluate_multiple_experiments\u001b[0m:\u001b[36m130\u001b[0m - \u001b[1mEvaluating experiment: fastembed\u001b[0m\n",
      "100%|██████████| 50/50 [04:01<00:00,  4.84s/it]\n",
      "\u001b[32m2024-03-24 20:17:37.222\u001b[0m | \u001b[1mINFO    \u001b[0m | \u001b[36mevaluation.eval_with_llamaindex\u001b[0m:\u001b[36mevaluate_multiple_experiments\u001b[0m:\u001b[36m130\u001b[0m - \u001b[1mEvaluating experiment: ada\u001b[0m\n",
      "100%|██████████| 50/50 [04:11<00:00,  5.04s/it]\n"
     ]
    }
   ],
   "source": [
    "exp_to_query_engine = {\n",
    "    \"mistral_embed\": query_engine_mistral,\n",
    "    \"fastembed\": query_engine_fastembed,\n",
    "    \"ada\": query_engine_ada,\n",
    "}\n",
    "\n",
    "scores_df, deeps_df = evaluate_multiple_experiments(\n",
    "    experiment_to_query_engine=exp_to_query_engine,\n",
    "    general_exp_name=\"embeddings\",\n",
    "    list_metrics=[\"context_relevancy\"],\n",
    "    code_name=\"code_civil\"\n",
    ")\n"
   ]
  },
  {
   "cell_type": "code",
   "execution_count": 18,
   "metadata": {},
   "outputs": [],
   "source": [
    "final_df = create_final_csv(scores_df)\n",
    "if not os.path.exists(\"./data/final_results\"):\n",
    "    os.makedirs(\"./data/final_results\")\n",
    "final_df.to_csv(\"./data/final_results/embeddings_experiment.csv\")"
   ]
  },
  {
   "cell_type": "markdown",
   "metadata": {},
   "source": [
    "#  Nodes window"
   ]
  },
  {
   "cell_type": "markdown",
   "metadata": {},
   "source": [
    "## 1. Evaluate context relevancy"
   ]
  },
  {
   "cell_type": "code",
   "execution_count": 2,
   "metadata": {},
   "outputs": [
    {
     "name": "stderr",
     "output_type": "stream",
     "text": [
      "\u001b[32m2024-03-24 22:12:11.136\u001b[0m | \u001b[1mINFO    \u001b[0m | \u001b[36mretriever.get_retriever\u001b[0m:\u001b[36mindex_nodes\u001b[0m:\u001b[36m82\u001b[0m - \u001b[1mCreating text nodes ...\u001b[0m\n",
      "\u001b[32m2024-03-24 22:12:11.161\u001b[0m | \u001b[1mINFO    \u001b[0m | \u001b[36mdata_ingestion.nodes_processing\u001b[0m:\u001b[36m_truncate_long_articles\u001b[0m:\u001b[36m119\u001b[0m - \u001b[1mTruncated 0 articles into smaller chunks.\u001b[0m\n",
      "\u001b[32m2024-03-24 22:12:11.217\u001b[0m | \u001b[1mINFO    \u001b[0m | \u001b[36mdata_ingestion.nodes_processing\u001b[0m:\u001b[36m__post_init__\u001b[0m:\u001b[36m32\u001b[0m - \u001b[1mAdding window nodes ...\u001b[0m\n",
      "Adding window nodes ...: 100%|██████████| 2882/2882 [00:00<00:00, 81041.47it/s]\n",
      "\u001b[32m2024-03-24 22:12:11.268\u001b[0m | \u001b[1mINFO    \u001b[0m | \u001b[36mretriever.get_retriever\u001b[0m:\u001b[36mindex_nodes\u001b[0m:\u001b[36m93\u001b[0m - \u001b[1mText nodes creation finished.\u001b[0m\n",
      "\u001b[32m2024-03-24 22:12:11.269\u001b[0m | \u001b[1mINFO    \u001b[0m | \u001b[36mretriever.get_retriever\u001b[0m:\u001b[36mindex_given_nodes\u001b[0m:\u001b[36m24\u001b[0m - \u001b[1mCollection name: Code_civil_window_text-embedding-ada-002\u001b[0m\n",
      "\u001b[32m2024-03-24 22:12:11.379\u001b[0m | \u001b[33m\u001b[1mWARNING \u001b[0m | \u001b[36mretriever.get_retriever\u001b[0m:\u001b[36mindex_given_nodes\u001b[0m:\u001b[36m33\u001b[0m - \u001b[33m\u001b[1mError while counting nodes in the collection : Unexpected Response: 404 (Not Found)\n",
      "Raw response content:\n",
      "b'{\"status\":{\"error\":\"Not found: Collection `Code_civil_window_text-embedding-ada-002` doesn\\'t exist!\"},\"time\":0.000073334}'Setting count to 0.\u001b[0m\n",
      "\u001b[32m2024-03-24 22:12:11.379\u001b[0m | \u001b[1mINFO    \u001b[0m | \u001b[36mretriever.get_retriever\u001b[0m:\u001b[36mindex_given_nodes\u001b[0m:\u001b[36m51\u001b[0m - \u001b[1mCreating a new index with 2882 nodes. This may take a while.\u001b[0m\n"
     ]
    }
   ],
   "source": [
    "query_engine_window_1 = create_query_engine(use_window_nodes=True, nodes_window_size=1, recreate_collection=True)\n",
    "query_engine_window_3 = create_query_engine(use_window_nodes=True, nodes_window_size=3, recreate_collection=True)"
   ]
  },
  {
   "cell_type": "code",
   "execution_count": 6,
   "metadata": {},
   "outputs": [
    {
     "name": "stderr",
     "output_type": "stream",
     "text": [
      "  0%|          | 0/50 [00:00<?, ?it/s]"
     ]
    },
    {
     "name": "stderr",
     "output_type": "stream",
     "text": [
      "100%|██████████| 50/50 [04:40<00:00,  5.60s/it]\n"
     ]
    }
   ],
   "source": [
    "from llama_index.core.schema import MetadataMode\n",
    "\n",
    "experiment_to_query_engine = {\n",
    "    \"window_1\": query_engine_window_1,\n",
    "    \"window_3\": query_engine_window_3,\n",
    "}\n",
    "mean_scores_df, deep_dfs = evaluate_multiple_experiments(\n",
    "    experiment_to_query_engine=experiment_to_query_engine,\n",
    "    list_metrics=[\"context_relevancy\"],\n",
    "    general_exp_name=\"window\",\n",
    "    code_name=\"code_civil\",\n",
    "    metadata_mode=MetadataMode.NONE,\n",
    ")\n"
   ]
  },
  {
   "cell_type": "markdown",
   "metadata": {},
   "source": [
    "## 2. evaluate faithfulness"
   ]
  },
  {
   "cell_type": "code",
   "execution_count": 2,
   "metadata": {},
   "outputs": [
    {
     "name": "stderr",
     "output_type": "stream",
     "text": [
      "\u001b[32m2024-03-31 21:08:16.861\u001b[0m | \u001b[1mINFO    \u001b[0m | \u001b[36mretriever.get_retriever\u001b[0m:\u001b[36mindex_nodes\u001b[0m:\u001b[36m97\u001b[0m - \u001b[1mCreating text nodes ...\u001b[0m\n",
      "\u001b[32m2024-03-31 21:08:16.890\u001b[0m | \u001b[1mINFO    \u001b[0m | \u001b[36mdata_ingestion.nodes_processing\u001b[0m:\u001b[36m_chunk_long_articles\u001b[0m:\u001b[36m119\u001b[0m - \u001b[1mTruncated 0 articles into smaller chunks.\u001b[0m\n",
      "\u001b[32m2024-03-31 21:08:16.941\u001b[0m | \u001b[1mINFO    \u001b[0m | \u001b[36mretriever.get_retriever\u001b[0m:\u001b[36mindex_nodes\u001b[0m:\u001b[36m108\u001b[0m - \u001b[1mText nodes creation finished.\u001b[0m\n",
      "\u001b[32m2024-03-31 21:08:16.942\u001b[0m | \u001b[1mINFO    \u001b[0m | \u001b[36mretriever.get_retriever\u001b[0m:\u001b[36mindex_given_nodes\u001b[0m:\u001b[36m39\u001b[0m - \u001b[1mCollection name: Code_civil_base_text-embedding-ada-002\u001b[0m\n",
      "\u001b[32m2024-03-31 21:08:16.965\u001b[0m | \u001b[1mINFO    \u001b[0m | \u001b[36mretriever.get_retriever\u001b[0m:\u001b[36mindex_given_nodes\u001b[0m:\u001b[36m46\u001b[0m - \u001b[1mFound 2882 nodes in the collection.\u001b[0m\n",
      "\u001b[32m2024-03-31 21:08:16.966\u001b[0m | \u001b[1mINFO    \u001b[0m | \u001b[36mretriever.get_retriever\u001b[0m:\u001b[36mindex_given_nodes\u001b[0m:\u001b[36m54\u001b[0m - \u001b[1mFound 2882 nodes in the collection. Using the existing collection.\u001b[0m\n",
      "\u001b[32m2024-03-31 21:08:17.213\u001b[0m | \u001b[1mINFO    \u001b[0m | \u001b[36mretriever.get_retriever\u001b[0m:\u001b[36mindex_nodes\u001b[0m:\u001b[36m97\u001b[0m - \u001b[1mCreating text nodes ...\u001b[0m\n",
      "\u001b[32m2024-03-31 21:08:17.228\u001b[0m | \u001b[1mINFO    \u001b[0m | \u001b[36mdata_ingestion.nodes_processing\u001b[0m:\u001b[36m_chunk_long_articles\u001b[0m:\u001b[36m119\u001b[0m - \u001b[1mTruncated 0 articles into smaller chunks.\u001b[0m\n",
      "\u001b[32m2024-03-31 21:08:17.270\u001b[0m | \u001b[1mINFO    \u001b[0m | \u001b[36mdata_ingestion.nodes_processing\u001b[0m:\u001b[36m__post_init__\u001b[0m:\u001b[36m32\u001b[0m - \u001b[1mAdding window nodes ...\u001b[0m\n",
      "Adding window nodes ...: 100%|██████████| 2882/2882 [00:00<00:00, 35794.93it/s]\n",
      "\u001b[32m2024-03-31 21:08:17.363\u001b[0m | \u001b[1mINFO    \u001b[0m | \u001b[36mretriever.get_retriever\u001b[0m:\u001b[36mindex_nodes\u001b[0m:\u001b[36m108\u001b[0m - \u001b[1mText nodes creation finished.\u001b[0m\n",
      "\u001b[32m2024-03-31 21:08:17.363\u001b[0m | \u001b[1mINFO    \u001b[0m | \u001b[36mretriever.get_retriever\u001b[0m:\u001b[36mindex_given_nodes\u001b[0m:\u001b[36m39\u001b[0m - \u001b[1mCollection name: Code_civil_window_text-embedding-ada-002\u001b[0m\n",
      "\u001b[32m2024-03-31 21:08:17.376\u001b[0m | \u001b[1mINFO    \u001b[0m | \u001b[36mretriever.get_retriever\u001b[0m:\u001b[36mindex_given_nodes\u001b[0m:\u001b[36m46\u001b[0m - \u001b[1mFound 2882 nodes in the collection.\u001b[0m\n",
      "\u001b[32m2024-03-31 21:08:17.377\u001b[0m | \u001b[1mINFO    \u001b[0m | \u001b[36mretriever.get_retriever\u001b[0m:\u001b[36mindex_given_nodes\u001b[0m:\u001b[36m54\u001b[0m - \u001b[1mFound 2882 nodes in the collection. Using the existing collection.\u001b[0m\n"
     ]
    }
   ],
   "source": [
    "query_engine_base = create_query_engine()\n",
    "query_engine_window_3 = create_query_engine(use_window_nodes=True, nodes_window_size=3)"
   ]
  },
  {
   "cell_type": "code",
   "execution_count": 3,
   "metadata": {},
   "outputs": [
    {
     "name": "stderr",
     "output_type": "stream",
     "text": [
      "\u001b[32m2024-03-31 21:08:23.929\u001b[0m | \u001b[1mINFO    \u001b[0m | \u001b[36mevaluation.eval_with_llamaindex\u001b[0m:\u001b[36mevaluate_multiple_experiments\u001b[0m:\u001b[36m142\u001b[0m - \u001b[1mEvaluating experiment: base\u001b[0m\n",
      "100%|██████████| 50/50 [02:27<00:00,  2.95s/it]\n",
      "\u001b[32m2024-03-31 21:10:51.628\u001b[0m | \u001b[1mINFO    \u001b[0m | \u001b[36mevaluation.eval_with_llamaindex\u001b[0m:\u001b[36mevaluate_multiple_experiments\u001b[0m:\u001b[36m142\u001b[0m - \u001b[1mEvaluating experiment: window_3\u001b[0m\n",
      "100%|██████████| 50/50 [04:41<00:00,  5.63s/it]\n"
     ]
    }
   ],
   "source": [
    "experiment_to_query_engine = {\n",
    "    \"base\": query_engine_base,\n",
    "    \"window_3\": query_engine_window_3,\n",
    "}\n",
    "mean_scores_df, deep_dfs = evaluate_multiple_experiments(\n",
    "    experiment_to_query_engine=experiment_to_query_engine,\n",
    "    list_metrics=[\"faithfulness\"],\n",
    "    general_exp_name=\"window_faithfulness\",\n",
    "    code_name=\"code_civil\",\n",
    ")"
   ]
  },
  {
   "cell_type": "markdown",
   "metadata": {},
   "source": [
    "# Hybrid search"
   ]
  },
  {
   "cell_type": "code",
   "execution_count": 2,
   "metadata": {},
   "outputs": [
    {
     "name": "stderr",
     "output_type": "stream",
     "text": [
      "\u001b[32m2024-04-01 11:32:57.392\u001b[0m | \u001b[1mINFO    \u001b[0m | \u001b[36mretriever.get_retriever\u001b[0m:\u001b[36mindex_nodes\u001b[0m:\u001b[36m97\u001b[0m - \u001b[1mCreating text nodes ...\u001b[0m\n",
      "\u001b[32m2024-04-01 11:32:57.410\u001b[0m | \u001b[1mINFO    \u001b[0m | \u001b[36mdata_ingestion.nodes_processing\u001b[0m:\u001b[36m_chunk_long_articles\u001b[0m:\u001b[36m119\u001b[0m - \u001b[1mTruncated 0 articles into smaller chunks.\u001b[0m\n",
      "\u001b[32m2024-04-01 11:32:57.453\u001b[0m | \u001b[1mINFO    \u001b[0m | \u001b[36mretriever.get_retriever\u001b[0m:\u001b[36mindex_nodes\u001b[0m:\u001b[36m108\u001b[0m - \u001b[1mText nodes creation finished.\u001b[0m\n",
      "\u001b[32m2024-04-01 11:32:57.454\u001b[0m | \u001b[1mINFO    \u001b[0m | \u001b[36mretriever.get_retriever\u001b[0m:\u001b[36mindex_given_nodes\u001b[0m:\u001b[36m39\u001b[0m - \u001b[1mCollection name: Code_civil_base_hybrid_text-embedding-ada-002\u001b[0m\n",
      "\u001b[32m2024-04-01 11:32:57.466\u001b[0m | \u001b[1mINFO    \u001b[0m | \u001b[36mretriever.get_retriever\u001b[0m:\u001b[36mindex_given_nodes\u001b[0m:\u001b[36m46\u001b[0m - \u001b[1mFound 2882 nodes in the collection.\u001b[0m\n",
      "\u001b[32m2024-04-01 11:32:57.467\u001b[0m | \u001b[1mINFO    \u001b[0m | \u001b[36mretriever.get_retriever\u001b[0m:\u001b[36mindex_given_nodes\u001b[0m:\u001b[36m54\u001b[0m - \u001b[1mFound 2882 nodes in the collection. Using the existing collection.\u001b[0m\n"
     ]
    }
   ],
   "source": [
    "query_engine_hybrid_search_alpha_0_5 = create_query_engine(hybrid_search=True, sparse_top_k=5)\n",
    "query_engine_hybrid_search_alpha_0_2 = create_query_engine(hybrid_search=True, sparse_top_k=5, hybrid_search_alpha=0.2)\n",
    "query_engine_hybrid_search_alpha_0_8 = create_query_engine(hybrid_search=True, sparse_top_k=5, hybrid_search_alpha=0.8)"
   ]
  },
  {
   "cell_type": "markdown",
   "metadata": {},
   "source": [
    "time : 27 minutes"
   ]
  },
  {
   "cell_type": "code",
   "execution_count": 7,
   "metadata": {},
   "outputs": [
    {
     "name": "stderr",
     "output_type": "stream",
     "text": [
      "100%|██████████| 50/50 [02:27<00:00,  2.96s/it]\n",
      "100%|██████████| 50/50 [03:44<00:00,  4.49s/it]\n"
     ]
    }
   ],
   "source": [
    "\n",
    "mean_scores_df, deep_dfs, _ = evaluate(\n",
    "    query_engine=query_engine_hybrid_search_alpha_0_8,\n",
    "    list_metrics=[\"faithfulness\", \"context_relevancy\"],\n",
    "    exp_name=\"hybrid_search\",\n",
    "    code_name=\"code_civil\",\n",
    ")"
   ]
  },
  {
   "cell_type": "markdown",
   "metadata": {},
   "source": [
    "# Query rewriting"
   ]
  },
  {
   "cell_type": "code",
   "execution_count": 2,
   "metadata": {},
   "outputs": [
    {
     "name": "stderr",
     "output_type": "stream",
     "text": [
      "\u001b[32m2024-04-01 16:42:26.808\u001b[0m | \u001b[1mINFO    \u001b[0m | \u001b[36mretriever.get_retriever\u001b[0m:\u001b[36mindex_nodes\u001b[0m:\u001b[36m96\u001b[0m - \u001b[1mCreating text nodes ...\u001b[0m\n",
      "\u001b[32m2024-04-01 16:42:26.826\u001b[0m | \u001b[1mINFO    \u001b[0m | \u001b[36mdata_ingestion.nodes_processing\u001b[0m:\u001b[36m_chunk_long_articles\u001b[0m:\u001b[36m102\u001b[0m - \u001b[1mTruncated 0 articles into smaller chunks.\u001b[0m\n",
      "\u001b[32m2024-04-01 16:42:26.869\u001b[0m | \u001b[1mINFO    \u001b[0m | \u001b[36mretriever.get_retriever\u001b[0m:\u001b[36mindex_nodes\u001b[0m:\u001b[36m106\u001b[0m - \u001b[1mText nodes creation finished.\u001b[0m\n",
      "\u001b[32m2024-04-01 16:42:26.869\u001b[0m | \u001b[1mINFO    \u001b[0m | \u001b[36mretriever.get_retriever\u001b[0m:\u001b[36mindex_given_nodes\u001b[0m:\u001b[36m39\u001b[0m - \u001b[1mCollection name: Code_civil_base_hybrid_text-embedding-ada-002\u001b[0m\n",
      "\u001b[32m2024-04-01 16:42:26.884\u001b[0m | \u001b[1mINFO    \u001b[0m | \u001b[36mretriever.get_retriever\u001b[0m:\u001b[36mindex_given_nodes\u001b[0m:\u001b[36m46\u001b[0m - \u001b[1mFound 2882 nodes in the collection.\u001b[0m\n",
      "\u001b[32m2024-04-01 16:42:26.885\u001b[0m | \u001b[1mINFO    \u001b[0m | \u001b[36mretriever.get_retriever\u001b[0m:\u001b[36mindex_given_nodes\u001b[0m:\u001b[36m54\u001b[0m - \u001b[1mFound 2882 nodes in the collection. Using the existing collection.\u001b[0m\n",
      "\u001b[32m2024-04-01 16:42:28.701\u001b[0m | \u001b[1mINFO    \u001b[0m | \u001b[36mretriever.get_retriever\u001b[0m:\u001b[36mindex_nodes\u001b[0m:\u001b[36m96\u001b[0m - \u001b[1mCreating text nodes ...\u001b[0m\n",
      "\u001b[32m2024-04-01 16:42:28.717\u001b[0m | \u001b[1mINFO    \u001b[0m | \u001b[36mdata_ingestion.nodes_processing\u001b[0m:\u001b[36m_chunk_long_articles\u001b[0m:\u001b[36m102\u001b[0m - \u001b[1mTruncated 0 articles into smaller chunks.\u001b[0m\n",
      "\u001b[32m2024-04-01 16:42:28.760\u001b[0m | \u001b[1mINFO    \u001b[0m | \u001b[36mretriever.get_retriever\u001b[0m:\u001b[36mindex_nodes\u001b[0m:\u001b[36m106\u001b[0m - \u001b[1mText nodes creation finished.\u001b[0m\n",
      "\u001b[32m2024-04-01 16:42:28.761\u001b[0m | \u001b[1mINFO    \u001b[0m | \u001b[36mretriever.get_retriever\u001b[0m:\u001b[36mindex_given_nodes\u001b[0m:\u001b[36m39\u001b[0m - \u001b[1mCollection name: Code_civil_base_hybrid_text-embedding-ada-002\u001b[0m\n",
      "\u001b[32m2024-04-01 16:42:28.772\u001b[0m | \u001b[1mINFO    \u001b[0m | \u001b[36mretriever.get_retriever\u001b[0m:\u001b[36mindex_given_nodes\u001b[0m:\u001b[36m46\u001b[0m - \u001b[1mFound 2882 nodes in the collection.\u001b[0m\n",
      "\u001b[32m2024-04-01 16:42:28.772\u001b[0m | \u001b[1mINFO    \u001b[0m | \u001b[36mretriever.get_retriever\u001b[0m:\u001b[36mindex_given_nodes\u001b[0m:\u001b[36m54\u001b[0m - \u001b[1mFound 2882 nodes in the collection. Using the existing collection.\u001b[0m\n"
     ]
    }
   ],
   "source": [
    "query_engine_base = create_query_engine(hybrid_search=True, \n",
    "                                     sparse_top_k=5, \n",
    "                                     hybrid_search_alpha=0.8)\n",
    "\n",
    "query_engine_rewriter = create_query_engine(query_rewrite=True, \n",
    "                                     hybrid_search=True, \n",
    "                                     sparse_top_k=5, \n",
    "                                     hybrid_search_alpha=0.8)"
   ]
  },
  {
   "cell_type": "code",
   "execution_count": 3,
   "metadata": {},
   "outputs": [
    {
     "name": "stderr",
     "output_type": "stream",
     "text": [
      "\u001b[32m2024-04-01 16:42:33.290\u001b[0m | \u001b[1mINFO    \u001b[0m | \u001b[36mevaluation.eval_with_llamaindex\u001b[0m:\u001b[36mevaluate_multiple_experiments\u001b[0m:\u001b[36m152\u001b[0m - \u001b[1mEvaluating experiment: base\u001b[0m\n",
      "100%|██████████| 50/50 [02:22<00:00,  2.85s/it]\n",
      "100%|██████████| 50/50 [03:25<00:00,  4.12s/it]\n",
      "\u001b[32m2024-04-01 16:48:21.930\u001b[0m | \u001b[1mINFO    \u001b[0m | \u001b[36mevaluation.eval_with_llamaindex\u001b[0m:\u001b[36mevaluate_multiple_experiments\u001b[0m:\u001b[36m152\u001b[0m - \u001b[1mEvaluating experiment: rewriting_query\u001b[0m\n",
      "100%|██████████| 50/50 [04:12<00:00,  5.05s/it]\n",
      "100%|██████████| 50/50 [05:38<00:00,  6.77s/it]\n"
     ]
    }
   ],
   "source": [
    "experiment_to_query_engine = {\n",
    "    \"base\": query_engine_base,\n",
    "    \"rewriting_query\": query_engine_rewriter,\n",
    "}\n",
    "mean_scores_df, deep_dfs = evaluate_multiple_experiments(\n",
    "    experiment_to_query_engine=experiment_to_query_engine,\n",
    "    list_metrics=[\"faithfulness\", \"answer_relevancy\"],\n",
    "    general_exp_name=\"query_rewriting\",\n",
    "    code_name=\"code_civil\",\n",
    ")"
   ]
  },
  {
   "cell_type": "markdown",
   "metadata": {},
   "source": [
    "# Routing"
   ]
  },
  {
   "cell_type": "code",
   "execution_count": 2,
   "metadata": {},
   "outputs": [
    {
     "name": "stderr",
     "output_type": "stream",
     "text": [
      "\u001b[32m2024-04-03 21:46:37.230\u001b[0m | \u001b[1mINFO    \u001b[0m | \u001b[36mretriever.get_retriever\u001b[0m:\u001b[36mindex_nodes\u001b[0m:\u001b[36m96\u001b[0m - \u001b[1mCreating text nodes ...\u001b[0m\n",
      "\u001b[32m2024-04-03 21:46:37.257\u001b[0m | \u001b[1mINFO    \u001b[0m | \u001b[36mdata_ingestion.nodes_processing\u001b[0m:\u001b[36m_chunk_long_articles\u001b[0m:\u001b[36m102\u001b[0m - \u001b[1mTruncated 0 articles into smaller chunks.\u001b[0m\n",
      "\u001b[32m2024-04-03 21:46:37.309\u001b[0m | \u001b[1mINFO    \u001b[0m | \u001b[36mretriever.get_retriever\u001b[0m:\u001b[36mindex_nodes\u001b[0m:\u001b[36m106\u001b[0m - \u001b[1mText nodes creation finished.\u001b[0m\n",
      "\u001b[32m2024-04-03 21:46:37.309\u001b[0m | \u001b[1mINFO    \u001b[0m | \u001b[36mretriever.get_retriever\u001b[0m:\u001b[36mindex_given_nodes\u001b[0m:\u001b[36m39\u001b[0m - \u001b[1mCollection name: Code_civil_base_text-embedding-ada-002\u001b[0m\n",
      "\u001b[32m2024-04-03 21:46:37.325\u001b[0m | \u001b[1mINFO    \u001b[0m | \u001b[36mretriever.get_retriever\u001b[0m:\u001b[36mindex_given_nodes\u001b[0m:\u001b[36m46\u001b[0m - \u001b[1mFound 2882 nodes in the collection.\u001b[0m\n",
      "\u001b[32m2024-04-03 21:46:37.325\u001b[0m | \u001b[1mINFO    \u001b[0m | \u001b[36mretriever.get_retriever\u001b[0m:\u001b[36mindex_given_nodes\u001b[0m:\u001b[36m54\u001b[0m - \u001b[1mFound 2882 nodes in the collection. Using the existing collection.\u001b[0m\n",
      "\u001b[32m2024-04-03 21:46:37.521\u001b[0m | \u001b[1mINFO    \u001b[0m | \u001b[36mretriever.get_retriever\u001b[0m:\u001b[36mindex_nodes\u001b[0m:\u001b[36m96\u001b[0m - \u001b[1mCreating text nodes ...\u001b[0m\n",
      "\u001b[32m2024-04-03 21:46:37.592\u001b[0m | \u001b[1mINFO    \u001b[0m | \u001b[36mdata_ingestion.nodes_processing\u001b[0m:\u001b[36m_chunk_long_articles\u001b[0m:\u001b[36m102\u001b[0m - \u001b[1mTruncated 49 articles into smaller chunks.\u001b[0m\n",
      "\u001b[32m2024-04-03 21:46:37.635\u001b[0m | \u001b[1mINFO    \u001b[0m | \u001b[36mretriever.get_retriever\u001b[0m:\u001b[36mindex_nodes\u001b[0m:\u001b[36m106\u001b[0m - \u001b[1mText nodes creation finished.\u001b[0m\n",
      "\u001b[32m2024-04-03 21:46:37.635\u001b[0m | \u001b[1mINFO    \u001b[0m | \u001b[36mretriever.get_retriever\u001b[0m:\u001b[36mindex_given_nodes\u001b[0m:\u001b[36m39\u001b[0m - \u001b[1mCollection name: Code_général_des_impôts_base_text-embedding-ada-002\u001b[0m\n",
      "\u001b[32m2024-04-03 21:46:37.648\u001b[0m | \u001b[1mINFO    \u001b[0m | \u001b[36mretriever.get_retriever\u001b[0m:\u001b[36mindex_given_nodes\u001b[0m:\u001b[36m46\u001b[0m - \u001b[1mFound 2970 nodes in the collection.\u001b[0m\n",
      "\u001b[32m2024-04-03 21:46:37.648\u001b[0m | \u001b[1mINFO    \u001b[0m | \u001b[36mretriever.get_retriever\u001b[0m:\u001b[36mindex_given_nodes\u001b[0m:\u001b[36m54\u001b[0m - \u001b[1mFound 2970 nodes in the collection. Using the existing collection.\u001b[0m\n",
      "\u001b[32m2024-04-03 21:46:37.653\u001b[0m | \u001b[1mINFO    \u001b[0m | \u001b[36mretriever.get_retriever\u001b[0m:\u001b[36mindex_nodes\u001b[0m:\u001b[36m96\u001b[0m - \u001b[1mCreating text nodes ...\u001b[0m\n",
      "\u001b[32m2024-04-03 21:46:37.673\u001b[0m | \u001b[1mINFO    \u001b[0m | \u001b[36mdata_ingestion.nodes_processing\u001b[0m:\u001b[36m_chunk_long_articles\u001b[0m:\u001b[36m102\u001b[0m - \u001b[1mTruncated 2 articles into smaller chunks.\u001b[0m\n",
      "\u001b[32m2024-04-03 21:46:37.701\u001b[0m | \u001b[1mINFO    \u001b[0m | \u001b[36mretriever.get_retriever\u001b[0m:\u001b[36mindex_nodes\u001b[0m:\u001b[36m106\u001b[0m - \u001b[1mText nodes creation finished.\u001b[0m\n",
      "\u001b[32m2024-04-03 21:46:37.701\u001b[0m | \u001b[1mINFO    \u001b[0m | \u001b[36mretriever.get_retriever\u001b[0m:\u001b[36mindex_given_nodes\u001b[0m:\u001b[36m39\u001b[0m - \u001b[1mCollection name: Code_de_la_propriété_intellectuelle_base_text-embedding-ada-002\u001b[0m\n",
      "\u001b[32m2024-04-03 21:46:37.713\u001b[0m | \u001b[1mINFO    \u001b[0m | \u001b[36mretriever.get_retriever\u001b[0m:\u001b[36mindex_given_nodes\u001b[0m:\u001b[36m46\u001b[0m - \u001b[1mFound 1918 nodes in the collection.\u001b[0m\n",
      "\u001b[32m2024-04-03 21:46:37.713\u001b[0m | \u001b[1mINFO    \u001b[0m | \u001b[36mretriever.get_retriever\u001b[0m:\u001b[36mindex_given_nodes\u001b[0m:\u001b[36m54\u001b[0m - \u001b[1mFound 1918 nodes in the collection. Using the existing collection.\u001b[0m\n",
      "\u001b[32m2024-04-03 21:46:37.718\u001b[0m | \u001b[1mINFO    \u001b[0m | \u001b[36mretriever.get_retriever\u001b[0m:\u001b[36mindex_nodes\u001b[0m:\u001b[36m96\u001b[0m - \u001b[1mCreating text nodes ...\u001b[0m\n",
      "\u001b[32m2024-04-03 21:46:37.738\u001b[0m | \u001b[1mINFO    \u001b[0m | \u001b[36mdata_ingestion.nodes_processing\u001b[0m:\u001b[36m_chunk_long_articles\u001b[0m:\u001b[36m102\u001b[0m - \u001b[1mTruncated 3 articles into smaller chunks.\u001b[0m\n",
      "\u001b[32m2024-04-03 21:46:37.762\u001b[0m | \u001b[1mINFO    \u001b[0m | \u001b[36mretriever.get_retriever\u001b[0m:\u001b[36mindex_nodes\u001b[0m:\u001b[36m106\u001b[0m - \u001b[1mText nodes creation finished.\u001b[0m\n",
      "\u001b[32m2024-04-03 21:46:37.763\u001b[0m | \u001b[1mINFO    \u001b[0m | \u001b[36mretriever.get_retriever\u001b[0m:\u001b[36mindex_given_nodes\u001b[0m:\u001b[36m39\u001b[0m - \u001b[1mCollection name: Code_de_la_route_base_text-embedding-ada-002\u001b[0m\n",
      "\u001b[32m2024-04-03 21:46:37.777\u001b[0m | \u001b[1mINFO    \u001b[0m | \u001b[36mretriever.get_retriever\u001b[0m:\u001b[36mindex_given_nodes\u001b[0m:\u001b[36m46\u001b[0m - \u001b[1mFound 1194 nodes in the collection.\u001b[0m\n",
      "\u001b[32m2024-04-03 21:46:37.778\u001b[0m | \u001b[1mINFO    \u001b[0m | \u001b[36mretriever.get_retriever\u001b[0m:\u001b[36mindex_given_nodes\u001b[0m:\u001b[36m54\u001b[0m - \u001b[1mFound 1194 nodes in the collection. Using the existing collection.\u001b[0m\n",
      "\u001b[32m2024-04-03 21:46:37.783\u001b[0m | \u001b[1mINFO    \u001b[0m | \u001b[36mretriever.get_retriever\u001b[0m:\u001b[36mindex_nodes\u001b[0m:\u001b[36m96\u001b[0m - \u001b[1mCreating text nodes ...\u001b[0m\n",
      "\u001b[32m2024-04-03 21:46:37.876\u001b[0m | \u001b[1mINFO    \u001b[0m | \u001b[36mdata_ingestion.nodes_processing\u001b[0m:\u001b[36m_chunk_long_articles\u001b[0m:\u001b[36m102\u001b[0m - \u001b[1mTruncated 10 articles into smaller chunks.\u001b[0m\n",
      "\u001b[32m2024-04-03 21:46:38.121\u001b[0m | \u001b[1mINFO    \u001b[0m | \u001b[36mretriever.get_retriever\u001b[0m:\u001b[36mindex_nodes\u001b[0m:\u001b[36m106\u001b[0m - \u001b[1mText nodes creation finished.\u001b[0m\n",
      "\u001b[32m2024-04-03 21:46:38.122\u001b[0m | \u001b[1mINFO    \u001b[0m | \u001b[36mretriever.get_retriever\u001b[0m:\u001b[36mindex_given_nodes\u001b[0m:\u001b[36m39\u001b[0m - \u001b[1mCollection name: Code_du_travail_base_text-embedding-ada-002\u001b[0m\n",
      "\u001b[32m2024-04-03 21:46:38.135\u001b[0m | \u001b[1mINFO    \u001b[0m | \u001b[36mretriever.get_retriever\u001b[0m:\u001b[36mindex_given_nodes\u001b[0m:\u001b[36m46\u001b[0m - \u001b[1mFound 11514 nodes in the collection.\u001b[0m\n",
      "\u001b[32m2024-04-03 21:46:38.135\u001b[0m | \u001b[1mINFO    \u001b[0m | \u001b[36mretriever.get_retriever\u001b[0m:\u001b[36mindex_given_nodes\u001b[0m:\u001b[36m54\u001b[0m - \u001b[1mFound 11514 nodes in the collection. Using the existing collection.\u001b[0m\n"
     ]
    },
    {
     "ename": "ValueError",
     "evalue": "Module response_synthesizer not found.",
     "output_type": "error",
     "traceback": [
      "\u001b[0;31m---------------------------------------------------------------------------\u001b[0m",
      "\u001b[0;31mValueError\u001b[0m                                Traceback (most recent call last)",
      "Cell \u001b[0;32mIn[2], line 1\u001b[0m\n\u001b[0;32m----> 1\u001b[0m routing_query_engine \u001b[38;5;241m=\u001b[39m \u001b[43mcreate_routing_engine\u001b[49m\u001b[43m(\u001b[49m\u001b[43m)\u001b[49m\n",
      "File \u001b[0;32m~/projects/code_rag/query/routing.py:54\u001b[0m, in \u001b[0;36mcreate_routing_engine\u001b[0;34m()\u001b[0m\n\u001b[1;32m     49\u001b[0m query_engine_tools \u001b[38;5;241m=\u001b[39m get_tools()\n\u001b[1;32m     50\u001b[0m query_engine \u001b[38;5;241m=\u001b[39m RouterQueryEngine(\n\u001b[1;32m     51\u001b[0m     selector\u001b[38;5;241m=\u001b[39mLLMMultiSelector\u001b[38;5;241m.\u001b[39mfrom_defaults(),\n\u001b[1;32m     52\u001b[0m     query_engine_tools\u001b[38;5;241m=\u001b[39mquery_engine_tools,\n\u001b[1;32m     53\u001b[0m )\n\u001b[0;32m---> 54\u001b[0m query_engine \u001b[38;5;241m=\u001b[39m \u001b[43mupdate_prompts_for_query_engine\u001b[49m\u001b[43m(\u001b[49m\u001b[43mquery_engine\u001b[49m\u001b[43m)\u001b[49m\n\u001b[1;32m     55\u001b[0m \u001b[38;5;28;01mreturn\u001b[39;00m query_engine\n",
      "File \u001b[0;32m~/projects/code_rag/query/routing.py:32\u001b[0m, in \u001b[0;36mupdate_prompts_for_query_engine\u001b[0;34m(query_engine)\u001b[0m\n\u001b[1;32m     20\u001b[0m new_tmpl_str \u001b[38;5;241m=\u001b[39m (\n\u001b[1;32m     21\u001b[0m     \u001b[38;5;124m\"\u001b[39m\u001b[38;5;124mContext information is below.\u001b[39m\u001b[38;5;130;01m\\n\u001b[39;00m\u001b[38;5;124m\"\u001b[39m\n\u001b[1;32m     22\u001b[0m     \u001b[38;5;124m\"\u001b[39m\u001b[38;5;124m---------------------\u001b[39m\u001b[38;5;130;01m\\n\u001b[39;00m\u001b[38;5;124m\"\u001b[39m\n\u001b[0;32m   (...)\u001b[0m\n\u001b[1;32m     29\u001b[0m     \u001b[38;5;124m\"\u001b[39m\u001b[38;5;124mAnswer: \u001b[39m\u001b[38;5;124m\"\u001b[39m\n\u001b[1;32m     30\u001b[0m )\n\u001b[1;32m     31\u001b[0m new_tmpl \u001b[38;5;241m=\u001b[39m PromptTemplate(new_tmpl_str)\n\u001b[0;32m---> 32\u001b[0m \u001b[43mquery_engine\u001b[49m\u001b[38;5;241;43m.\u001b[39;49m\u001b[43mupdate_prompts\u001b[49m\u001b[43m(\u001b[49m\u001b[43m{\u001b[49m\u001b[38;5;124;43m\"\u001b[39;49m\u001b[38;5;124;43mresponse_synthesizer:text_qa_template\u001b[39;49m\u001b[38;5;124;43m\"\u001b[39;49m\u001b[43m:\u001b[49m\u001b[43m \u001b[49m\u001b[43mnew_tmpl\u001b[49m\u001b[43m}\u001b[49m\u001b[43m)\u001b[49m\n\u001b[1;32m     33\u001b[0m \u001b[38;5;28;01mreturn\u001b[39;00m query_engine\n",
      "File \u001b[0;32m~/.pyenv/versions/3.11.8/envs/rag/lib/python3.11/site-packages/llama_index/core/prompts/mixin.py:75\u001b[0m, in \u001b[0;36mPromptMixin.update_prompts\u001b[0;34m(self, prompts_dict)\u001b[0m\n\u001b[1;32m     73\u001b[0m \u001b[38;5;28;01mfor\u001b[39;00m module_name, sub_prompt_dict \u001b[38;5;129;01min\u001b[39;00m sub_prompt_dicts\u001b[38;5;241m.\u001b[39mitems():\n\u001b[1;32m     74\u001b[0m     \u001b[38;5;28;01mif\u001b[39;00m module_name \u001b[38;5;129;01mnot\u001b[39;00m \u001b[38;5;129;01min\u001b[39;00m prompt_modules:\n\u001b[0;32m---> 75\u001b[0m         \u001b[38;5;28;01mraise\u001b[39;00m \u001b[38;5;167;01mValueError\u001b[39;00m(\u001b[38;5;124mf\u001b[39m\u001b[38;5;124m\"\u001b[39m\u001b[38;5;124mModule \u001b[39m\u001b[38;5;132;01m{\u001b[39;00mmodule_name\u001b[38;5;132;01m}\u001b[39;00m\u001b[38;5;124m not found.\u001b[39m\u001b[38;5;124m\"\u001b[39m)\n\u001b[1;32m     76\u001b[0m     module \u001b[38;5;241m=\u001b[39m prompt_modules[module_name]\n\u001b[1;32m     77\u001b[0m     module\u001b[38;5;241m.\u001b[39mupdate_prompts(sub_prompt_dict)\n",
      "\u001b[0;31mValueError\u001b[0m: Module response_synthesizer not found."
     ]
    }
   ],
   "source": [
    "routing_query_engine = create_routing_engine()"
   ]
  },
  {
   "cell_type": "code",
   "execution_count": 2,
   "metadata": {},
   "outputs": [
    {
     "ename": "NameError",
     "evalue": "name 'routing_query_engine' is not defined",
     "output_type": "error",
     "traceback": [
      "\u001b[0;31m---------------------------------------------------------------------------\u001b[0m",
      "\u001b[0;31mNameError\u001b[0m                                 Traceback (most recent call last)",
      "Cell \u001b[0;32mIn[2], line 2\u001b[0m\n\u001b[1;32m      1\u001b[0m question \u001b[38;5;241m=\u001b[39m \u001b[38;5;124m\"\u001b[39m\u001b[38;5;124mQuelles sont les conditions pour bénéficier d\u001b[39m\u001b[38;5;124m'\u001b[39m\u001b[38;5;124mun congé sabbatique \u001b[39m\u001b[38;5;130;01m\\n\u001b[39;00m\u001b[38;5;124m Comment sont imposées les plus-values immobilières\u001b[39m\u001b[38;5;124m\"\u001b[39m\n\u001b[0;32m----> 2\u001b[0m res \u001b[38;5;241m=\u001b[39m \u001b[43mrouting_query_engine\u001b[49m\u001b[38;5;241m.\u001b[39mquery(question)\n",
      "\u001b[0;31mNameError\u001b[0m: name 'routing_query_engine' is not defined"
     ]
    }
   ],
   "source": [
    "question = \"Quelles sont les conditions pour bénéficier d'un congé sabbatique \\n Comment sont imposées les plus-values immobilières\"\n",
    "res = routing_query_engine.query(question)"
   ]
  },
  {
   "cell_type": "code",
   "execution_count": 9,
   "metadata": {},
   "outputs": [
    {
     "data": {
      "text/plain": [
       "[NodeWithScore(node=TextNode(id_='806aa1fd-b76a-407a-8635-80730f2c8950', embedding=None, metadata={'Nom du code': 'Code du travail', 'livre': 'Durée du travail, repos et congés', 'titre': 'Durée du travail, répartition et aménagement des horaires', 'chapitre': 'Durée et aménagement du travail', 'section': 'Durée légale et heures supplémentaires', 'sous-section': 'Contrepartie obligatoire en repos', 'paragraphe': 'Dispositions supplétives', 'id': 'D3121-21', 'Article numero': 'D3121-21'}, excluded_embed_metadata_keys=[], excluded_llm_metadata_keys=[], relationships={}, text=\"<br/>Lorsque des impératifs liés au fonctionnement de l'entreprise font obstacle à ce que plusieurs demandes de  contrepartie obligatoire en repos soient simultanément satisfaites, les demandeurs sont départagés, selon l'ordre de priorité suivant : <br/>1° Les demandes déjà différées ; <br/>2° La situation de famille ; <br/>3° L'ancienneté dans l'entreprise.\", start_char_idx=None, end_char_idx=None, text_template='{metadata_str}\\n\\n{content}', metadata_template='{key}: {value}', metadata_seperator='\\n'), score=0.8700608),\n",
       " NodeWithScore(node=TextNode(id_='b804575e-bf08-4f6c-9ba3-e10a9d2dc9bf', embedding=None, metadata={'Nom du code': 'Code du travail', 'livre': 'Durée du travail, repos et congés', 'titre': 'Durée du travail, répartition et aménagement des horaires', 'chapitre': 'Durée et aménagement du travail', 'section': 'Durée légale et heures supplémentaires', 'sous-section': 'Contrepartie obligatoire en repos', 'paragraphe': 'Ordre public', 'id': 'D3121-17', 'Article numero': 'D3121-17'}, excluded_embed_metadata_keys=[], excluded_llm_metadata_keys=[], relationships={}, text=\"L'absence de demande de prise de la contrepartie obligatoire en repos par le salarié ne peut entraîner la perte de son droit au repos. Dans ce cas, l'employeur lui demande de prendre effectivement ses repos dans un délai maximum d'un an.\", start_char_idx=None, end_char_idx=None, text_template='{metadata_str}\\n\\n{content}', metadata_template='{key}: {value}', metadata_seperator='\\n'), score=0.86865795),\n",
       " NodeWithScore(node=TextNode(id_='7a404f5d-fcc5-4958-bbf9-10e9544daa95', embedding=None, metadata={'Nom du code': 'Code du travail', 'livre': 'Durée du travail, repos et congés', 'titre': 'Contrôle de la durée du travail et des repos', 'chapitre': 'Contrôle de la durée du travail', 'section': 'Définition des horaires et affichages', 'sous-section': 'Informations annexées au bulletin de paie', 'id': 'D3171-11', 'Article numero': 'D3171-11'}, excluded_embed_metadata_keys=[], excluded_llm_metadata_keys=[], relationships={}, text=\"A défaut de précision conventionnelle contraire, les salariés sont informés du nombre d'heures de repos compensateur de remplacement et de contrepartie obligatoire en repos portés à leur crédit par un document annexé au bulletin de paie. Dès que ce nombre atteint sept heures, ce document comporte une mention notifiant l'ouverture du droit à repos et l'obligation de le prendre dans un délai maximum de deux mois après son ouverture.\", start_char_idx=None, end_char_idx=None, text_template='{metadata_str}\\n\\n{content}', metadata_template='{key}: {value}', metadata_seperator='\\n'), score=0.8634081),\n",
       " NodeWithScore(node=TextNode(id_='265cfcf1-32ca-4302-afa0-a6df0e5042f0', embedding=None, metadata={'Nom du code': 'Code du travail', 'livre': 'Durée du travail, repos et congés', 'titre': 'Durée du travail, répartition et aménagement des horaires', 'chapitre': 'Durée et aménagement du travail', 'section': 'Durée légale et heures supplémentaires', 'sous-section': 'Contrepartie obligatoire en repos', 'paragraphe': 'Dispositions supplétives', 'id': 'D3121-20', 'Article numero': 'D3121-20'}, excluded_embed_metadata_keys=[], excluded_llm_metadata_keys=[], relationships={}, text=\"Le salarié adresse sa demande de contrepartie obligatoire en repos à l'employeur au moins une semaine à l'avance.\\n<br/>\\nLa demande précise la date et la durée du repos.\\n<br/>\\nDans les sept jours suivant la réception de la demande, l'employeur informe l'intéressé soit de son accord, soit, après consultation du comité social et économique, des raisons relevant d'impératifs liés au fonctionnement de l'entreprise qui motivent le report de la demande.\\n<br/>\\nEn cas de report, l'employeur propose au salarié une autre date à l'intérieur du délai de deux mois prévu à l'article D. 3121-22.\", start_char_idx=None, end_char_idx=None, text_template='{metadata_str}\\n\\n{content}', metadata_template='{key}: {value}', metadata_seperator='\\n'), score=0.86254644),\n",
       " NodeWithScore(node=TextNode(id_='41082ff6-3ca4-4a40-b829-84d9ad455065', embedding=None, metadata={'Nom du code': 'Code du travail', 'livre': 'Durée du travail, repos et congés', 'titre': 'Durée du travail, répartition et aménagement des horaires', 'chapitre': 'Durée et aménagement du travail', 'section': 'Durée légale et heures supplémentaires', 'sous-section': 'Contrepartie obligatoire en repos', 'paragraphe': 'Dispositions supplétives', 'id': 'D3121-19', 'Article numero': 'D3121-19'}, excluded_embed_metadata_keys=[], excluded_llm_metadata_keys=[], relationships={}, text=\"La contrepartie obligatoire en repos peut être prise par journée entière ou par demi-journée à la convenance du salarié. <br/>\\n<br/>  Elle est assimilée à une période de travail effectif pour le calcul des  droits du salarié. Elle donne lieu à une indemnisation qui n'entraîne  aucune diminution de rémunération par rapport à celle que le salarié  aurait perçue s'il avait accompli son travail.\", start_char_idx=None, end_char_idx=None, text_template='{metadata_str}\\n\\n{content}', metadata_template='{key}: {value}', metadata_seperator='\\n'), score=0.8621023),\n",
       " NodeWithScore(node=TextNode(id_='c864eda8-6a0c-4bbb-874a-7dd9b0fff0d4', embedding=None, metadata={'Nom du code': 'Code général des impôts', 'id': '39_chunk_0', 'livre': \"Assiette et liquidation de l'impôt\", 'titre': 'Impôts directs et taxes assimilées', 'chapitre': 'Impôt sur le revenu', 'section': 'Revenus imposables', 'Article numero': '39'}, excluded_embed_metadata_keys=[], excluded_llm_metadata_keys=[], relationships={}, text=\"1. Le bénéfice net est établi sous déduction de toutes charges, celles-ci comprenant, sous réserve des dispositions du 5, notamment : 1° Les frais généraux de toute nature, les dépenses de personnel et de main-d'oeuvre, le loyer des immeubles dont l'entreprise est locataire. Toutefois les rémunérations ne sont admises en déduction des résultats que dans la mesure où elles correspondent à un travail effectif et ne sont pas excessives eu égard à l'importance du service rendu. Cette disposition s'applique à toutes les rémunérations directes ou indirectes, y compris les indemnités, allocations, avantages en nature et remboursements de frais. Une entreprise mettant à disposition de manière temporaire un salarié dans les conditions prévues à l'article L. 8241-3 du code du travail peut déduire les salaires, charges sociales afférentes et frais professionnels remboursés au salarié mis à disposition, même lorsqu'elle ne refacture que partiellement ces coûts à l'entreprise bénéficiaire de la mise à disposition. Le bénéfice de la déduction, pour la part excédant la refacturation, est subordonné au respect du règlement (UE) n° 1407/2013 de la Commission du 18 décembre 2013 relatif à l'application des articles 107 et 108 du traité sur le fonctionnement de l'Union européenne aux aides de minimis. 1° bis Pour les exercices clos à compter du 31 décembre 1987 et sous réserve des dispositions du 9, l'indemnité de congé payé calculée dans les conditions prévues aux articles L. 3141-24 à L. 3141-27 du code du travail, y compris les charges sociales et fiscales afférentes à cette indemnité. Par exception aux dispositions du premier alinéa et sur option irrévocable de l'entreprise, cette indemnité ainsi que les charges sociales et fiscales y afférentes revêtent du point de vue fiscal le caractère d'un salaire de substitution qui constitue une charge normale de l'exercice au cours duquel le salarié prend le congé correspondant. Cette option ne peut pas être exercée par les entreprises \", start_char_idx=None, end_char_idx=None, text_template='{metadata_str}\\n\\n{content}', metadata_template='{key}: {value}', metadata_seperator='\\n'), score=0.8365537),\n",
       " NodeWithScore(node=TextNode(id_='10e49d95-3355-4628-88ec-7c5854175783', embedding=None, metadata={'Nom du code': 'Code général des impôts', 'id': '81_chunk_6', 'livre': \"Assiette et liquidation de l'impôt\", 'titre': 'Impôts directs et taxes assimilées', 'chapitre': 'Impôt sur le revenu', 'section': 'Revenus imposables', 'Article numero': '81'}, excluded_embed_metadata_keys=[], excluded_llm_metadata_keys=[], relationships={}, text=\"salarié des titres-restaurant émis conformément aux dispositions du chapitre II du titre VI du livre II de la troisième partie du code du travail, lorsque cette contribution est comprise entre un minimum et un maximum fixés par arrêté du ministre chargé du budget. La limite d'exonération est relevée chaque année dans la même proportion que la variation de l'indice des prix à la consommation hors tabac entre le 1er octobre de l'avant-dernière année et le 1er octobre de l'année précédant celle de l'acquisition des titres-restaurant et arrondie, s'il y a lieu, au centime d'euro le plus proche. Cette exonération est subordonnée à la condition que le salarié se conforme aux obligations qui sont mises à sa charge par le même chapitre II ; 19° bis l'avantage résultant de la contribution de l'employeur à l'acquisition des chèques-vacances dans les conditions et limite prévues à la section 1 du chapitre Ier du titre Ier du livre IV du code du tourisme ; 19° ter a. L'avantage résultant de la prise en charge obligatoire par l'employeur du prix des titres d'abonnement souscrits par les salariés pour les déplacements effectués au moyen de transports publics de voyageurs ou de services publics de location de vélos entre leur résidence habituelle et leur lieu de travail, conformément à l'article L. 3261-2 du code du travail ; b. L'avantage résultant de la prise en charge par l'employeur des frais de carburant ou des frais exposés pour l'alimentation de véhicules électriques, hybrides rechargeables ou hydrogène engagés par les salariés dans les conditions prévues à l'article L. 3261-3 du code du travail et des frais mentionnés à l'article L. 3261-3-1 du même code, dans la limite globale de 500 € par an, dont 200 € au maximum pour les frais de carburant. Lorsque la prise en charge des frais de transports personnels engagés par les salariés est cumulée avec la prise en charge prévue à l'article L. 3261-2 dudit code, l'avantage résultant de ces deux prises en charge ne peut dépasser \", start_char_idx=None, end_char_idx=None, text_template='{metadata_str}\\n\\n{content}', metadata_template='{key}: {value}', metadata_seperator='\\n'), score=0.8346603),\n",
       " NodeWithScore(node=TextNode(id_='6afbaf50-a997-4ff2-9518-b0107c91aa23', embedding=None, metadata={'Nom du code': 'Code général des impôts', 'id': '81_chunk_5', 'livre': \"Assiette et liquidation de l'impôt\", 'titre': 'Impôts directs et taxes assimilées', 'chapitre': 'Impôt sur le revenu', 'section': 'Revenus imposables', 'Article numero': '81'}, excluded_embed_metadata_keys=[], excluded_llm_metadata_keys=[], relationships={}, text=\"l'article L. 3152-4 du code du travail ou du deuxième alinéa de l'article L. 3334-8 du même code ; b bis) Dans la limite de dix jours par an, les sommes mentionnées au 2° de l'article L. 224-2 du code monétaire et financier issues de droits inscrits au compte épargne-temps qui ne correspondent pas à un abondement de l'employeur en temps ou en argent ou, en l'absence de compte d'épargne temps dans l'entreprise, à celles correspondant à des jours de repos non pris, qui sont versées dans un plan d'épargne retraite mentionné à l'article L. 224-13 ou à l'article L. 224-23 du même code ; 18° bis Dans la limite du montant prévu au premier alinéa de l'article L. 3315-2 du code du travail, les sommes reçues au titre de l'intéressement et affectées à la réalisation de plans d'épargne constitués conformément au titre III du livre III de la troisième partie du code du travail ou, en application du 2° de l'article L. 224-2 du code monétaire et financier, à la réalisation d'un plan d'épargne retraite mentionné à l'article L. 224-13 ou à l'article L. 224-23 du même code. L'exonération s'applique sous réserve du dépôt de l'accord d'intéressement, dans les conditions prévues aux articles L. 3313-3 et L. 3314-4 du code du travail, auprès de l'autorité administrative compétente. Les dispositions du premier alinéa bénéficient également, dans les mêmes conditions et limites aux dividendes des actions de travail attribuées aux salariés des sociétés anonymes à participation ouvrière régies par la loi du 26 avril 1917, à compter du 1er janvier 1991 ; 18° ter Les sommes versées par les employeurs au titre du financement de contrats de retraite qui sont assujetties à la contribution mentionnée à l'article L. 137-11-2 du code de la sécurité sociale, ainsi que le montant de la revalorisation des droits correspondants prévue au 5° du I du même article ; 19° Dans la limite de 6,91 € par titre, le complément de rémunération résultant de la contribution de l'employeur à l'acquisition par le \", start_char_idx=None, end_char_idx=None, text_template='{metadata_str}\\n\\n{content}', metadata_template='{key}: {value}', metadata_seperator='\\n'), score=0.8326676),\n",
       " NodeWithScore(node=TextNode(id_='17495e81-19b2-48fe-84c7-d880e5d00017', embedding=None, metadata={'Nom du code': 'Code général des impôts', 'id': '39_chunk_1', 'livre': \"Assiette et liquidation de l'impôt\", 'titre': 'Impôts directs et taxes assimilées', 'chapitre': 'Impôt sur le revenu', 'section': 'Revenus imposables', 'Article numero': '39'}, excluded_embed_metadata_keys=[], excluded_llm_metadata_keys=[], relationships={}, text=\"créées après le 31 décembre 1986. Elle est exercée avant l'expiration du délai de dépôt de la déclaration des résultats du premier exercice clos à compter du 31 décembre 1987. Pour les exercices clos avant le 31 décembre 1987, l'indemnité de congé payé calculée dans les conditions prévues aux articles L. 3141-24 à L. 3141-27 du code du travail revêt du point de vue fiscal le caractère d'un salaire de substitution qui constitue une charge normale de l'exercice au cours duquel le salarié prend le congé correspondant. Pour la détermination des résultats imposables des exercices clos du 1er janvier 1986 au 30 décembre 1987, il en est de même des charges sociales et fiscales afférentes à cette indemnité. Un décret fixe les modalités d'application de ces dispositions. 1° ter Pour les emprunts contractés à compter du 1er janvier 1993, la fraction, courue au cours de l'exercice, de la rémunération égale à la différence entre les sommes ou valeurs à verser, autres que les intérêts, et celles reçues à l'émission, lorsque cette rémunération excède 10 % des sommes initialement mises à la disposition de l'emprunteur. Cette fraction courue est déterminée de manière actuarielle, selon la méthode des intérêts composés. Pour les emprunts dont le montant à rembourser est indexé, ces dispositions s'appliquent à la fraction de la rémunération qui est certaine dans son principe et son montant dès l'origine, si cette fraction excède 10 % des sommes initialement mises à la disposition de l'emprunteur. Elles ne sont pas applicables aux emprunts convertibles et à ceux dont le remboursement est à la seule initiative de l'emprunteur. 1° quater Sur option irrévocable et globale de l'émetteur pour une période de deux ans, les frais d'émission des emprunts répartis par fractions égales ou au prorata de la rémunération courue, sur la durée des emprunts émis pendant cette période. En cas de remboursement anticipé d'un emprunt, de conversion ou d'échange, les frais d'émission non encore déduits \", start_char_idx=None, end_char_idx=None, text_template='{metadata_str}\\n\\n{content}', metadata_template='{key}: {value}', metadata_seperator='\\n'), score=0.8321541),\n",
       " NodeWithScore(node=TextNode(id_='d91aa2d3-f41a-4098-815e-85b4700385c3', embedding=None, metadata={'Nom du code': 'Code général des impôts', 'livre': \"Assiette et liquidation de l'impôt\", 'titre': \"Impositions perçues au profit de certains établissements publics et d'organismes divers\", 'chapitre': 'Impôts directs et taxes assimilées', 'section': \"Taxe pour frais de chambres de métiers et de l'artisanat\", 'id': '1601-0 A', 'Article numero': '1601-0 A'}, excluded_embed_metadata_keys=[], excluded_llm_metadata_keys=[], relationships={}, text=\"Par dérogation aux a et b de l'article 1601, les droits correspondants dus par les chefs d'entreprise bénéficiant du régime prévu à l'article L. 613-7 du code de la sécurité sociale sont calculés en appliquant au montant de leur chiffre d'affaires le taux applicable prévu par le tableau suivant :\\n(en pourcentage)\\n<center><center><table border='1'><tbody><tr><th></th><th><br/>\\n\\t\\t\\tHors départements du Bas-Rhin,<br/>\\n<br/>\\n\\t\\t\\tdu Haut-Rhin et de la Moselle</th><th><br/>\\n\\t\\t\\tDépartements du Bas-Rhin<br/>\\n<br/>\\n\\t\\t\\tet du Haut-Rhin</th><th><br/>\\n\\t\\t\\tDépartement<br/>\\n<br/>\\n\\t\\t\\tde la Moselle</th></tr><tr><td align='left'><br/>\\n\\t\\t\\tPrestation de services</td><td align='center'><br/>\\n\\t\\t\\t0,48</td><td align='center'><br/>\\n\\t\\t\\t0,65</td><td align='center'><br/>\\n\\t\\t\\t0,83</td></tr><tr><td align='left'><br/>\\n\\t\\t\\tAchat-vente</td><td align='center'><br/>\\n\\t\\t\\t0,22</td><td align='center'><br/>\\n\\t\\t\\t0,29</td><td align='center'><br/>\\n\\t\\t\\t0,37</td></tr></tbody></table></center></center>\\nToutefois, ces droits ne sont pas dus par les redevables de la cotisation foncière des entreprises qui bénéficient de l'exonération de cotisation minimum prévue au troisième alinéa du 1 du I de l'article 1647 D. Le bénéfice de cette exonération est subordonné au respect du règlement (UE) n° 1407/2013 de la Commission du 18 décembre 2013 relatif à l'application des articles 107 et 108 du traité sur le fonctionnement de l'Union européenne aux aides de minimis.\\nCes droits sont recouvrés et contrôlés par les organismes mentionnés aux articles L. 213-1 et L. 752-4 du code de la sécurité sociale suivant la périodicité, selon les règles et sous les garanties et les sanctions applicables au recouvrement des cotisations et des contributions de sécurité sociale mentionnées à l'article L. 613-7 du même code. Les règles applicables en cas de contentieux sont celles prévues au chapitre II du titre IV du livre Ier dudit code.\\nUn arrêté conjoint des ministres chargés de la sécurité sociale et de l'artisanat prévoit les modalités de la rémunération du service rendu par les organismes chargés du recouvrement de ces droits.\", start_char_idx=None, end_char_idx=None, text_template='{metadata_str}\\n\\n{content}', metadata_template='{key}: {value}', metadata_seperator='\\n'), score=0.83198386)]"
      ]
     },
     "execution_count": 9,
     "metadata": {},
     "output_type": "execute_result"
    }
   ],
   "source": [
    "res.source_nodes"
   ]
  },
  {
   "cell_type": "code",
   "execution_count": 10,
   "metadata": {},
   "outputs": [
    {
     "data": {
      "text/plain": [
       "\"Les employeurs ont l'obligation de proposer une contrepartie obligatoire en repos aux salariés, qui peut être prise par journée entière ou par demi-journée. Cette contrepartie est assimilée à une période de travail effectif pour le calcul des droits du salarié et ne doit entraîner aucune diminution de rémunération par rapport à celle qu'il aurait perçue s'il avait travaillé. Ces dispositions sont prises en compte dans le calcul des impôts sur les salaires en tant que périodes de travail effectif, ce qui signifie que les salariés ne subissent pas de perte de rémunération lorsqu'ils prennent leur contrepartie obligatoire en repos.\""
      ]
     },
     "execution_count": 10,
     "metadata": {},
     "output_type": "execute_result"
    }
   ],
   "source": [
    "res.response"
   ]
  },
  {
   "cell_type": "markdown",
   "metadata": {},
   "source": [
    "# other"
   ]
  },
  {
   "cell_type": "code",
   "execution_count": null,
   "metadata": {},
   "outputs": [],
   "source": []
  },
  {
   "cell_type": "code",
   "execution_count": 2,
   "metadata": {},
   "outputs": [
    {
     "name": "stderr",
     "output_type": "stream",
     "text": [
      "\u001b[32m2024-04-01 16:20:11.357\u001b[0m | \u001b[1mINFO    \u001b[0m | \u001b[36mretriever.get_retriever\u001b[0m:\u001b[36mindex_nodes\u001b[0m:\u001b[36m97\u001b[0m - \u001b[1mCreating text nodes ...\u001b[0m\n",
      "\u001b[32m2024-04-01 16:20:11.375\u001b[0m | \u001b[1mINFO    \u001b[0m | \u001b[36mdata_ingestion.nodes_processing\u001b[0m:\u001b[36m_chunk_long_articles\u001b[0m:\u001b[36m119\u001b[0m - \u001b[1mTruncated 0 articles into smaller chunks.\u001b[0m\n",
      "\u001b[32m2024-04-01 16:20:11.418\u001b[0m | \u001b[1mINFO    \u001b[0m | \u001b[36mretriever.get_retriever\u001b[0m:\u001b[36mindex_nodes\u001b[0m:\u001b[36m108\u001b[0m - \u001b[1mText nodes creation finished.\u001b[0m\n",
      "\u001b[32m2024-04-01 16:20:11.419\u001b[0m | \u001b[1mINFO    \u001b[0m | \u001b[36mretriever.get_retriever\u001b[0m:\u001b[36mindex_given_nodes\u001b[0m:\u001b[36m39\u001b[0m - \u001b[1mCollection name: Code_civil_base_hybrid_text-embedding-ada-002\u001b[0m\n",
      "\u001b[32m2024-04-01 16:20:11.436\u001b[0m | \u001b[1mINFO    \u001b[0m | \u001b[36mretriever.get_retriever\u001b[0m:\u001b[36mindex_given_nodes\u001b[0m:\u001b[36m46\u001b[0m - \u001b[1mFound 2882 nodes in the collection.\u001b[0m\n",
      "\u001b[32m2024-04-01 16:20:11.437\u001b[0m | \u001b[1mINFO    \u001b[0m | \u001b[36mretriever.get_retriever\u001b[0m:\u001b[36mindex_given_nodes\u001b[0m:\u001b[36m54\u001b[0m - \u001b[1mFound 2882 nodes in the collection. Using the existing collection.\u001b[0m\n"
     ]
    }
   ],
   "source": [
    "query_rewriter = create_query_engine(query_rewrite=True, \n",
    "                                     hybrid_search=True, \n",
    "                                     sparse_top_k=5, \n",
    "                                     hybrid_search_alpha=0.8)"
   ]
  },
  {
   "cell_type": "code",
   "execution_count": 3,
   "metadata": {},
   "outputs": [
    {
     "name": "stdout",
     "output_type": "stream",
     "text": [
      "Generated queries:\n",
      "1. Quelles sont les procédures légales pour refuser un héritage selon le Code civil français?\n",
      "2. Quels sont les droits et obligations d'un héritier qui souhaite renoncer à une succession en France?\n",
      "3. Comment se déroule la renonciation à un héritage en vertu du Code civil français?\n"
     ]
    },
    {
     "data": {
      "text/plain": [
       "Response(response=\"Selon le code civil et l'article 804, la renonciation à une succession ne se présume pas.\", source_nodes=[NodeWithScore(node=TextNode(id_='a7e91b29-16a6-46ff-a755-45d7c8ea7b26', embedding=None, metadata={'Nom du code': 'Code civil', 'livre': 'Des différentes manières dont on acquiert la propriété', 'titre': 'Des successions', 'chapitre': \"De l'option de l'héritier\", 'section': 'De la renonciation à la succession.', 'id': '804', 'Article numero': '804'}, excluded_embed_metadata_keys=[], excluded_llm_metadata_keys=[], relationships={}, text=\"La renonciation à une succession ne se présume pas.\\nPour être opposable aux tiers, la renonciation opérée par l'héritier universel ou à titre universel doit être adressée ou déposée au tribunal dans le ressort duquel la succession s'est ouverte ou faite devant notaire.\\nDans le mois suivant la renonciation, le notaire qui l'a reçue en adresse copie au tribunal dans le ressort duquel la succession s'est ouverte.\", start_char_idx=None, end_char_idx=None, text_template='{metadata_str}\\n\\n{content}', metadata_template='{key}: {value}', metadata_seperator='\\n'), score=0.04972677595628415), NodeWithScore(node=TextNode(id_='c68a32e6-643b-4b74-b576-cc20c54cc847', embedding=None, metadata={'Nom du code': 'Code civil', 'livre': 'Des différentes manières dont on acquiert la propriété', 'titre': 'Des successions', 'chapitre': \"De l'option de l'héritier\", 'section': 'De la renonciation à la succession.', 'id': '806', 'Article numero': '806'}, excluded_embed_metadata_keys=[], excluded_llm_metadata_keys=[], relationships={}, text=\"Le renonçant n'est pas tenu au paiement des dettes et charges de la succession. Toutefois, il est tenu à proportion de ses moyens au paiement des frais funéraires de l'ascendant ou du descendant à la succession duquel il renonce.\", start_char_idx=None, end_char_idx=None, text_template='{metadata_str}\\n\\n{content}', metadata_template='{key}: {value}', metadata_seperator='\\n'), score=0.049189141547682), NodeWithScore(node=TextNode(id_='89ed6909-9720-4d02-875a-a9efe1eec9eb', embedding=None, metadata={'Nom du code': 'Code civil', 'livre': 'Des différentes manières dont on acquiert la propriété', 'titre': 'Des successions', 'chapitre': \"De l'option de l'héritier\", 'section': 'De la renonciation à la succession.', 'id': '807', 'Article numero': '807'}, excluded_embed_metadata_keys=[], excluded_llm_metadata_keys=[], relationships={}, text=\"Tant que la prescription du droit d'accepter n'est pas acquise contre lui, l'héritier peut révoquer sa renonciation en acceptant la succession purement et simplement, si elle n'a pas été déjà acceptée par un autre héritier ou si l'Etat n'a pas déjà été envoyé en possession.\\nCette acceptation rétroagit au jour de l'ouverture de la succession, sans toutefois remettre en cause les droits qui peuvent être acquis à des tiers sur les biens de la succession par prescription ou par actes valablement faits avec le curateur à la succession vacante.\", start_char_idx=None, end_char_idx=None, text_template='{metadata_str}\\n\\n{content}', metadata_template='{key}: {value}', metadata_seperator='\\n'), score=0.03149801587301587), NodeWithScore(node=TextNode(id_='53e974d3-38b8-4b77-96cd-4ecdf5906d68', embedding=None, metadata={'Nom du code': 'Code civil', 'livre': 'Des différentes manières dont on acquiert la propriété', 'titre': 'Des successions', 'chapitre': \"De l'option de l'héritier\", 'section': 'Dispositions générales.', 'id': '779', 'Article numero': '779'}, excluded_embed_metadata_keys=[], excluded_llm_metadata_keys=[], relationships={}, text=\"Les créanciers personnels de celui qui s'abstient d'accepter une succession ou qui renonce à une succession au préjudice de leurs droits peuvent être autorisés en justice à accepter la succession du chef de leur débiteur, en son lieu et place.\\nL'acceptation n'a lieu qu'en faveur de ces créanciers et jusqu'à concurrence de leurs créances. Elle ne produit pas d'autre effet à l'égard de l'héritier.\", start_char_idx=None, end_char_idx=None, text_template='{metadata_str}\\n\\n{content}', metadata_template='{key}: {value}', metadata_seperator='\\n'), score=0.01639344262295082), NodeWithScore(node=TextNode(id_='4c90c855-cf41-4a70-98f5-ab8cccb840b4', embedding=None, metadata={'Nom du code': 'Code civil', 'livre': 'Des différentes manières dont on acquiert la propriété', 'titre': 'Des successions', 'chapitre': 'Des héritiers.', 'section': \"Des droits des parents en l'absence de conjoint successible.\", 'paragraphe': 'De la représentation.', 'id': '754', 'Article numero': '754'}, excluded_embed_metadata_keys=[], excluded_llm_metadata_keys=[], relationships={}, text=\"On représente les prédécédés, on ne représente les renonçants que dans les successions dévolues en ligne directe ou collatérale.\\nLes enfants du renonçant conçus avant l'ouverture de la succession dont le renonçant a été exclu rapportent à la succession de ce dernier les biens dont ils ont hérité en son lieu et place, s'ils viennent en concours avec d'autres enfants conçus après l'ouverture de la succession. Le rapport se fait selon les dispositions énoncées à la section 2 du chapitre VIII du présent titre.\\nSauf volonté contraire du disposant, en cas de représentation d'un renonçant, les donations faites à ce dernier s'imputent, le cas échéant, sur la part de réserve qui aurait dû lui revenir s'il n'avait pas renoncé.\\nOn peut représenter celui à la succession duquel on a renoncé.\", start_char_idx=None, end_char_idx=None, text_template='{metadata_str}\\n\\n{content}', metadata_template='{key}: {value}', metadata_seperator='\\n'), score=0.016129032258064516)], metadata={'a7e91b29-16a6-46ff-a755-45d7c8ea7b26': {'Nom du code': 'Code civil', 'livre': 'Des différentes manières dont on acquiert la propriété', 'titre': 'Des successions', 'chapitre': \"De l'option de l'héritier\", 'section': 'De la renonciation à la succession.', 'id': '804', 'Article numero': '804'}, 'c68a32e6-643b-4b74-b576-cc20c54cc847': {'Nom du code': 'Code civil', 'livre': 'Des différentes manières dont on acquiert la propriété', 'titre': 'Des successions', 'chapitre': \"De l'option de l'héritier\", 'section': 'De la renonciation à la succession.', 'id': '806', 'Article numero': '806'}, '89ed6909-9720-4d02-875a-a9efe1eec9eb': {'Nom du code': 'Code civil', 'livre': 'Des différentes manières dont on acquiert la propriété', 'titre': 'Des successions', 'chapitre': \"De l'option de l'héritier\", 'section': 'De la renonciation à la succession.', 'id': '807', 'Article numero': '807'}, '53e974d3-38b8-4b77-96cd-4ecdf5906d68': {'Nom du code': 'Code civil', 'livre': 'Des différentes manières dont on acquiert la propriété', 'titre': 'Des successions', 'chapitre': \"De l'option de l'héritier\", 'section': 'Dispositions générales.', 'id': '779', 'Article numero': '779'}, '4c90c855-cf41-4a70-98f5-ab8cccb840b4': {'Nom du code': 'Code civil', 'livre': 'Des différentes manières dont on acquiert la propriété', 'titre': 'Des successions', 'chapitre': 'Des héritiers.', 'section': \"Des droits des parents en l'absence de conjoint successible.\", 'paragraphe': 'De la représentation.', 'id': '754', 'Article numero': '754'}})"
      ]
     },
     "execution_count": 3,
     "metadata": {},
     "output_type": "execute_result"
    }
   ],
   "source": [
    "query_engine_rewriter.query(\"Est-ce que je peux refuser un héritage?\")"
   ]
  },
  {
   "cell_type": "code",
   "execution_count": 9,
   "metadata": {},
   "outputs": [],
   "source": [
    "from llama_index.core.evaluation import FaithfulnessEvaluator\n",
    "from llama_index.llms.openai import OpenAI\n",
    "gpt4 = OpenAI(temperature=0, model=\"gpt-4\")\n",
    "\n",
    "evaluator_gpt4 = FaithfulnessEvaluator(llm=gpt4)"
   ]
  },
  {
   "cell_type": "code",
   "execution_count": 10,
   "metadata": {},
   "outputs": [],
   "source": [
    "response_vector = query_engine_window.query(\"How did New York City get its name?\")\n",
    "eval_result = evaluator_gpt4.evaluate_response(response=response_vector)"
   ]
  },
  {
   "cell_type": "code",
   "execution_count": 11,
   "metadata": {},
   "outputs": [
    {
     "data": {
      "text/plain": [
       "EvaluationResult(query=None, contexts=[\"Nom du code: Code civil\\ntitre: De la publication, des effets et de l'application des lois en général\\nid: 2\\nArticle numero: 2\\n\\nLa loi ne dispose que pour l'avenir ; elle n'a point d'effet rétroactif.\\nNom du code: Code civil\\ntitre: De la publication, des effets et de l'application des lois en général\\nid: 3\\nArticle numero: 3\\n\\nLes lois de police et de sûreté obligent tous ceux qui habitent le territoire.\\nLes immeubles, même ceux possédés par des étrangers, sont régis par la loi française.\\nLes lois concernant l'état et la capacité des personnes régissent les Français, même résidant en pays étranger.\\nNom du code: Code civil\\ntitre: De la publication, des effets et de l'application des lois en général\\nid: 4\\nArticle numero: 4\\n\\nLe juge qui refusera de juger, sous prétexte du silence, de l'obscurité ou de l'insuffisance de la loi, pourra être poursuivi comme coupable de déni de justice.\", \"Nom du code: Code civil\\nlivre: Des différentes manières dont on acquiert la propriété\\ntitre: Du contrat de louage\\nchapitre: Du louage d'ouvrage et d'industrie.\\nsection: Des voituriers par terre et par eau.\\nid: 1784\\nArticle numero: 1784\\n\\nIls sont responsables de la perte et des avaries des choses qui leur sont confiées, à moins qu'ils ne prouvent qu'elles ont été perdues et avariées par cas fortuit ou force majeure.\\nNom du code: Code civil\\nlivre: Des différentes manières dont on acquiert la propriété\\ntitre: Du contrat de louage\\nchapitre: Du louage d'ouvrage et d'industrie.\\nsection: Des voituriers par terre et par eau.\\nid: 1785\\nArticle numero: 1785\\n\\nLes entrepreneurs de voitures publiques par terre et par eau, et ceux des roulages publics, doivent tenir registre de l'argent, des effets et des paquets dont ils se chargent.\\nNom du code: Code civil\\nlivre: Des différentes manières dont on acquiert la propriété\\ntitre: Du contrat de louage\\nchapitre: Du louage d'ouvrage et d'industrie.\\nsection: Des voituriers par terre et par eau.\\nid: 1786\\nArticle numero: 1786\\n\\nLes entrepreneurs et directeurs de voitures et roulages publics, les maîtres de barques et navires, sont en outre assujettis à des règlements particuliers, qui font la loi entre eux et les autres citoyens.\", \"Nom du code: Code civil\\nlivre: Des personnes\\ntitre: De la nationalité française\\nchapitre: De l'acquisition de la nationalité française\\nsection: Des modes d'acquisition de la nationalité française\\nparagraphe: De la cérémonie d'accueil dans la citoyenneté française\\nid: 21-28\\nArticle numero: 21-28\\n\\nLe représentant de l'Etat dans le département ou, à Paris, le préfet de police organise, dans un délai de six mois à compter de l'acquisition de la nationalité française, une cérémonie d'accueil dans la citoyenneté française à l'intention des personnes résidant dans le département visées aux articles 21-2, 21-11, 21-12, 21-13-1, 21-13-2, 21-14, 21-14-1, 21-15, 24-1, 24-2 et 32-4 du présent code ainsi qu'à l'article 2 de la loi n° 64-1328 du 26 décembre 1964 autorisant l'approbation de la convention du Conseil de l'Europe sur la réduction des cas de pluralité de nationalités et sur les obligations militaires en cas de pluralité de nationalités, signée à Strasbourg le 6 mai 1963.\\nLes députés et les sénateurs élus dans le département sont invités à la cérémonie d'accueil.\\nLes personnes ayant acquis de plein droit la nationalité française en application de l'article 21-7 sont invitées à cette cérémonie dans un délai de six mois à compter de la délivrance du certificat de nationalité française mentionné à l'article 31.\\nAu cours de la cérémonie d'accueil, la charte des droits et devoirs du citoyen français mentionnée à l'article 21-24 est remise aux personnes ayant acquis la nationalité française visées aux premier et troisième alinéas.\\nNom du code: Code civil\\nlivre: Des personnes\\ntitre: De la nationalité française\\nchapitre: De l'acquisition de la nationalité française\\nsection: Des modes d'acquisition de la nationalité française\\nparagraphe: De la cérémonie d'accueil dans la citoyenneté française\\nid: 21-29\\nArticle numero: 21-29\\n\\nLe représentant de l'Etat dans le département ou, à Paris, le préfet de police communique au maire, en sa qualité d'officier d'état civil, l'identité et l'adresse des personnes résidant dans la commune susceptibles de bénéficier de la cérémonie d'accueil dans la citoyenneté française.\\nLorsque le maire en fait la demande, il peut l'autoriser à organiser, en sa qualité d'officier d'état civil, la cérémonie d'accueil dans la citoyenneté française.\\nNom du code: Code civil\\nlivre: Des personnes\\ntitre: De la nationalité française\\nchapitre: De l'acquisition de la nationalité française\\nsection: Des modes d'acquisition de la nationalité française\\nparagraphe: Dispositions communes à certains modes d'acquisition de la nationalité française\\nid: 21-26\\nArticle numero: 21-26\\n\\nEst assimilé à la résidence en France lorsque cette résidence constitue une condition de l'acquisition de la nationalité française :\\n1° Le séjour hors de France d'un étranger qui exerce une activité professionnelle publique ou privée pour le compte de l'Etat français ou d'un organisme dont l'activité présente un intérêt particulier pour l'économie ou la culture française ;\\n2° Le séjour dans les pays en union douanière avec la France qui sont désignés par décret ;\\n3° La présence hors de France, en temps de paix comme en temps de guerre, dans une formation régulière de l'armée française ou au titre des obligations prévues par le livre II du code du service national ;\\n4° Le séjour hors de France en qualité de volontaire du service national.\\nL'assimilation de résidence qui profite à l'un des époux s'étend à l'autre s'ils habitent effectivement ensemble.\", 'Nom du code: Code civil\\nlivre: Des différentes manières dont on acquiert la propriété\\ntitre: Du contrat de louage\\nchapitre: Du louage d\\'ouvrage et d\\'industrie.\\nsection: Des voituriers par terre et par eau.\\nid: 1782\\nArticle numero: 1782\\n\\nLes voituriers par terre et par eau sont assujettis, pour la garde et la conservation des choses qui leur sont confiées, aux mêmes obligations que les aubergistes, dont il est parlé au titre \" Du dépôt et du séquestre \".\\nNom du code: Code civil\\nlivre: Des différentes manières dont on acquiert la propriété\\ntitre: Du contrat de louage\\nchapitre: Du louage d\\'ouvrage et d\\'industrie.\\nsection: Des voituriers par terre et par eau.\\nid: 1783\\nArticle numero: 1783\\n\\nIls répondent non seulement de ce qu\\'ils ont déjà reçu dans leur bâtiment ou voiture, mais encore de ce qui leur a été remis sur le port ou dans l\\'entrepôt, pour être placé dans leur bâtiment ou voiture.\\nNom du code: Code civil\\nlivre: Des différentes manières dont on acquiert la propriété\\ntitre: Du contrat de louage\\nchapitre: Du louage d\\'ouvrage et d\\'industrie.\\nsection: Des voituriers par terre et par eau.\\nid: 1784\\nArticle numero: 1784\\n\\nIls sont responsables de la perte et des avaries des choses qui leur sont confiées, à moins qu\\'ils ne prouvent qu\\'elles ont été perdues et avariées par cas fortuit ou force majeure.', 'Nom du code: Code civil\\nlivre: Des différentes manières dont on acquiert la propriété\\ntitre: Du contrat de louage\\nchapitre: Du louage d\\'ouvrage et d\\'industrie.\\nsection: Des devis et des marchés.\\nid: 1799-1\\nArticle numero: 1799-1\\n\\nLe maître de l\\'ouvrage qui conclut un marché de travaux privé visé au 3° de l\\'article 1779 doit garantir à l\\'entrepreneur le paiement des sommes dues lorsque celles-ci dépassent un seuil fixé par décret en Conseil d\\'Etat.\\nLorsque le maître de l\\'ouvrage recourt à un crédit spécifique pour financer les travaux, l\\'établissement de crédit ne peut verser le montant du prêt à une personne autre que celles mentionnées au 3° de l\\'article 1779 tant que celles-ci n\\'ont pas reçu le paiement de l\\'intégralité de la créance née du marché correspondant au prêt. Les versements se font sur l\\'ordre écrit et sous la responsabilité exclusive du maître de l\\'ouvrage entre les mains de la personne ou d\\'un mandataire désigné à cet effet.\\nLorsque le maître de l\\'ouvrage ne recourt pas à un crédit spécifique ou lorsqu\\'il y recourt partiellement, et à défaut de garantie résultant d\\'une stipulation particulière, le paiement est garanti par un cautionnement solidaire consenti par un établissement de crédit, une société de financement, une entreprise d\\'assurance ou un organisme de garantie collective, selon des modalités fixées par décret en Conseil d\\'Etat. Tant qu\\'aucune garantie n\\'a été fournie et que l\\'entrepreneur demeure impayé des travaux exécutés, celui-ci peut surseoir à l\\'exécution du contrat après mise en demeure restée sans effet à l\\'issue d\\'un délai de quinze jours.\\nLes dispositions de l\\'alinéa précédent ne s\\'appliquent pas lorsque le maître de l\\'ouvrage conclut un marché de travaux pour son propre compte et pour la satisfaction de besoins ne ressortissant pas à une activité professionnelle en rapport avec ce marché.\\nLes dispositions du présent article ne s\\'appliquent pas aux marchés conclus par un organisme visé à l\\'article L. 411-2 du code de la construction et de l\\'habitation, ou par une société d\\'économie mixte, pour des logements à usage locatif aidés par l\\'Etat et réalisés par cet organisme ou cette société.\\nNom du code: Code civil\\nlivre: Des différentes manières dont on acquiert la propriété\\ntitre: Du contrat de louage\\nchapitre: Du louage d\\'ouvrage et d\\'industrie.\\nsection: Des voituriers par terre et par eau.\\nid: 1782\\nArticle numero: 1782\\n\\nLes voituriers par terre et par eau sont assujettis, pour la garde et la conservation des choses qui leur sont confiées, aux mêmes obligations que les aubergistes, dont il est parlé au titre \" Du dépôt et du séquestre \".\\nNom du code: Code civil\\nlivre: Des différentes manières dont on acquiert la propriété\\ntitre: Du contrat de louage\\nchapitre: Du louage d\\'ouvrage et d\\'industrie.\\nsection: Des voituriers par terre et par eau.\\nid: 1783\\nArticle numero: 1783\\n\\nIls répondent non seulement de ce qu\\'ils ont déjà reçu dans leur bâtiment ou voiture, mais encore de ce qui leur a été remis sur le port ou dans l\\'entrepôt, pour être placé dans leur bâtiment ou voiture.'], response='According to the Code civil and article 3, \"Les lois de police et de sûreté obligent tous ceux qui habitent le territoire.\"', passing=True, feedback='YES', score=1.0, pairwise_source=None, invalid_result=False, invalid_reason=None)"
      ]
     },
     "execution_count": 11,
     "metadata": {},
     "output_type": "execute_result"
    }
   ],
   "source": [
    "eval_result"
   ]
  },
  {
   "cell_type": "code",
   "execution_count": 3,
   "metadata": {},
   "outputs": [],
   "source": [
    "resp = query_engine_window.query(\"art 1\")"
   ]
  },
  {
   "cell_type": "code",
   "execution_count": 4,
   "metadata": {},
   "outputs": [
    {
     "data": {
      "text/plain": [
       "3"
      ]
     },
     "execution_count": 4,
     "metadata": {},
     "output_type": "execute_result"
    }
   ],
   "source": [
    "import string\n",
    "content = resp.source_nodes[4].get_content()\n",
    "content.count(\"Nom du code\")"
   ]
  },
  {
   "cell_type": "code",
   "execution_count": 5,
   "metadata": {},
   "outputs": [
    {
     "data": {
      "text/plain": [
       "[2, 3]"
      ]
     },
     "execution_count": 5,
     "metadata": {},
     "output_type": "execute_result"
    }
   ],
   "source": [
    "a = [2, 3, 4, 5, 6, 7, 8, 9, 10]\n",
    "\n",
    "a[1-1:1+1]"
   ]
  },
  {
   "cell_type": "markdown",
   "metadata": {},
   "source": [
    "| Month    | Savings |\n",
    "| -------- | ------- |\n",
    "| January  | $250    |\n",
    "| February | $80     |\n",
    "| March    | $420    |"
   ]
  },
  {
   "cell_type": "code",
   "execution_count": 3,
   "metadata": {},
   "outputs": [
    {
     "name": "stderr",
     "output_type": "stream",
     "text": [
      "  0%|          | 0/2 [00:00<?, ?it/s]huggingface/tokenizers: The current process just got forked, after parallelism has already been used. Disabling parallelism to avoid deadlocks...\n",
      "To disable this warning, you can either:\n",
      "\t- Avoid using `tokenizers` before the fork if possible\n",
      "\t- Explicitly set the environment variable TOKENIZERS_PARALLELISM=(true | false)\n",
      "100%|██████████| 2/2 [00:11<00:00,  5.90s/it]\n"
     ]
    }
   ],
   "source": [
    "out = evaluate(query_engine=query_engine, list_metrics=[\"context_relevancy\"], exp_name=\"basic\", code_name=\"code_civil\")"
   ]
  },
  {
   "cell_type": "code",
   "execution_count": 5,
   "metadata": {},
   "outputs": [
    {
     "data": {
      "text/html": [
       "<div>\n",
       "<style scoped>\n",
       "    .dataframe tbody tr th:only-of-type {\n",
       "        vertical-align: middle;\n",
       "    }\n",
       "\n",
       "    .dataframe tbody tr th {\n",
       "        vertical-align: top;\n",
       "    }\n",
       "\n",
       "    .dataframe thead th {\n",
       "        text-align: right;\n",
       "    }\n",
       "</style>\n",
       "<table border=\"1\" class=\"dataframe\">\n",
       "  <thead>\n",
       "    <tr style=\"text-align: right;\">\n",
       "      <th></th>\n",
       "      <th>rag</th>\n",
       "      <th>query</th>\n",
       "      <th>answer</th>\n",
       "      <th>contexts</th>\n",
       "      <th>scores</th>\n",
       "      <th>feedbacks</th>\n",
       "    </tr>\n",
       "  </thead>\n",
       "  <tbody>\n",
       "    <tr>\n",
       "      <th>0</th>\n",
       "      <td>basic</td>\n",
       "      <td>Quelles sont les conditions requises pour qu'u...</td>\n",
       "      <td>None</td>\n",
       "      <td>[Le présent code est applicable à Mayotte dans...</td>\n",
       "      <td>0.125</td>\n",
       "      <td>1. The retrieved context does not match the su...</td>\n",
       "    </tr>\n",
       "    <tr>\n",
       "      <th>1</th>\n",
       "      <td>basic</td>\n",
       "      <td>Comment peut-on établir la filiation d'un enfa...</td>\n",
       "      <td>None</td>\n",
       "      <td>[Le titre de propriété et ses inscriptions con...</td>\n",
       "      <td>0.000</td>\n",
       "      <td>1. The retrieved context does not match the su...</td>\n",
       "    </tr>\n",
       "  </tbody>\n",
       "</table>\n",
       "</div>"
      ],
      "text/plain": [
       "     rag                                              query answer  \\\n",
       "0  basic  Quelles sont les conditions requises pour qu'u...   None   \n",
       "1  basic  Comment peut-on établir la filiation d'un enfa...   None   \n",
       "\n",
       "                                            contexts  scores  \\\n",
       "0  [Le présent code est applicable à Mayotte dans...   0.125   \n",
       "1  [Le titre de propriété et ses inscriptions con...   0.000   \n",
       "\n",
       "                                           feedbacks  \n",
       "0  1. The retrieved context does not match the su...  \n",
       "1  1. The retrieved context does not match the su...  "
      ]
     },
     "execution_count": 5,
     "metadata": {},
     "output_type": "execute_result"
    }
   ],
   "source": [
    "out[\"CONTEXT_RELEVANCY\"]"
   ]
  },
  {
   "cell_type": "code",
   "execution_count": 6,
   "metadata": {},
   "outputs": [],
   "source": [
    "df = pd.read_csv(\"data/evaluation_results/basic_code_civil_metrics.csv\")"
   ]
  },
  {
   "cell_type": "code",
   "execution_count": 5,
   "metadata": {},
   "outputs": [
    {
     "data": {
      "text/html": [
       "<div>\n",
       "<style scoped>\n",
       "    .dataframe tbody tr th:only-of-type {\n",
       "        vertical-align: middle;\n",
       "    }\n",
       "\n",
       "    .dataframe tbody tr th {\n",
       "        vertical-align: top;\n",
       "    }\n",
       "\n",
       "    .dataframe thead th {\n",
       "        text-align: right;\n",
       "    }\n",
       "</style>\n",
       "<table border=\"1\" class=\"dataframe\">\n",
       "  <thead>\n",
       "    <tr style=\"text-align: right;\">\n",
       "      <th></th>\n",
       "      <th>Unnamed: 0</th>\n",
       "      <th>rag</th>\n",
       "      <th>query</th>\n",
       "      <th>answer</th>\n",
       "      <th>contexts</th>\n",
       "      <th>scores</th>\n",
       "      <th>feedbacks</th>\n",
       "      <th>metric</th>\n",
       "    </tr>\n",
       "  </thead>\n",
       "  <tbody>\n",
       "    <tr>\n",
       "      <th>0</th>\n",
       "      <td>0</td>\n",
       "      <td>basic</td>\n",
       "      <td>Quelles sont les conditions requises pour qu'u...</td>\n",
       "      <td>NaN</td>\n",
       "      <td>['Le présent code est applicable à Mayotte dan...</td>\n",
       "      <td>0.0</td>\n",
       "      <td>1. The retrieved context does not match the su...</td>\n",
       "      <td>context_relevancy</td>\n",
       "    </tr>\n",
       "    <tr>\n",
       "      <th>1</th>\n",
       "      <td>1</td>\n",
       "      <td>basic</td>\n",
       "      <td>Comment peut-on établir la filiation d'un enfa...</td>\n",
       "      <td>NaN</td>\n",
       "      <td>[\"Le titre de propriété et ses inscriptions co...</td>\n",
       "      <td>0.0</td>\n",
       "      <td>1. The retrieved context does not match the su...</td>\n",
       "      <td>context_relevancy</td>\n",
       "    </tr>\n",
       "  </tbody>\n",
       "</table>\n",
       "</div>"
      ],
      "text/plain": [
       "   Unnamed: 0    rag                                              query  \\\n",
       "0           0  basic  Quelles sont les conditions requises pour qu'u...   \n",
       "1           1  basic  Comment peut-on établir la filiation d'un enfa...   \n",
       "\n",
       "   answer                                           contexts  scores  \\\n",
       "0     NaN  ['Le présent code est applicable à Mayotte dan...     0.0   \n",
       "1     NaN  [\"Le titre de propriété et ses inscriptions co...     0.0   \n",
       "\n",
       "                                           feedbacks             metric  \n",
       "0  1. The retrieved context does not match the su...  context_relevancy  \n",
       "1  1. The retrieved context does not match the su...  context_relevancy  "
      ]
     },
     "execution_count": 5,
     "metadata": {},
     "output_type": "execute_result"
    }
   ],
   "source": [
    "df"
   ]
  },
  {
   "cell_type": "code",
   "execution_count": 7,
   "metadata": {},
   "outputs": [
    {
     "data": {
      "text/html": [
       "<div>\n",
       "<style scoped>\n",
       "    .dataframe tbody tr th:only-of-type {\n",
       "        vertical-align: middle;\n",
       "    }\n",
       "\n",
       "    .dataframe tbody tr th {\n",
       "        vertical-align: top;\n",
       "    }\n",
       "\n",
       "    .dataframe thead th {\n",
       "        text-align: right;\n",
       "    }\n",
       "</style>\n",
       "<table border=\"1\" class=\"dataframe\">\n",
       "  <thead>\n",
       "    <tr style=\"text-align: right;\">\n",
       "      <th></th>\n",
       "      <th>metrics</th>\n",
       "      <th>basic</th>\n",
       "    </tr>\n",
       "  </thead>\n",
       "  <tbody>\n",
       "    <tr>\n",
       "      <th>0</th>\n",
       "      <td>mean_context_relevancy_score</td>\n",
       "      <td>0.0</td>\n",
       "    </tr>\n",
       "  </tbody>\n",
       "</table>\n",
       "</div>"
      ],
      "text/plain": [
       "                        metrics  basic\n",
       "0  mean_context_relevancy_score    0.0"
      ]
     },
     "execution_count": 7,
     "metadata": {},
     "output_type": "execute_result"
    }
   ],
   "source": [
    "df"
   ]
  },
  {
   "cell_type": "code",
   "execution_count": null,
   "metadata": {},
   "outputs": [],
   "source": []
  }
 ],
 "metadata": {
  "kernelspec": {
   "display_name": "rag",
   "language": "python",
   "name": "python3"
  },
  "language_info": {
   "codemirror_mode": {
    "name": "ipython",
    "version": 3
   },
   "file_extension": ".py",
   "mimetype": "text/x-python",
   "name": "python",
   "nbconvert_exporter": "python",
   "pygments_lexer": "ipython3",
   "version": "3.11.8"
  }
 },
 "nbformat": 4,
 "nbformat_minor": 2
}
